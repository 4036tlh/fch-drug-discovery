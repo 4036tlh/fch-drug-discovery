{
 "cells": [
  {
   "cell_type": "markdown",
   "metadata": {},
   "source": [
    "# Description\n",
    "\n",
    "This notebook is used to tabulate final results and compare novel generated molecules vs HIV inhibitors vs Remdesivir which entered clinical trials just a few days ago."
   ]
  },
  {
   "cell_type": "markdown",
   "metadata": {},
   "source": [
    "## Now the best results and save to sdf for last double check tabulation in PyRx"
   ]
  },
  {
   "cell_type": "code",
   "execution_count": 1,
   "metadata": {
    "scrolled": true
   },
   "outputs": [],
   "source": [
    "import pandas as pd\n",
    "from rdkit import Chem, DataStructs\n",
    "import random\n",
    "import numpy as np\n",
    "import rdkit.Chem.PropertyMol"
   ]
  },
  {
   "cell_type": "code",
   "execution_count": 2,
   "metadata": {
    "scrolled": true
   },
   "outputs": [
    {
     "name": "stdout",
     "output_type": "stream",
     "text": [
      "(13193, 7)\n"
     ]
    },
    {
     "data": {
      "text/html": [
       "<div>\n",
       "<style scoped>\n",
       "    .dataframe tbody tr th:only-of-type {\n",
       "        vertical-align: middle;\n",
       "    }\n",
       "\n",
       "    .dataframe tbody tr th {\n",
       "        vertical-align: top;\n",
       "    }\n",
       "\n",
       "    .dataframe thead th {\n",
       "        text-align: right;\n",
       "    }\n",
       "</style>\n",
       "<table border=\"1\" class=\"dataframe\">\n",
       "  <thead>\n",
       "    <tr style=\"text-align: right;\">\n",
       "      <th></th>\n",
       "      <th>id</th>\n",
       "      <th>gen</th>\n",
       "      <th>smile</th>\n",
       "      <th>source</th>\n",
       "      <th>weight</th>\n",
       "      <th>logp</th>\n",
       "      <th>score</th>\n",
       "    </tr>\n",
       "  </thead>\n",
       "  <tbody>\n",
       "    <tr>\n",
       "      <th>0</th>\n",
       "      <td>ABZJ</td>\n",
       "      <td>11</td>\n",
       "      <td>CC1CCCCCCCCCCCCCCCCCCCCCCCCCCCCCCCCCCCCCCCCCCC...</td>\n",
       "      <td>generated</td>\n",
       "      <td>1312.235</td>\n",
       "      <td>32.3335</td>\n",
       "      <td>-16.0</td>\n",
       "    </tr>\n",
       "    <tr>\n",
       "      <th>1</th>\n",
       "      <td>ABOH</td>\n",
       "      <td>12</td>\n",
       "      <td>CC1C=CCCCCCCCCCCCCCCCCCCCCCCCCCCCCCCCCCCCCCCCC...</td>\n",
       "      <td>generated</td>\n",
       "      <td>1286.367</td>\n",
       "      <td>34.1331</td>\n",
       "      <td>-15.8</td>\n",
       "    </tr>\n",
       "    <tr>\n",
       "      <th>2</th>\n",
       "      <td>ABKL</td>\n",
       "      <td>10</td>\n",
       "      <td>CC1CCCCCCCCCCCCCCCCCCCCCCCCCCCCCCCCCCCCCCCCCCC...</td>\n",
       "      <td>generated</td>\n",
       "      <td>1264.191</td>\n",
       "      <td>31.4891</td>\n",
       "      <td>-15.6</td>\n",
       "    </tr>\n",
       "    <tr>\n",
       "      <th>3</th>\n",
       "      <td>ABJD</td>\n",
       "      <td>11</td>\n",
       "      <td>CC1CCCCCCCCCCCCCCCCCCCCCCCCCCCCCCCCCCCCCCCCCCC...</td>\n",
       "      <td>generated</td>\n",
       "      <td>1384.386</td>\n",
       "      <td>34.3280</td>\n",
       "      <td>-15.6</td>\n",
       "    </tr>\n",
       "    <tr>\n",
       "      <th>4</th>\n",
       "      <td>ACIQ</td>\n",
       "      <td>11</td>\n",
       "      <td>CC1CCCCCCCCCCCCCCCCCCCCCCCCCCCCCC2CCCCCCCCCCCC...</td>\n",
       "      <td>generated</td>\n",
       "      <td>1290.229</td>\n",
       "      <td>32.4477</td>\n",
       "      <td>-15.6</td>\n",
       "    </tr>\n",
       "  </tbody>\n",
       "</table>\n",
       "</div>"
      ],
      "text/plain": [
       "     id  gen                                              smile     source  \\\n",
       "0  ABZJ   11  CC1CCCCCCCCCCCCCCCCCCCCCCCCCCCCCCCCCCCCCCCCCCC...  generated   \n",
       "1  ABOH   12  CC1C=CCCCCCCCCCCCCCCCCCCCCCCCCCCCCCCCCCCCCCCCC...  generated   \n",
       "2  ABKL   10  CC1CCCCCCCCCCCCCCCCCCCCCCCCCCCCCCCCCCCCCCCCCCC...  generated   \n",
       "3  ABJD   11  CC1CCCCCCCCCCCCCCCCCCCCCCCCCCCCCCCCCCCCCCCCCCC...  generated   \n",
       "4  ACIQ   11  CC1CCCCCCCCCCCCCCCCCCCCCCCCCCCCCC2CCCCCCCCCCCC...  generated   \n",
       "\n",
       "     weight     logp  score  \n",
       "0  1312.235  32.3335  -16.0  \n",
       "1  1286.367  34.1331  -15.8  \n",
       "2  1264.191  31.4891  -15.6  \n",
       "3  1384.386  34.3280  -15.6  \n",
       "4  1290.229  32.4477  -15.6  "
      ]
     },
     "execution_count": 2,
     "metadata": {},
     "output_type": "execute_result"
    }
   ],
   "source": [
    "# './generations/master_results_table_gen10.csv'\n",
    "\n",
    "final = pd.read_csv('./generations/master_results_table_gen12.csv',sep=',')\n",
    "final = final.sort_values('score', ascending=True)\n",
    "print(final.shape)\n",
    "final.head()"
   ]
  },
  {
   "cell_type": "code",
   "execution_count": 3,
   "metadata": {
    "scrolled": true
   },
   "outputs": [
    {
     "name": "stdout",
     "output_type": "stream",
     "text": [
      "(13136, 3)\n"
     ]
    },
    {
     "data": {
      "text/html": [
       "<div>\n",
       "<style scoped>\n",
       "    .dataframe tbody tr th:only-of-type {\n",
       "        vertical-align: middle;\n",
       "    }\n",
       "\n",
       "    .dataframe tbody tr th {\n",
       "        vertical-align: top;\n",
       "    }\n",
       "\n",
       "    .dataframe thead th {\n",
       "        text-align: right;\n",
       "    }\n",
       "</style>\n",
       "<table border=\"1\" class=\"dataframe\">\n",
       "  <thead>\n",
       "    <tr style=\"text-align: right;\">\n",
       "      <th></th>\n",
       "      <th>smile</th>\n",
       "      <th>score</th>\n",
       "      <th>gen</th>\n",
       "    </tr>\n",
       "  </thead>\n",
       "  <tbody>\n",
       "    <tr>\n",
       "      <th>7448</th>\n",
       "      <td>CC1CCCCCCCCCCCCCCCCCCCCCCCCCCCCCCCCCCCCCCCCCCC...</td>\n",
       "      <td>-16.0</td>\n",
       "      <td>11</td>\n",
       "    </tr>\n",
       "    <tr>\n",
       "      <th>6177</th>\n",
       "      <td>CC1C=CCCCCCCCCCCCCCCCCCCCCCCCCCCCCCCCCCCCCCCCC...</td>\n",
       "      <td>-15.8</td>\n",
       "      <td>12</td>\n",
       "    </tr>\n",
       "    <tr>\n",
       "      <th>7485</th>\n",
       "      <td>CC1CCCCCCCCCCCCCCCCCCCCCCCCCCCCCCCCCCCCCCCCCCC...</td>\n",
       "      <td>-15.6</td>\n",
       "      <td>11</td>\n",
       "    </tr>\n",
       "    <tr>\n",
       "      <th>7207</th>\n",
       "      <td>CC1CCCCCCCCCCCCCCCCCCCCCCCCCCCCCC2CCCCCCCCCCCC...</td>\n",
       "      <td>-15.6</td>\n",
       "      <td>11</td>\n",
       "    </tr>\n",
       "    <tr>\n",
       "      <th>7450</th>\n",
       "      <td>CC1CCCCCCCCCCCCCCCCCCCCCCCCCCCCCCCCCCCCCCCCCCC...</td>\n",
       "      <td>-15.6</td>\n",
       "      <td>10</td>\n",
       "    </tr>\n",
       "  </tbody>\n",
       "</table>\n",
       "</div>"
      ],
      "text/plain": [
       "                                                  smile  score  gen\n",
       "7448  CC1CCCCCCCCCCCCCCCCCCCCCCCCCCCCCCCCCCCCCCCCCCC...  -16.0   11\n",
       "6177  CC1C=CCCCCCCCCCCCCCCCCCCCCCCCCCCCCCCCCCCCCCCCC...  -15.8   12\n",
       "7485  CC1CCCCCCCCCCCCCCCCCCCCCCCCCCCCCCCCCCCCCCCCCCC...  -15.6   11\n",
       "7207  CC1CCCCCCCCCCCCCCCCCCCCCCCCCCCCCC2CCCCCCCCCCCC...  -15.6   11\n",
       "7450  CC1CCCCCCCCCCCCCCCCCCCCCCCCCCCCCCCCCCCCCCCCCCC...  -15.6   10"
      ]
     },
     "execution_count": 3,
     "metadata": {},
     "output_type": "execute_result"
    }
   ],
   "source": [
    "final_max = final.groupby(\"smile\").max()[[\"score\",\"gen\"]].reset_index()\n",
    "final_max = final_max.sort_values('score', ascending=True)\n",
    "print(final_max.shape)\n",
    "final_max.head()"
   ]
  },
  {
   "cell_type": "code",
   "execution_count": 4,
   "metadata": {
    "scrolled": true
   },
   "outputs": [
    {
     "name": "stdout",
     "output_type": "stream",
     "text": [
      "(1222, 7)\n"
     ]
    },
    {
     "data": {
      "text/html": [
       "<div>\n",
       "<style scoped>\n",
       "    .dataframe tbody tr th:only-of-type {\n",
       "        vertical-align: middle;\n",
       "    }\n",
       "\n",
       "    .dataframe tbody tr th {\n",
       "        vertical-align: top;\n",
       "    }\n",
       "\n",
       "    .dataframe thead th {\n",
       "        text-align: right;\n",
       "    }\n",
       "</style>\n",
       "<table border=\"1\" class=\"dataframe\">\n",
       "  <thead>\n",
       "    <tr style=\"text-align: right;\">\n",
       "      <th></th>\n",
       "      <th>smile</th>\n",
       "      <th>gen</th>\n",
       "      <th>id</th>\n",
       "      <th>source</th>\n",
       "      <th>weight</th>\n",
       "      <th>logp</th>\n",
       "      <th>score</th>\n",
       "    </tr>\n",
       "  </thead>\n",
       "  <tbody>\n",
       "    <tr>\n",
       "      <th>117</th>\n",
       "      <td>CC1C=CC=C(C(=O)Nc2nnnn2N2CCN(C(=O)Nc3nnnnn3)C2...</td>\n",
       "      <td>12</td>\n",
       "      <td>AAWE</td>\n",
       "      <td>generated</td>\n",
       "      <td>703.727</td>\n",
       "      <td>4.9502</td>\n",
       "      <td>-13.6</td>\n",
       "    </tr>\n",
       "    <tr>\n",
       "      <th>187</th>\n",
       "      <td>CC1C=CC=C(C(=O)Nc2nnnn2N2CCN(C(=O)Nc3nnnnn3)C2...</td>\n",
       "      <td>12</td>\n",
       "      <td>ABQA</td>\n",
       "      <td>generated</td>\n",
       "      <td>815.779</td>\n",
       "      <td>2.3371</td>\n",
       "      <td>-13.3</td>\n",
       "    </tr>\n",
       "    <tr>\n",
       "      <th>297</th>\n",
       "      <td>CC1CCC(C(=O)Nc2nnnn2N2CCN(C(=O)Nc3nnnnn3)C2=O)...</td>\n",
       "      <td>12</td>\n",
       "      <td>AANY</td>\n",
       "      <td>generated</td>\n",
       "      <td>693.732</td>\n",
       "      <td>4.8744</td>\n",
       "      <td>-13.1</td>\n",
       "    </tr>\n",
       "    <tr>\n",
       "      <th>343</th>\n",
       "      <td>CC1C=CCCC(C(=O)Nc2nnnn2N2CCN(C(=O)Nc3nnnnn3)C2...</td>\n",
       "      <td>12</td>\n",
       "      <td>ABFU</td>\n",
       "      <td>generated</td>\n",
       "      <td>671.682</td>\n",
       "      <td>3.4789</td>\n",
       "      <td>-13.0</td>\n",
       "    </tr>\n",
       "    <tr>\n",
       "      <th>400</th>\n",
       "      <td>CC1C=CCCC(C(=O)Nc2nnnn2-c2ccccc2C2=CC=C(C(=O)N...</td>\n",
       "      <td>12</td>\n",
       "      <td>ABDR</td>\n",
       "      <td>generated</td>\n",
       "      <td>561.566</td>\n",
       "      <td>2.3443</td>\n",
       "      <td>-12.8</td>\n",
       "    </tr>\n",
       "  </tbody>\n",
       "</table>\n",
       "</div>"
      ],
      "text/plain": [
       "                                                 smile  gen    id     source  \\\n",
       "117  CC1C=CC=C(C(=O)Nc2nnnn2N2CCN(C(=O)Nc3nnnnn3)C2...   12  AAWE  generated   \n",
       "187  CC1C=CC=C(C(=O)Nc2nnnn2N2CCN(C(=O)Nc3nnnnn3)C2...   12  ABQA  generated   \n",
       "297  CC1CCC(C(=O)Nc2nnnn2N2CCN(C(=O)Nc3nnnnn3)C2=O)...   12  AANY  generated   \n",
       "343  CC1C=CCCC(C(=O)Nc2nnnn2N2CCN(C(=O)Nc3nnnnn3)C2...   12  ABFU  generated   \n",
       "400  CC1C=CCCC(C(=O)Nc2nnnn2-c2ccccc2C2=CC=C(C(=O)N...   12  ABDR  generated   \n",
       "\n",
       "      weight    logp  score  \n",
       "117  703.727  4.9502  -13.6  \n",
       "187  815.779  2.3371  -13.3  \n",
       "297  693.732  4.8744  -13.1  \n",
       "343  671.682  3.4789  -13.0  \n",
       "400  561.566  2.3443  -12.8  "
      ]
     },
     "execution_count": 4,
     "metadata": {},
     "output_type": "execute_result"
    }
   ],
   "source": [
    "final_joined = pd.merge(final_max, final, on=['smile','gen'], suffixes=('_old','_new'), how='left')\n",
    "\n",
    "# final_joined = final_joined[(final_joined['score_new'] <= -15.0) & (final_joined['weight'] < 900)]\n",
    "final_joined = final_joined[(final_joined['score_new'] <= -7.8) & (final_joined['logp']<5)]\n",
    "\n",
    "final_joined['score'] = final_joined['score_new']\n",
    "final_joined = final_joined.drop('score_old', axis=1)\n",
    "final_joined = final_joined.drop('score_new', axis=1)\n",
    "print(final_joined.shape)\n",
    "final_joined.head(5)"
   ]
  },
  {
   "cell_type": "code",
   "execution_count": 7,
   "metadata": {
    "scrolled": false
   },
   "outputs": [
    {
     "data": {
      "text/html": [
       "<div>\n",
       "<style scoped>\n",
       "    .dataframe tbody tr th:only-of-type {\n",
       "        vertical-align: middle;\n",
       "    }\n",
       "\n",
       "    .dataframe tbody tr th {\n",
       "        vertical-align: top;\n",
       "    }\n",
       "\n",
       "    .dataframe thead th {\n",
       "        text-align: right;\n",
       "    }\n",
       "</style>\n",
       "<table border=\"1\" class=\"dataframe\">\n",
       "  <thead>\n",
       "    <tr style=\"text-align: right;\">\n",
       "      <th></th>\n",
       "      <th>id</th>\n",
       "      <th>gen</th>\n",
       "      <th>smile</th>\n",
       "      <th>source</th>\n",
       "      <th>weight</th>\n",
       "      <th>logp</th>\n",
       "      <th>score</th>\n",
       "      <th>score_best</th>\n",
       "      <th>score_avg</th>\n",
       "      <th>similarity_to_hiv_inhibitors</th>\n",
       "      <th>similarity_to_remdesivir</th>\n",
       "    </tr>\n",
       "  </thead>\n",
       "  <tbody>\n",
       "    <tr>\n",
       "      <th>0</th>\n",
       "      <td>AAWE</td>\n",
       "      <td>12</td>\n",
       "      <td>CC1C=CC=C(C(=O)Nc2nnnn2N2CCN(C(=O)Nc3nnnnn3)C2...</td>\n",
       "      <td>generated</td>\n",
       "      <td>703.727</td>\n",
       "      <td>4.9502</td>\n",
       "      <td>-13.6</td>\n",
       "      <td>-13.6</td>\n",
       "      <td>-12.933333</td>\n",
       "      <td>0.451717</td>\n",
       "      <td>0.607641</td>\n",
       "    </tr>\n",
       "    <tr>\n",
       "      <th>1</th>\n",
       "      <td>ABQA</td>\n",
       "      <td>12</td>\n",
       "      <td>CC1C=CC=C(C(=O)Nc2nnnn2N2CCN(C(=O)Nc3nnnnn3)C2...</td>\n",
       "      <td>generated</td>\n",
       "      <td>815.779</td>\n",
       "      <td>2.3371</td>\n",
       "      <td>-13.3</td>\n",
       "      <td>-13.3</td>\n",
       "      <td>-12.377778</td>\n",
       "      <td>0.487943</td>\n",
       "      <td>0.680991</td>\n",
       "    </tr>\n",
       "    <tr>\n",
       "      <th>2</th>\n",
       "      <td>AANY</td>\n",
       "      <td>12</td>\n",
       "      <td>CC1CCC(C(=O)Nc2nnnn2N2CCN(C(=O)Nc3nnnnn3)C2=O)...</td>\n",
       "      <td>generated</td>\n",
       "      <td>693.732</td>\n",
       "      <td>4.8744</td>\n",
       "      <td>-13.1</td>\n",
       "      <td>-13.1</td>\n",
       "      <td>-11.988889</td>\n",
       "      <td>0.449364</td>\n",
       "      <td>0.585162</td>\n",
       "    </tr>\n",
       "    <tr>\n",
       "      <th>3</th>\n",
       "      <td>ABFU</td>\n",
       "      <td>12</td>\n",
       "      <td>CC1C=CCCC(C(=O)Nc2nnnn2N2CCN(C(=O)Nc3nnnnn3)C2...</td>\n",
       "      <td>generated</td>\n",
       "      <td>671.682</td>\n",
       "      <td>3.4789</td>\n",
       "      <td>-13.0</td>\n",
       "      <td>-13.0</td>\n",
       "      <td>-12.211111</td>\n",
       "      <td>0.456178</td>\n",
       "      <td>0.603842</td>\n",
       "    </tr>\n",
       "    <tr>\n",
       "      <th>4</th>\n",
       "      <td>ABDR</td>\n",
       "      <td>12</td>\n",
       "      <td>CC1C=CCCC(C(=O)Nc2nnnn2-c2ccccc2C2=CC=C(C(=O)N...</td>\n",
       "      <td>generated</td>\n",
       "      <td>561.566</td>\n",
       "      <td>2.3443</td>\n",
       "      <td>-12.8</td>\n",
       "      <td>-12.8</td>\n",
       "      <td>-11.500000</td>\n",
       "      <td>0.444924</td>\n",
       "      <td>0.597517</td>\n",
       "    </tr>\n",
       "  </tbody>\n",
       "</table>\n",
       "</div>"
      ],
      "text/plain": [
       "     id  gen                                              smile     source  \\\n",
       "0  AAWE   12  CC1C=CC=C(C(=O)Nc2nnnn2N2CCN(C(=O)Nc3nnnnn3)C2...  generated   \n",
       "1  ABQA   12  CC1C=CC=C(C(=O)Nc2nnnn2N2CCN(C(=O)Nc3nnnnn3)C2...  generated   \n",
       "2  AANY   12  CC1CCC(C(=O)Nc2nnnn2N2CCN(C(=O)Nc3nnnnn3)C2=O)...  generated   \n",
       "3  ABFU   12  CC1C=CCCC(C(=O)Nc2nnnn2N2CCN(C(=O)Nc3nnnnn3)C2...  generated   \n",
       "4  ABDR   12  CC1C=CCCC(C(=O)Nc2nnnn2-c2ccccc2C2=CC=C(C(=O)N...  generated   \n",
       "\n",
       "    weight    logp  score  score_best  score_avg  \\\n",
       "0  703.727  4.9502  -13.6       -13.6 -12.933333   \n",
       "1  815.779  2.3371  -13.3       -13.3 -12.377778   \n",
       "2  693.732  4.8744  -13.1       -13.1 -11.988889   \n",
       "3  671.682  3.4789  -13.0       -13.0 -12.211111   \n",
       "4  561.566  2.3443  -12.8       -12.8 -11.500000   \n",
       "\n",
       "   similarity_to_hiv_inhibitors  similarity_to_remdesivir  \n",
       "0                      0.451717                  0.607641  \n",
       "1                      0.487943                  0.680991  \n",
       "2                      0.449364                  0.585162  \n",
       "3                      0.456178                  0.603842  \n",
       "4                      0.444924                  0.597517  "
      ]
     },
     "execution_count": 7,
     "metadata": {},
     "output_type": "execute_result"
    }
   ],
   "source": [
    "final_table.head()"
   ]
  },
  {
   "cell_type": "code",
   "execution_count": 8,
   "metadata": {
    "scrolled": true
   },
   "outputs": [],
   "source": [
    "# Note I also manually added Remdesivir because as working on this it went into clinical trials\n",
    "# https://en.wikipedia.org/wiki/Remdesivir\n",
    "\n",
    "final_table.to_csv(r'./generations/master_results_table_final.csv', index=False)"
   ]
  },
  {
   "cell_type": "code",
   "execution_count": 9,
   "metadata": {
    "scrolled": true
   },
   "outputs": [
    {
     "data": {
      "text/html": [
       "<div>\n",
       "<style scoped>\n",
       "    .dataframe tbody tr th:only-of-type {\n",
       "        vertical-align: middle;\n",
       "    }\n",
       "\n",
       "    .dataframe tbody tr th {\n",
       "        vertical-align: top;\n",
       "    }\n",
       "\n",
       "    .dataframe thead th {\n",
       "        text-align: right;\n",
       "    }\n",
       "</style>\n",
       "<table border=\"1\" class=\"dataframe\">\n",
       "  <thead>\n",
       "    <tr style=\"text-align: right;\">\n",
       "      <th></th>\n",
       "      <th>id</th>\n",
       "      <th>gen</th>\n",
       "      <th>smile</th>\n",
       "      <th>source</th>\n",
       "      <th>weight</th>\n",
       "      <th>logp</th>\n",
       "      <th>score</th>\n",
       "      <th>score_best</th>\n",
       "      <th>score_avg</th>\n",
       "      <th>similarity_to_hiv_inhibitors</th>\n",
       "      <th>similarity_to_remdesivir</th>\n",
       "    </tr>\n",
       "  </thead>\n",
       "  <tbody>\n",
       "    <tr>\n",
       "      <th>18</th>\n",
       "      <td>AATK</td>\n",
       "      <td>12</td>\n",
       "      <td>CC1C=CCCC(C(=O)Nc2nnnn2N2CCN(C(=O)Nc3nnnnn3)C2...</td>\n",
       "      <td>generated</td>\n",
       "      <td>643.672</td>\n",
       "      <td>3.76360</td>\n",
       "      <td>-12.2</td>\n",
       "      <td>-12.2</td>\n",
       "      <td>-10.877778</td>\n",
       "      <td>0.453065</td>\n",
       "      <td>0.591879</td>\n",
       "    </tr>\n",
       "    <tr>\n",
       "      <th>19</th>\n",
       "      <td>ABXM</td>\n",
       "      <td>11</td>\n",
       "      <td>C#CC1=CCCC(C(=O)Nc2nnnn2N2CCN(C(=O)Nc3nnnnn3)C...</td>\n",
       "      <td>generated</td>\n",
       "      <td>639.640</td>\n",
       "      <td>3.12050</td>\n",
       "      <td>-12.2</td>\n",
       "      <td>-12.2</td>\n",
       "      <td>-11.500000</td>\n",
       "      <td>0.462061</td>\n",
       "      <td>0.619295</td>\n",
       "    </tr>\n",
       "    <tr>\n",
       "      <th>20</th>\n",
       "      <td>AAXS</td>\n",
       "      <td>12</td>\n",
       "      <td>Cc1ccc(-n2nnnc2NC(=O)C2C=CC(C)c3ccccc3-c3ccccc...</td>\n",
       "      <td>generated</td>\n",
       "      <td>605.579</td>\n",
       "      <td>1.72132</td>\n",
       "      <td>-12.1</td>\n",
       "      <td>-12.1</td>\n",
       "      <td>-11.400000</td>\n",
       "      <td>0.461884</td>\n",
       "      <td>0.636033</td>\n",
       "    </tr>\n",
       "    <tr>\n",
       "      <th>21</th>\n",
       "      <td>AACW</td>\n",
       "      <td>12</td>\n",
       "      <td>CC1C=CCCC(C(=O)Nc2nnnn2C2=CC=C(C(=O)Nc3nnnnn3)...</td>\n",
       "      <td>generated</td>\n",
       "      <td>637.664</td>\n",
       "      <td>4.14660</td>\n",
       "      <td>-12.1</td>\n",
       "      <td>-12.1</td>\n",
       "      <td>-11.533333</td>\n",
       "      <td>0.445732</td>\n",
       "      <td>0.597612</td>\n",
       "    </tr>\n",
       "    <tr>\n",
       "      <th>22</th>\n",
       "      <td>AABM</td>\n",
       "      <td>12</td>\n",
       "      <td>CC=CCNc1nnnn1-c1ccccc1</td>\n",
       "      <td>genetic_algorithm</td>\n",
       "      <td>215.260</td>\n",
       "      <td>1.65030</td>\n",
       "      <td>-12.3</td>\n",
       "      <td>-6.7</td>\n",
       "      <td>-5.755556</td>\n",
       "      <td>0.191919</td>\n",
       "      <td>0.212261</td>\n",
       "    </tr>\n",
       "  </tbody>\n",
       "</table>\n",
       "</div>"
      ],
      "text/plain": [
       "      id  gen                                              smile  \\\n",
       "18  AATK   12  CC1C=CCCC(C(=O)Nc2nnnn2N2CCN(C(=O)Nc3nnnnn3)C2...   \n",
       "19  ABXM   11  C#CC1=CCCC(C(=O)Nc2nnnn2N2CCN(C(=O)Nc3nnnnn3)C...   \n",
       "20  AAXS   12  Cc1ccc(-n2nnnc2NC(=O)C2C=CC(C)c3ccccc3-c3ccccc...   \n",
       "21  AACW   12  CC1C=CCCC(C(=O)Nc2nnnn2C2=CC=C(C(=O)Nc3nnnnn3)...   \n",
       "22  AABM   12                             CC=CCNc1nnnn1-c1ccccc1   \n",
       "\n",
       "               source   weight     logp  score  score_best  score_avg  \\\n",
       "18          generated  643.672  3.76360  -12.2       -12.2 -10.877778   \n",
       "19          generated  639.640  3.12050  -12.2       -12.2 -11.500000   \n",
       "20          generated  605.579  1.72132  -12.1       -12.1 -11.400000   \n",
       "21          generated  637.664  4.14660  -12.1       -12.1 -11.533333   \n",
       "22  genetic_algorithm  215.260  1.65030  -12.3        -6.7  -5.755556   \n",
       "\n",
       "    similarity_to_hiv_inhibitors  similarity_to_remdesivir  \n",
       "18                      0.453065                  0.591879  \n",
       "19                      0.462061                  0.619295  \n",
       "20                      0.461884                  0.636033  \n",
       "21                      0.445732                  0.597612  \n",
       "22                      0.191919                  0.212261  "
      ]
     },
     "execution_count": 9,
     "metadata": {},
     "output_type": "execute_result"
    }
   ],
   "source": [
    "final_table = pd.read_csv('./generations/master_results_table_final.csv')\n",
    "final_table.tail()"
   ]
  },
  {
   "cell_type": "code",
   "execution_count": 10,
   "metadata": {
    "scrolled": true
   },
   "outputs": [],
   "source": [
    "def set_molecule(row):\n",
    "    mol = Chem.MolFromSmiles(row['smile'])\n",
    "    pm = Chem.PropertyMol.PropertyMol(mol)\n",
    "    title = 'id' + str(row['id']) + 'gen'+ str(row['gen'])\n",
    "    # print(title)\n",
    "    # Enables for tracking which molecule is which in PyRx GUI and PyRx results export\n",
    "    pm.SetProp('Title', title)\n",
    "    return pm"
   ]
  },
  {
   "cell_type": "code",
   "execution_count": 11,
   "metadata": {
    "scrolled": true
   },
   "outputs": [],
   "source": [
    "mols_for_export = final_table.apply(set_molecule, axis=1)\n",
    "# list(mols_for_export)"
   ]
  },
  {
   "cell_type": "code",
   "execution_count": 12,
   "metadata": {},
   "outputs": [
    {
     "data": {
      "text/plain": [
       "23"
      ]
     },
     "execution_count": 12,
     "metadata": {},
     "output_type": "execute_result"
    }
   ],
   "source": [
    "len(mols_for_export)"
   ]
  },
  {
   "cell_type": "code",
   "execution_count": 358,
   "metadata": {
    "scrolled": true
   },
   "outputs": [],
   "source": [
    "w = Chem.SDWriter('./generations/genfinal.sdf')\n",
    "for m in mols_for_export:\n",
    "    w.write(m)"
   ]
  },
  {
   "cell_type": "markdown",
   "metadata": {},
   "source": [
    "#Rerun everything through PyRx once more to double check, then publish final metrics"
   ]
  },
  {
   "cell_type": "code",
   "execution_count": 360,
   "metadata": {},
   "outputs": [],
   "source": [
    "dfs = []\n",
    "\n",
    "# new_scores = pd.read_csv('./generations/results/results_gen12.csv',sep=',')\n",
    "\n",
    "for i in range(0, 13):\n",
    "    dfs.append(pd.read_csv('./generations/results/results_gen' + str(i) +'.csv',sep=','))\n",
    "\n",
    "# Concatenate all data into one DataFrame\n",
    "new_scores = pd.concat(dfs, ignore_index=True)"
   ]
  },
  {
   "cell_type": "code",
   "execution_count": 361,
   "metadata": {
    "scrolled": true
   },
   "outputs": [
    {
     "data": {
      "text/html": [
       "<div>\n",
       "<style scoped>\n",
       "    .dataframe tbody tr th:only-of-type {\n",
       "        vertical-align: middle;\n",
       "    }\n",
       "\n",
       "    .dataframe tbody tr th {\n",
       "        vertical-align: top;\n",
       "    }\n",
       "\n",
       "    .dataframe thead th {\n",
       "        text-align: right;\n",
       "    }\n",
       "</style>\n",
       "<table border=\"1\" class=\"dataframe\">\n",
       "  <thead>\n",
       "    <tr style=\"text-align: right;\">\n",
       "      <th></th>\n",
       "      <th>Ligand</th>\n",
       "      <th>Binding Affinity</th>\n",
       "      <th>rmsd/ub</th>\n",
       "      <th>rmsd/lb</th>\n",
       "    </tr>\n",
       "  </thead>\n",
       "  <tbody>\n",
       "    <tr>\n",
       "      <th>0</th>\n",
       "      <td>6lu7_idAAAAgen0</td>\n",
       "      <td>-6.7</td>\n",
       "      <td>0.000</td>\n",
       "      <td>0.000</td>\n",
       "    </tr>\n",
       "    <tr>\n",
       "      <th>1</th>\n",
       "      <td>6lu7_idAAAAgen0</td>\n",
       "      <td>-6.6</td>\n",
       "      <td>2.125</td>\n",
       "      <td>1.628</td>\n",
       "    </tr>\n",
       "    <tr>\n",
       "      <th>2</th>\n",
       "      <td>6lu7_idAAAAgen0</td>\n",
       "      <td>-6.4</td>\n",
       "      <td>9.023</td>\n",
       "      <td>3.692</td>\n",
       "    </tr>\n",
       "    <tr>\n",
       "      <th>3</th>\n",
       "      <td>6lu7_idAAAAgen0</td>\n",
       "      <td>-6.4</td>\n",
       "      <td>6.626</td>\n",
       "      <td>3.987</td>\n",
       "    </tr>\n",
       "    <tr>\n",
       "      <th>4</th>\n",
       "      <td>6lu7_idAAAAgen0</td>\n",
       "      <td>-6.3</td>\n",
       "      <td>6.182</td>\n",
       "      <td>4.837</td>\n",
       "    </tr>\n",
       "  </tbody>\n",
       "</table>\n",
       "</div>"
      ],
      "text/plain": [
       "            Ligand  Binding Affinity  rmsd/ub   rmsd/lb\n",
       "0  6lu7_idAAAAgen0              -6.7    0.000     0.000\n",
       "1  6lu7_idAAAAgen0              -6.6    2.125     1.628\n",
       "2  6lu7_idAAAAgen0              -6.4    9.023     3.692\n",
       "3  6lu7_idAAAAgen0              -6.4    6.626     3.987\n",
       "4  6lu7_idAAAAgen0              -6.3    6.182     4.837"
      ]
     },
     "execution_count": 361,
     "metadata": {},
     "output_type": "execute_result"
    }
   ],
   "source": [
    "# new_scores = pd.read_csv('./generations/results/results_genfinal.csv',sep=',')\n",
    "final_table = pd.read_csv('./generations/master_results_table_gen12.csv')\n",
    "new_scores.head()"
   ]
  },
  {
   "cell_type": "code",
   "execution_count": 362,
   "metadata": {
    "scrolled": true
   },
   "outputs": [
    {
     "data": {
      "text/html": [
       "<div>\n",
       "<style scoped>\n",
       "    .dataframe tbody tr th:only-of-type {\n",
       "        vertical-align: middle;\n",
       "    }\n",
       "\n",
       "    .dataframe tbody tr th {\n",
       "        vertical-align: top;\n",
       "    }\n",
       "\n",
       "    .dataframe thead tr th {\n",
       "        text-align: left;\n",
       "    }\n",
       "</style>\n",
       "<table border=\"1\" class=\"dataframe\">\n",
       "  <thead>\n",
       "    <tr>\n",
       "      <th></th>\n",
       "      <th>Ligand</th>\n",
       "      <th colspan=\"2\" halign=\"left\">Binding Affinity</th>\n",
       "    </tr>\n",
       "    <tr>\n",
       "      <th></th>\n",
       "      <th></th>\n",
       "      <th>amin</th>\n",
       "      <th>average</th>\n",
       "    </tr>\n",
       "  </thead>\n",
       "  <tbody>\n",
       "    <tr>\n",
       "      <th>0</th>\n",
       "      <td>6LU7_idAAAAgen10_uff_E=112.89</td>\n",
       "      <td>-4.8</td>\n",
       "      <td>-4.511111</td>\n",
       "    </tr>\n",
       "    <tr>\n",
       "      <th>1</th>\n",
       "      <td>6LU7_idAAAAgen10_uff_E=178.91</td>\n",
       "      <td>-4.7</td>\n",
       "      <td>-4.377778</td>\n",
       "    </tr>\n",
       "    <tr>\n",
       "      <th>2</th>\n",
       "      <td>6LU7_idAAAAgen11_uff_E=3389.13</td>\n",
       "      <td>-11.0</td>\n",
       "      <td>-10.255556</td>\n",
       "    </tr>\n",
       "    <tr>\n",
       "      <th>3</th>\n",
       "      <td>6LU7_idAAAAgen11_uff_E=95.55</td>\n",
       "      <td>-4.1</td>\n",
       "      <td>-3.877778</td>\n",
       "    </tr>\n",
       "    <tr>\n",
       "      <th>4</th>\n",
       "      <td>6LU7_idAAAAgen12_uff_E=-0.64</td>\n",
       "      <td>-3.2</td>\n",
       "      <td>-3.000000</td>\n",
       "    </tr>\n",
       "  </tbody>\n",
       "</table>\n",
       "</div>"
      ],
      "text/plain": [
       "                           Ligand Binding Affinity           \n",
       "                                              amin    average\n",
       "0   6LU7_idAAAAgen10_uff_E=112.89             -4.8  -4.511111\n",
       "1   6LU7_idAAAAgen10_uff_E=178.91             -4.7  -4.377778\n",
       "2  6LU7_idAAAAgen11_uff_E=3389.13            -11.0 -10.255556\n",
       "3    6LU7_idAAAAgen11_uff_E=95.55             -4.1  -3.877778\n",
       "4    6LU7_idAAAAgen12_uff_E=-0.64             -3.2  -3.000000"
      ]
     },
     "execution_count": 362,
     "metadata": {},
     "output_type": "execute_result"
    }
   ],
   "source": [
    "new_scores = new_scores.groupby(\"Ligand\").agg({'Binding Affinity': [np.min,np.average]}).reset_index()\n",
    "new_scores.head()"
   ]
  },
  {
   "cell_type": "code",
   "execution_count": 363,
   "metadata": {
    "scrolled": true
   },
   "outputs": [
    {
     "data": {
      "text/html": [
       "<div>\n",
       "<style scoped>\n",
       "    .dataframe tbody tr th:only-of-type {\n",
       "        vertical-align: middle;\n",
       "    }\n",
       "\n",
       "    .dataframe tbody tr th {\n",
       "        vertical-align: top;\n",
       "    }\n",
       "\n",
       "    .dataframe thead tr th {\n",
       "        text-align: left;\n",
       "    }\n",
       "</style>\n",
       "<table border=\"1\" class=\"dataframe\">\n",
       "  <thead>\n",
       "    <tr>\n",
       "      <th></th>\n",
       "      <th>id</th>\n",
       "      <th>gen</th>\n",
       "      <th>score_best</th>\n",
       "      <th>score_avg</th>\n",
       "    </tr>\n",
       "    <tr>\n",
       "      <th></th>\n",
       "      <th></th>\n",
       "      <th></th>\n",
       "      <th></th>\n",
       "      <th></th>\n",
       "    </tr>\n",
       "  </thead>\n",
       "  <tbody>\n",
       "    <tr>\n",
       "      <th>0</th>\n",
       "      <td>AAAA</td>\n",
       "      <td>10</td>\n",
       "      <td>-4.8</td>\n",
       "      <td>-4.511111</td>\n",
       "    </tr>\n",
       "    <tr>\n",
       "      <th>1</th>\n",
       "      <td>AAAA</td>\n",
       "      <td>10</td>\n",
       "      <td>-4.7</td>\n",
       "      <td>-4.377778</td>\n",
       "    </tr>\n",
       "    <tr>\n",
       "      <th>2</th>\n",
       "      <td>AAAA</td>\n",
       "      <td>11</td>\n",
       "      <td>-11.0</td>\n",
       "      <td>-10.255556</td>\n",
       "    </tr>\n",
       "    <tr>\n",
       "      <th>3</th>\n",
       "      <td>AAAA</td>\n",
       "      <td>11</td>\n",
       "      <td>-4.1</td>\n",
       "      <td>-3.877778</td>\n",
       "    </tr>\n",
       "    <tr>\n",
       "      <th>4</th>\n",
       "      <td>AAAA</td>\n",
       "      <td>12</td>\n",
       "      <td>-3.2</td>\n",
       "      <td>-3.000000</td>\n",
       "    </tr>\n",
       "    <tr>\n",
       "      <th>...</th>\n",
       "      <td>...</td>\n",
       "      <td>...</td>\n",
       "      <td>...</td>\n",
       "      <td>...</td>\n",
       "    </tr>\n",
       "    <tr>\n",
       "      <th>14732</th>\n",
       "      <td>ABTC</td>\n",
       "      <td>0</td>\n",
       "      <td>-7.8</td>\n",
       "      <td>-7.088889</td>\n",
       "    </tr>\n",
       "    <tr>\n",
       "      <th>14733</th>\n",
       "      <td>ABTD</td>\n",
       "      <td>0</td>\n",
       "      <td>-6.5</td>\n",
       "      <td>-6.144444</td>\n",
       "    </tr>\n",
       "    <tr>\n",
       "      <th>14734</th>\n",
       "      <td>ABTE</td>\n",
       "      <td>0</td>\n",
       "      <td>-7.9</td>\n",
       "      <td>-7.488889</td>\n",
       "    </tr>\n",
       "    <tr>\n",
       "      <th>14735</th>\n",
       "      <td>ABTF</td>\n",
       "      <td>0</td>\n",
       "      <td>-7.8</td>\n",
       "      <td>-7.477778</td>\n",
       "    </tr>\n",
       "    <tr>\n",
       "      <th>14736</th>\n",
       "      <td>ABTG</td>\n",
       "      <td>0</td>\n",
       "      <td>-7.9</td>\n",
       "      <td>-7.688889</td>\n",
       "    </tr>\n",
       "  </tbody>\n",
       "</table>\n",
       "<p>14737 rows × 4 columns</p>\n",
       "</div>"
      ],
      "text/plain": [
       "         id gen score_best  score_avg\n",
       "                                     \n",
       "0      AAAA  10       -4.8  -4.511111\n",
       "1      AAAA  10       -4.7  -4.377778\n",
       "2      AAAA  11      -11.0 -10.255556\n",
       "3      AAAA  11       -4.1  -3.877778\n",
       "4      AAAA  12       -3.2  -3.000000\n",
       "...     ...  ..        ...        ...\n",
       "14732  ABTC   0       -7.8  -7.088889\n",
       "14733  ABTD   0       -6.5  -6.144444\n",
       "14734  ABTE   0       -7.9  -7.488889\n",
       "14735  ABTF   0       -7.8  -7.477778\n",
       "14736  ABTG   0       -7.9  -7.688889\n",
       "\n",
       "[14737 rows x 4 columns]"
      ]
     },
     "execution_count": 363,
     "metadata": {},
     "output_type": "execute_result"
    }
   ],
   "source": [
    "new_scores['id'] = new_scores['Ligand'].str.split(\"_\").str[1].str.split(\"gen\").str[0].str.split(\"id\").str[1]\n",
    "new_scores['gen'] = new_scores['Ligand'].str.split(\"_\").str[1].str.split(\"gen\").str[1]\n",
    "new_scores['score_best'] = new_scores[\"Binding Affinity\"][\"amin\"]\n",
    "new_scores['score_avg'] = new_scores[\"Binding Affinity\"][\"average\"]\n",
    "new_scores = new_scores[['id','gen','score_best','score_avg']]\n",
    "\n",
    "new_scores.head()\n",
    "new_scores.dropna()"
   ]
  },
  {
   "cell_type": "code",
   "execution_count": 364,
   "metadata": {
    "scrolled": true
   },
   "outputs": [],
   "source": [
    "final_table = final_table[final_table.score != 99.9]"
   ]
  },
  {
   "cell_type": "code",
   "execution_count": 365,
   "metadata": {},
   "outputs": [
    {
     "data": {
      "text/html": [
       "<div>\n",
       "<style scoped>\n",
       "    .dataframe tbody tr th:only-of-type {\n",
       "        vertical-align: middle;\n",
       "    }\n",
       "\n",
       "    .dataframe tbody tr th {\n",
       "        vertical-align: top;\n",
       "    }\n",
       "\n",
       "    .dataframe thead th {\n",
       "        text-align: right;\n",
       "    }\n",
       "</style>\n",
       "<table border=\"1\" class=\"dataframe\">\n",
       "  <thead>\n",
       "    <tr style=\"text-align: right;\">\n",
       "      <th></th>\n",
       "      <th>gen</th>\n",
       "      <th>weight</th>\n",
       "      <th>logp</th>\n",
       "      <th>score</th>\n",
       "    </tr>\n",
       "  </thead>\n",
       "  <tbody>\n",
       "    <tr>\n",
       "      <th>count</th>\n",
       "      <td>12396.000000</td>\n",
       "      <td>12396.000000</td>\n",
       "      <td>12396.000000</td>\n",
       "      <td>12396.000000</td>\n",
       "    </tr>\n",
       "    <tr>\n",
       "      <th>mean</th>\n",
       "      <td>5.945628</td>\n",
       "      <td>429.666887</td>\n",
       "      <td>7.080610</td>\n",
       "      <td>-7.241683</td>\n",
       "    </tr>\n",
       "    <tr>\n",
       "      <th>std</th>\n",
       "      <td>4.024325</td>\n",
       "      <td>371.210861</td>\n",
       "      <td>10.892971</td>\n",
       "      <td>2.702995</td>\n",
       "    </tr>\n",
       "    <tr>\n",
       "      <th>min</th>\n",
       "      <td>0.000000</td>\n",
       "      <td>28.054000</td>\n",
       "      <td>-9.704780</td>\n",
       "      <td>-16.000000</td>\n",
       "    </tr>\n",
       "    <tr>\n",
       "      <th>25%</th>\n",
       "      <td>2.000000</td>\n",
       "      <td>180.207000</td>\n",
       "      <td>1.436450</td>\n",
       "      <td>-8.800000</td>\n",
       "    </tr>\n",
       "    <tr>\n",
       "      <th>50%</th>\n",
       "      <td>6.000000</td>\n",
       "      <td>297.358000</td>\n",
       "      <td>2.579710</td>\n",
       "      <td>-6.600000</td>\n",
       "    </tr>\n",
       "    <tr>\n",
       "      <th>75%</th>\n",
       "      <td>10.000000</td>\n",
       "      <td>486.571500</td>\n",
       "      <td>5.125115</td>\n",
       "      <td>-5.200000</td>\n",
       "    </tr>\n",
       "    <tr>\n",
       "      <th>max</th>\n",
       "      <td>12.000000</td>\n",
       "      <td>1767.402000</td>\n",
       "      <td>49.152600</td>\n",
       "      <td>-1.000000</td>\n",
       "    </tr>\n",
       "  </tbody>\n",
       "</table>\n",
       "</div>"
      ],
      "text/plain": [
       "                gen        weight          logp         score\n",
       "count  12396.000000  12396.000000  12396.000000  12396.000000\n",
       "mean       5.945628    429.666887      7.080610     -7.241683\n",
       "std        4.024325    371.210861     10.892971      2.702995\n",
       "min        0.000000     28.054000     -9.704780    -16.000000\n",
       "25%        2.000000    180.207000      1.436450     -8.800000\n",
       "50%        6.000000    297.358000      2.579710     -6.600000\n",
       "75%       10.000000    486.571500      5.125115     -5.200000\n",
       "max       12.000000   1767.402000     49.152600     -1.000000"
      ]
     },
     "execution_count": 365,
     "metadata": {},
     "output_type": "execute_result"
    }
   ],
   "source": [
    "final_table.describe()"
   ]
  },
  {
   "cell_type": "code",
   "execution_count": 366,
   "metadata": {
    "scrolled": true
   },
   "outputs": [],
   "source": [
    "new_scores.id = new_scores.id.astype(str)\n",
    "new_scores.gen = new_scores.gen.astype(str)\n",
    "\n",
    "final_table.id = final_table.id.astype(str)\n",
    "final_table.gen = final_table.gen.astype(str)"
   ]
  },
  {
   "cell_type": "code",
   "execution_count": 367,
   "metadata": {
    "scrolled": false
   },
   "outputs": [
    {
     "name": "stderr",
     "output_type": "stream",
     "text": [
      "C:\\Users\\user\\Anaconda3\\envs\\tfv2\\lib\\site-packages\\pandas\\core\\reshape\\merge.py:618: UserWarning: merging between different levels can give an unintended result (1 levels on the left, 2 on the right)\n",
      "  warnings.warn(msg, UserWarning)\n"
     ]
    },
    {
     "data": {
      "text/html": [
       "<div>\n",
       "<style scoped>\n",
       "    .dataframe tbody tr th:only-of-type {\n",
       "        vertical-align: middle;\n",
       "    }\n",
       "\n",
       "    .dataframe tbody tr th {\n",
       "        vertical-align: top;\n",
       "    }\n",
       "\n",
       "    .dataframe thead th {\n",
       "        text-align: right;\n",
       "    }\n",
       "</style>\n",
       "<table border=\"1\" class=\"dataframe\">\n",
       "  <thead>\n",
       "    <tr style=\"text-align: right;\">\n",
       "      <th></th>\n",
       "      <th>id</th>\n",
       "      <th>gen</th>\n",
       "      <th>smile</th>\n",
       "      <th>source</th>\n",
       "      <th>weight</th>\n",
       "      <th>logp</th>\n",
       "      <th>score</th>\n",
       "      <th>score_best</th>\n",
       "      <th>score_avg</th>\n",
       "    </tr>\n",
       "  </thead>\n",
       "  <tbody>\n",
       "    <tr>\n",
       "      <th>0</th>\n",
       "      <td>ABZJ</td>\n",
       "      <td>11</td>\n",
       "      <td>CC1CCCCCCCCCCCCCCCCCCCCCCCCCCCCCCCCCCCCCCCCCCC...</td>\n",
       "      <td>generated</td>\n",
       "      <td>1312.235</td>\n",
       "      <td>32.3335</td>\n",
       "      <td>-16.0</td>\n",
       "      <td>-16.0</td>\n",
       "      <td>-14.466667</td>\n",
       "    </tr>\n",
       "    <tr>\n",
       "      <th>1</th>\n",
       "      <td>ABOH</td>\n",
       "      <td>12</td>\n",
       "      <td>CC1C=CCCCCCCCCCCCCCCCCCCCCCCCCCCCCCCCCCCCCCCCC...</td>\n",
       "      <td>generated</td>\n",
       "      <td>1286.367</td>\n",
       "      <td>34.1331</td>\n",
       "      <td>-15.8</td>\n",
       "      <td>-15.8</td>\n",
       "      <td>-13.966667</td>\n",
       "    </tr>\n",
       "    <tr>\n",
       "      <th>2</th>\n",
       "      <td>ABKL</td>\n",
       "      <td>10</td>\n",
       "      <td>CC1CCCCCCCCCCCCCCCCCCCCCCCCCCCCCCCCCCCCCCCCCCC...</td>\n",
       "      <td>generated</td>\n",
       "      <td>1264.191</td>\n",
       "      <td>31.4891</td>\n",
       "      <td>-15.6</td>\n",
       "      <td>-15.6</td>\n",
       "      <td>-13.460000</td>\n",
       "    </tr>\n",
       "    <tr>\n",
       "      <th>3</th>\n",
       "      <td>ABJD</td>\n",
       "      <td>11</td>\n",
       "      <td>CC1CCCCCCCCCCCCCCCCCCCCCCCCCCCCCCCCCCCCCCCCCCC...</td>\n",
       "      <td>generated</td>\n",
       "      <td>1384.386</td>\n",
       "      <td>34.3280</td>\n",
       "      <td>-15.6</td>\n",
       "      <td>-15.6</td>\n",
       "      <td>-13.683333</td>\n",
       "    </tr>\n",
       "    <tr>\n",
       "      <th>4</th>\n",
       "      <td>ACIQ</td>\n",
       "      <td>11</td>\n",
       "      <td>CC1CCCCCCCCCCCCCCCCCCCCCCCCCCCCCC2CCCCCCCCCCCC...</td>\n",
       "      <td>generated</td>\n",
       "      <td>1290.229</td>\n",
       "      <td>32.4477</td>\n",
       "      <td>-15.6</td>\n",
       "      <td>-15.6</td>\n",
       "      <td>-13.625000</td>\n",
       "    </tr>\n",
       "  </tbody>\n",
       "</table>\n",
       "</div>"
      ],
      "text/plain": [
       "     id gen                                              smile     source  \\\n",
       "0  ABZJ  11  CC1CCCCCCCCCCCCCCCCCCCCCCCCCCCCCCCCCCCCCCCCCCC...  generated   \n",
       "1  ABOH  12  CC1C=CCCCCCCCCCCCCCCCCCCCCCCCCCCCCCCCCCCCCCCCC...  generated   \n",
       "2  ABKL  10  CC1CCCCCCCCCCCCCCCCCCCCCCCCCCCCCCCCCCCCCCCCCCC...  generated   \n",
       "3  ABJD  11  CC1CCCCCCCCCCCCCCCCCCCCCCCCCCCCCCCCCCCCCCCCCCC...  generated   \n",
       "4  ACIQ  11  CC1CCCCCCCCCCCCCCCCCCCCCCCCCCCCCC2CCCCCCCCCCCC...  generated   \n",
       "\n",
       "     weight     logp  score  score_best  score_avg  \n",
       "0  1312.235  32.3335  -16.0       -16.0 -14.466667  \n",
       "1  1286.367  34.1331  -15.8       -15.8 -13.966667  \n",
       "2  1264.191  31.4891  -15.6       -15.6 -13.460000  \n",
       "3  1384.386  34.3280  -15.6       -15.6 -13.683333  \n",
       "4  1290.229  32.4477  -15.6       -15.6 -13.625000  "
      ]
     },
     "execution_count": 367,
     "metadata": {},
     "output_type": "execute_result"
    }
   ],
   "source": [
    "new_table = pd.merge(final_table, new_scores, on=['id','gen'], suffixes=('_old','_new'), how='left')\n",
    "new_table['score_best'] = new_table[('score_best', '')]\n",
    "new_table['score_avg'] = new_table[('score_avg', '')]\n",
    "\n",
    "new_table = new_table.drop([('score_best', ''),('score_avg', '')], axis=1)\n",
    "new_table = new_table.sort_values('score_best', ascending=True)\n",
    "\n",
    "new_table.dropna()\n",
    "new_table.head()"
   ]
  },
  {
   "cell_type": "code",
   "execution_count": 368,
   "metadata": {
    "scrolled": false
   },
   "outputs": [
    {
     "name": "stderr",
     "output_type": "stream",
     "text": [
      "C:\\Users\\user\\Anaconda3\\envs\\tfv2\\lib\\site-packages\\pandas\\core\\reshape\\merge.py:618: UserWarning: merging between different levels can give an unintended result (1 levels on the left, 2 on the right)\n",
      "  warnings.warn(msg, UserWarning)\n"
     ]
    },
    {
     "data": {
      "text/html": [
       "<div>\n",
       "<style scoped>\n",
       "    .dataframe tbody tr th:only-of-type {\n",
       "        vertical-align: middle;\n",
       "    }\n",
       "\n",
       "    .dataframe tbody tr th {\n",
       "        vertical-align: top;\n",
       "    }\n",
       "\n",
       "    .dataframe thead th {\n",
       "        text-align: right;\n",
       "    }\n",
       "</style>\n",
       "<table border=\"1\" class=\"dataframe\">\n",
       "  <thead>\n",
       "    <tr style=\"text-align: right;\">\n",
       "      <th></th>\n",
       "      <th>id</th>\n",
       "      <th>gen</th>\n",
       "      <th>smile</th>\n",
       "      <th>source</th>\n",
       "      <th>weight</th>\n",
       "      <th>logp</th>\n",
       "      <th>score</th>\n",
       "      <th>score_best</th>\n",
       "      <th>score_avg</th>\n",
       "    </tr>\n",
       "  </thead>\n",
       "  <tbody>\n",
       "    <tr>\n",
       "      <th>0</th>\n",
       "      <td>ABZJ</td>\n",
       "      <td>11</td>\n",
       "      <td>CC1CCCCCCCCCCCCCCCCCCCCCCCCCCCCCCCCCCCCCCCCCCC...</td>\n",
       "      <td>generated</td>\n",
       "      <td>1312.235</td>\n",
       "      <td>32.3335</td>\n",
       "      <td>-16.0</td>\n",
       "      <td>-16.0</td>\n",
       "      <td>-14.466667</td>\n",
       "    </tr>\n",
       "    <tr>\n",
       "      <th>1</th>\n",
       "      <td>ABOH</td>\n",
       "      <td>12</td>\n",
       "      <td>CC1C=CCCCCCCCCCCCCCCCCCCCCCCCCCCCCCCCCCCCCCCCC...</td>\n",
       "      <td>generated</td>\n",
       "      <td>1286.367</td>\n",
       "      <td>34.1331</td>\n",
       "      <td>-15.8</td>\n",
       "      <td>-15.8</td>\n",
       "      <td>-13.966667</td>\n",
       "    </tr>\n",
       "    <tr>\n",
       "      <th>2</th>\n",
       "      <td>ABKL</td>\n",
       "      <td>10</td>\n",
       "      <td>CC1CCCCCCCCCCCCCCCCCCCCCCCCCCCCCCCCCCCCCCCCCCC...</td>\n",
       "      <td>generated</td>\n",
       "      <td>1264.191</td>\n",
       "      <td>31.4891</td>\n",
       "      <td>-15.6</td>\n",
       "      <td>-15.6</td>\n",
       "      <td>-13.460000</td>\n",
       "    </tr>\n",
       "    <tr>\n",
       "      <th>3</th>\n",
       "      <td>ABJD</td>\n",
       "      <td>11</td>\n",
       "      <td>CC1CCCCCCCCCCCCCCCCCCCCCCCCCCCCCCCCCCCCCCCCCCC...</td>\n",
       "      <td>generated</td>\n",
       "      <td>1384.386</td>\n",
       "      <td>34.3280</td>\n",
       "      <td>-15.6</td>\n",
       "      <td>-15.6</td>\n",
       "      <td>-13.683333</td>\n",
       "    </tr>\n",
       "    <tr>\n",
       "      <th>4</th>\n",
       "      <td>ACIQ</td>\n",
       "      <td>11</td>\n",
       "      <td>CC1CCCCCCCCCCCCCCCCCCCCCCCCCCCCCC2CCCCCCCCCCCC...</td>\n",
       "      <td>generated</td>\n",
       "      <td>1290.229</td>\n",
       "      <td>32.4477</td>\n",
       "      <td>-15.6</td>\n",
       "      <td>-15.6</td>\n",
       "      <td>-13.625000</td>\n",
       "    </tr>\n",
       "    <tr>\n",
       "      <th>...</th>\n",
       "      <td>...</td>\n",
       "      <td>...</td>\n",
       "      <td>...</td>\n",
       "      <td>...</td>\n",
       "      <td>...</td>\n",
       "      <td>...</td>\n",
       "      <td>...</td>\n",
       "      <td>...</td>\n",
       "      <td>...</td>\n",
       "    </tr>\n",
       "    <tr>\n",
       "      <th>96</th>\n",
       "      <td>AADM</td>\n",
       "      <td>11</td>\n",
       "      <td>CC1CCCCCCCCCCCCCCCCCCCCCCCCCCCCCCCCCCCCCCCCCCC...</td>\n",
       "      <td>generated</td>\n",
       "      <td>1126.107</td>\n",
       "      <td>30.2142</td>\n",
       "      <td>-13.8</td>\n",
       "      <td>-13.8</td>\n",
       "      <td>-12.055556</td>\n",
       "    </tr>\n",
       "    <tr>\n",
       "      <th>97</th>\n",
       "      <td>ACEI</td>\n",
       "      <td>11</td>\n",
       "      <td>CC1CCCCCCCCCCCCCCCCCCCCCCCCCCCC=CC=CC=CC=CC=CC...</td>\n",
       "      <td>generated</td>\n",
       "      <td>1081.755</td>\n",
       "      <td>25.3840</td>\n",
       "      <td>-13.8</td>\n",
       "      <td>-13.8</td>\n",
       "      <td>-12.200000</td>\n",
       "    </tr>\n",
       "    <tr>\n",
       "      <th>95</th>\n",
       "      <td>AAHN</td>\n",
       "      <td>11</td>\n",
       "      <td>C#CC1CCCCCCCCCCCCCCCCCCCCCCCCCCCCCCCCCCCCCCCCC...</td>\n",
       "      <td>generated</td>\n",
       "      <td>1089.989</td>\n",
       "      <td>28.1629</td>\n",
       "      <td>-13.8</td>\n",
       "      <td>-13.8</td>\n",
       "      <td>-11.944444</td>\n",
       "    </tr>\n",
       "    <tr>\n",
       "      <th>94</th>\n",
       "      <td>ABGB</td>\n",
       "      <td>11</td>\n",
       "      <td>CC1CCCCCCCCCCCCCCCCCCCCCCCCCCCCCCC=CC=CC=CC=CC...</td>\n",
       "      <td>generated</td>\n",
       "      <td>989.614</td>\n",
       "      <td>23.7277</td>\n",
       "      <td>-13.8</td>\n",
       "      <td>-13.8</td>\n",
       "      <td>-11.788889</td>\n",
       "    </tr>\n",
       "    <tr>\n",
       "      <th>93</th>\n",
       "      <td>ABDE</td>\n",
       "      <td>9</td>\n",
       "      <td>CC1CCCCCCCCCCCCCCCCCCCCCCCCCCCCCCCCCCCCCCCCCCC...</td>\n",
       "      <td>generated</td>\n",
       "      <td>1225.155</td>\n",
       "      <td>29.6789</td>\n",
       "      <td>-13.8</td>\n",
       "      <td>-13.8</td>\n",
       "      <td>-12.266667</td>\n",
       "    </tr>\n",
       "  </tbody>\n",
       "</table>\n",
       "<p>100 rows × 9 columns</p>\n",
       "</div>"
      ],
      "text/plain": [
       "      id gen                                              smile     source  \\\n",
       "0   ABZJ  11  CC1CCCCCCCCCCCCCCCCCCCCCCCCCCCCCCCCCCCCCCCCCCC...  generated   \n",
       "1   ABOH  12  CC1C=CCCCCCCCCCCCCCCCCCCCCCCCCCCCCCCCCCCCCCCCC...  generated   \n",
       "2   ABKL  10  CC1CCCCCCCCCCCCCCCCCCCCCCCCCCCCCCCCCCCCCCCCCCC...  generated   \n",
       "3   ABJD  11  CC1CCCCCCCCCCCCCCCCCCCCCCCCCCCCCCCCCCCCCCCCCCC...  generated   \n",
       "4   ACIQ  11  CC1CCCCCCCCCCCCCCCCCCCCCCCCCCCCCC2CCCCCCCCCCCC...  generated   \n",
       "..   ...  ..                                                ...        ...   \n",
       "96  AADM  11  CC1CCCCCCCCCCCCCCCCCCCCCCCCCCCCCCCCCCCCCCCCCCC...  generated   \n",
       "97  ACEI  11  CC1CCCCCCCCCCCCCCCCCCCCCCCCCCCC=CC=CC=CC=CC=CC...  generated   \n",
       "95  AAHN  11  C#CC1CCCCCCCCCCCCCCCCCCCCCCCCCCCCCCCCCCCCCCCCC...  generated   \n",
       "94  ABGB  11  CC1CCCCCCCCCCCCCCCCCCCCCCCCCCCCCCC=CC=CC=CC=CC...  generated   \n",
       "93  ABDE   9  CC1CCCCCCCCCCCCCCCCCCCCCCCCCCCCCCCCCCCCCCCCCCC...  generated   \n",
       "\n",
       "      weight     logp  score  score_best  score_avg  \n",
       "0   1312.235  32.3335  -16.0       -16.0 -14.466667  \n",
       "1   1286.367  34.1331  -15.8       -15.8 -13.966667  \n",
       "2   1264.191  31.4891  -15.6       -15.6 -13.460000  \n",
       "3   1384.386  34.3280  -15.6       -15.6 -13.683333  \n",
       "4   1290.229  32.4477  -15.6       -15.6 -13.625000  \n",
       "..       ...      ...    ...         ...        ...  \n",
       "96  1126.107  30.2142  -13.8       -13.8 -12.055556  \n",
       "97  1081.755  25.3840  -13.8       -13.8 -12.200000  \n",
       "95  1089.989  28.1629  -13.8       -13.8 -11.944444  \n",
       "94   989.614  23.7277  -13.8       -13.8 -11.788889  \n",
       "93  1225.155  29.6789  -13.8       -13.8 -12.266667  \n",
       "\n",
       "[100 rows x 9 columns]"
      ]
     },
     "execution_count": 368,
     "metadata": {},
     "output_type": "execute_result"
    }
   ],
   "source": [
    "new_table = pd.merge(final_table, new_scores, on=['id','gen'], suffixes=('_old','_new'), how='left')\n",
    "\n",
    "new_table['score_best'] = new_table[('score_best', '')]\n",
    "new_table['score_avg'] = new_table[('score_avg', '')]\n",
    "\n",
    "new_table = new_table.drop([('score_best', ''),('score_avg', '')], axis=1)\n",
    "new_table = new_table.sort_values('score_best', ascending=True)\n",
    "\n",
    "new_table.dropna()\n",
    "new_table.head(100)"
   ]
  },
  {
   "cell_type": "code",
   "execution_count": 369,
   "metadata": {
    "scrolled": true
   },
   "outputs": [
    {
     "data": {
      "text/plain": [
       "array(['11', '12', '10', '9', '8', '6', '5', '4', '2', '3', '0', '1', '7'],\n",
       "      dtype=object)"
      ]
     },
     "execution_count": 369,
     "metadata": {},
     "output_type": "execute_result"
    }
   ],
   "source": [
    "new_table.gen.unique()"
   ]
  },
  {
   "cell_type": "code",
   "execution_count": 370,
   "metadata": {},
   "outputs": [
    {
     "data": {
      "text/html": [
       "<div>\n",
       "<style scoped>\n",
       "    .dataframe tbody tr th:only-of-type {\n",
       "        vertical-align: middle;\n",
       "    }\n",
       "\n",
       "    .dataframe tbody tr th {\n",
       "        vertical-align: top;\n",
       "    }\n",
       "\n",
       "    .dataframe thead th {\n",
       "        text-align: right;\n",
       "    }\n",
       "</style>\n",
       "<table border=\"1\" class=\"dataframe\">\n",
       "  <thead>\n",
       "    <tr style=\"text-align: right;\">\n",
       "      <th></th>\n",
       "      <th>id</th>\n",
       "      <th>gen</th>\n",
       "      <th>smile</th>\n",
       "      <th>source</th>\n",
       "      <th>weight</th>\n",
       "      <th>logp</th>\n",
       "      <th>score</th>\n",
       "      <th>score_best</th>\n",
       "      <th>score_avg</th>\n",
       "    </tr>\n",
       "  </thead>\n",
       "  <tbody>\n",
       "    <tr>\n",
       "      <th>1</th>\n",
       "      <td>ABOH</td>\n",
       "      <td>12</td>\n",
       "      <td>CC1C=CCCCCCCCCCCCCCCCCCCCCCCCCCCCCCCCCCCCCCCCC...</td>\n",
       "      <td>generated</td>\n",
       "      <td>1286.367</td>\n",
       "      <td>34.1331</td>\n",
       "      <td>-15.8</td>\n",
       "      <td>-15.8</td>\n",
       "      <td>-13.966667</td>\n",
       "    </tr>\n",
       "    <tr>\n",
       "      <th>6</th>\n",
       "      <td>AANI</td>\n",
       "      <td>12</td>\n",
       "      <td>CC1CCCCCCCCCCCCCCCCCCCCCCCCCCCCCCCCCCCCCCCCCCC...</td>\n",
       "      <td>generated</td>\n",
       "      <td>1292.245</td>\n",
       "      <td>32.2693</td>\n",
       "      <td>-15.5</td>\n",
       "      <td>-15.5</td>\n",
       "      <td>-13.880000</td>\n",
       "    </tr>\n",
       "    <tr>\n",
       "      <th>12</th>\n",
       "      <td>AAIR</td>\n",
       "      <td>12</td>\n",
       "      <td>CC1CCCCCCCCCCCCCCCCCCCCCCCCCCCCCCCCCCCCCCCCCCC...</td>\n",
       "      <td>generated</td>\n",
       "      <td>1324.501</td>\n",
       "      <td>35.8533</td>\n",
       "      <td>-15.1</td>\n",
       "      <td>-15.1</td>\n",
       "      <td>-13.366667</td>\n",
       "    </tr>\n",
       "    <tr>\n",
       "      <th>26</th>\n",
       "      <td>AAVG</td>\n",
       "      <td>12</td>\n",
       "      <td>CC1C=CCCCCCCCCCCCCCCCCCCCCCCCCCCCCCCCCCCCCCCCC...</td>\n",
       "      <td>generated</td>\n",
       "      <td>1108.048</td>\n",
       "      <td>29.4739</td>\n",
       "      <td>-14.6</td>\n",
       "      <td>-14.6</td>\n",
       "      <td>-13.275000</td>\n",
       "    </tr>\n",
       "    <tr>\n",
       "      <th>25</th>\n",
       "      <td>AAWC</td>\n",
       "      <td>12</td>\n",
       "      <td>CC1C=CCCCCCCCCCCCCCCCCCCCCCCCCCCCCCCCCCCCCCCCC...</td>\n",
       "      <td>generated</td>\n",
       "      <td>1276.202</td>\n",
       "      <td>31.8352</td>\n",
       "      <td>-14.6</td>\n",
       "      <td>-14.6</td>\n",
       "      <td>-12.600000</td>\n",
       "    </tr>\n",
       "    <tr>\n",
       "      <th>...</th>\n",
       "      <td>...</td>\n",
       "      <td>...</td>\n",
       "      <td>...</td>\n",
       "      <td>...</td>\n",
       "      <td>...</td>\n",
       "      <td>...</td>\n",
       "      <td>...</td>\n",
       "      <td>...</td>\n",
       "      <td>...</td>\n",
       "    </tr>\n",
       "    <tr>\n",
       "      <th>12505</th>\n",
       "      <td>AAME</td>\n",
       "      <td>12</td>\n",
       "      <td>C#CC#CC#CC#CC#CC#CC#CC#CC#CC#CC#CC#CC#CC#CC#CC...</td>\n",
       "      <td>generated</td>\n",
       "      <td>750.730</td>\n",
       "      <td>1.7597</td>\n",
       "      <td>-1.5</td>\n",
       "      <td>-1.5</td>\n",
       "      <td>-1.388889</td>\n",
       "    </tr>\n",
       "    <tr>\n",
       "      <th>12506</th>\n",
       "      <td>ABCV</td>\n",
       "      <td>12</td>\n",
       "      <td>C#CC#CC#CC#CC#CC#CC#CC#CC#CC#CC#CC#CC#CC#CC#CC...</td>\n",
       "      <td>generated</td>\n",
       "      <td>762.741</td>\n",
       "      <td>1.6011</td>\n",
       "      <td>-1.4</td>\n",
       "      <td>-1.4</td>\n",
       "      <td>-1.300000</td>\n",
       "    </tr>\n",
       "    <tr>\n",
       "      <th>12507</th>\n",
       "      <td>ABBC</td>\n",
       "      <td>12</td>\n",
       "      <td>C#CC#CC#CC#CC#CC#CC#CC#CC#CC#CC#CC#CC#CC#CC#CC...</td>\n",
       "      <td>generated</td>\n",
       "      <td>736.703</td>\n",
       "      <td>0.7381</td>\n",
       "      <td>-1.4</td>\n",
       "      <td>-1.4</td>\n",
       "      <td>-1.122222</td>\n",
       "    </tr>\n",
       "    <tr>\n",
       "      <th>12508</th>\n",
       "      <td>ABHB</td>\n",
       "      <td>12</td>\n",
       "      <td>C#CC#CC#CC#CC#CC#CC#CC#CC#CC#CC#CC#CC#CC#CC#CC...</td>\n",
       "      <td>generated</td>\n",
       "      <td>746.698</td>\n",
       "      <td>0.3514</td>\n",
       "      <td>-1.3</td>\n",
       "      <td>-1.3</td>\n",
       "      <td>-1.222222</td>\n",
       "    </tr>\n",
       "    <tr>\n",
       "      <th>12509</th>\n",
       "      <td>ABSO</td>\n",
       "      <td>12</td>\n",
       "      <td>C#CC#CC#CC#CC#CC#CC#CC#CC#CC#CC#CC#CC#CC#CC#CC...</td>\n",
       "      <td>generated</td>\n",
       "      <td>914.937</td>\n",
       "      <td>3.8107</td>\n",
       "      <td>-1.0</td>\n",
       "      <td>-1.0</td>\n",
       "      <td>-0.755556</td>\n",
       "    </tr>\n",
       "  </tbody>\n",
       "</table>\n",
       "<p>1415 rows × 9 columns</p>\n",
       "</div>"
      ],
      "text/plain": [
       "         id gen                                              smile     source  \\\n",
       "1      ABOH  12  CC1C=CCCCCCCCCCCCCCCCCCCCCCCCCCCCCCCCCCCCCCCCC...  generated   \n",
       "6      AANI  12  CC1CCCCCCCCCCCCCCCCCCCCCCCCCCCCCCCCCCCCCCCCCCC...  generated   \n",
       "12     AAIR  12  CC1CCCCCCCCCCCCCCCCCCCCCCCCCCCCCCCCCCCCCCCCCCC...  generated   \n",
       "26     AAVG  12  CC1C=CCCCCCCCCCCCCCCCCCCCCCCCCCCCCCCCCCCCCCCCC...  generated   \n",
       "25     AAWC  12  CC1C=CCCCCCCCCCCCCCCCCCCCCCCCCCCCCCCCCCCCCCCCC...  generated   \n",
       "...     ...  ..                                                ...        ...   \n",
       "12505  AAME  12  C#CC#CC#CC#CC#CC#CC#CC#CC#CC#CC#CC#CC#CC#CC#CC...  generated   \n",
       "12506  ABCV  12  C#CC#CC#CC#CC#CC#CC#CC#CC#CC#CC#CC#CC#CC#CC#CC...  generated   \n",
       "12507  ABBC  12  C#CC#CC#CC#CC#CC#CC#CC#CC#CC#CC#CC#CC#CC#CC#CC...  generated   \n",
       "12508  ABHB  12  C#CC#CC#CC#CC#CC#CC#CC#CC#CC#CC#CC#CC#CC#CC#CC...  generated   \n",
       "12509  ABSO  12  C#CC#CC#CC#CC#CC#CC#CC#CC#CC#CC#CC#CC#CC#CC#CC...  generated   \n",
       "\n",
       "         weight     logp  score  score_best  score_avg  \n",
       "1      1286.367  34.1331  -15.8       -15.8 -13.966667  \n",
       "6      1292.245  32.2693  -15.5       -15.5 -13.880000  \n",
       "12     1324.501  35.8533  -15.1       -15.1 -13.366667  \n",
       "26     1108.048  29.4739  -14.6       -14.6 -13.275000  \n",
       "25     1276.202  31.8352  -14.6       -14.6 -12.600000  \n",
       "...         ...      ...    ...         ...        ...  \n",
       "12505   750.730   1.7597   -1.5        -1.5  -1.388889  \n",
       "12506   762.741   1.6011   -1.4        -1.4  -1.300000  \n",
       "12507   736.703   0.7381   -1.4        -1.4  -1.122222  \n",
       "12508   746.698   0.3514   -1.3        -1.3  -1.222222  \n",
       "12509   914.937   3.8107   -1.0        -1.0  -0.755556  \n",
       "\n",
       "[1415 rows x 9 columns]"
      ]
     },
     "execution_count": 370,
     "metadata": {},
     "output_type": "execute_result"
    }
   ],
   "source": [
    "new_table[new_table.gen == '12']"
   ]
  },
  {
   "cell_type": "code",
   "execution_count": 371,
   "metadata": {
    "scrolled": true
   },
   "outputs": [
    {
     "data": {
      "text/plain": [
       "Index(['id', 'gen', 'smile', 'source', 'weight', 'logp', 'score', 'score_best',\n",
       "       'score_avg'],\n",
       "      dtype='object')"
      ]
     },
     "execution_count": 371,
     "metadata": {},
     "output_type": "execute_result"
    }
   ],
   "source": [
    "new_table.columns"
   ]
  },
  {
   "cell_type": "code",
   "execution_count": 380,
   "metadata": {
    "scrolled": false
   },
   "outputs": [
    {
     "data": {
      "text/html": [
       "<div>\n",
       "<style scoped>\n",
       "    .dataframe tbody tr th:only-of-type {\n",
       "        vertical-align: middle;\n",
       "    }\n",
       "\n",
       "    .dataframe tbody tr th {\n",
       "        vertical-align: top;\n",
       "    }\n",
       "\n",
       "    .dataframe thead th {\n",
       "        text-align: right;\n",
       "    }\n",
       "</style>\n",
       "<table border=\"1\" class=\"dataframe\">\n",
       "  <thead>\n",
       "    <tr style=\"text-align: right;\">\n",
       "      <th></th>\n",
       "      <th>id</th>\n",
       "      <th>gen</th>\n",
       "      <th>smile</th>\n",
       "      <th>source</th>\n",
       "      <th>weight</th>\n",
       "      <th>logp</th>\n",
       "      <th>score</th>\n",
       "      <th>score_best</th>\n",
       "      <th>score_avg</th>\n",
       "      <th>similarity_to_hiv_inhibitors</th>\n",
       "      <th>similarity_to_remdesivir</th>\n",
       "    </tr>\n",
       "  </thead>\n",
       "  <tbody>\n",
       "    <tr>\n",
       "      <th>0</th>\n",
       "      <td>ABZJ</td>\n",
       "      <td>11</td>\n",
       "      <td>CC1CCCCCCCCCCCCCCCCCCCCCCCCCCCCCCCCCCCCCCCCCCC...</td>\n",
       "      <td>generated</td>\n",
       "      <td>1312.235</td>\n",
       "      <td>32.3335</td>\n",
       "      <td>-16.0</td>\n",
       "      <td>-16.0</td>\n",
       "      <td>-14.466667</td>\n",
       "      <td>0.282192</td>\n",
       "      <td>0.298017</td>\n",
       "    </tr>\n",
       "    <tr>\n",
       "      <th>1</th>\n",
       "      <td>ABOH</td>\n",
       "      <td>12</td>\n",
       "      <td>CC1C=CCCCCCCCCCCCCCCCCCCCCCCCCCCCCCCCCCCCCCCCC...</td>\n",
       "      <td>generated</td>\n",
       "      <td>1286.367</td>\n",
       "      <td>34.1331</td>\n",
       "      <td>-15.8</td>\n",
       "      <td>-15.8</td>\n",
       "      <td>-13.966667</td>\n",
       "      <td>0.276748</td>\n",
       "      <td>0.286769</td>\n",
       "    </tr>\n",
       "    <tr>\n",
       "      <th>2</th>\n",
       "      <td>ABKL</td>\n",
       "      <td>10</td>\n",
       "      <td>CC1CCCCCCCCCCCCCCCCCCCCCCCCCCCCCCCCCCCCCCCCCCC...</td>\n",
       "      <td>generated</td>\n",
       "      <td>1264.191</td>\n",
       "      <td>31.4891</td>\n",
       "      <td>-15.6</td>\n",
       "      <td>-15.6</td>\n",
       "      <td>-13.460000</td>\n",
       "      <td>0.090760</td>\n",
       "      <td>0.089062</td>\n",
       "    </tr>\n",
       "    <tr>\n",
       "      <th>3</th>\n",
       "      <td>ABJD</td>\n",
       "      <td>11</td>\n",
       "      <td>CC1CCCCCCCCCCCCCCCCCCCCCCCCCCCCCCCCCCCCCCCCCCC...</td>\n",
       "      <td>generated</td>\n",
       "      <td>1384.386</td>\n",
       "      <td>34.3280</td>\n",
       "      <td>-15.6</td>\n",
       "      <td>-15.6</td>\n",
       "      <td>-13.683333</td>\n",
       "      <td>0.087761</td>\n",
       "      <td>0.087373</td>\n",
       "    </tr>\n",
       "    <tr>\n",
       "      <th>4</th>\n",
       "      <td>ACIQ</td>\n",
       "      <td>11</td>\n",
       "      <td>CC1CCCCCCCCCCCCCCCCCCCCCCCCCCCCCC2CCCCCCCCCCCC...</td>\n",
       "      <td>generated</td>\n",
       "      <td>1290.229</td>\n",
       "      <td>32.4477</td>\n",
       "      <td>-15.6</td>\n",
       "      <td>-15.6</td>\n",
       "      <td>-13.625000</td>\n",
       "      <td>0.299400</td>\n",
       "      <td>0.338983</td>\n",
       "    </tr>\n",
       "    <tr>\n",
       "      <th>5</th>\n",
       "      <td>ABIN</td>\n",
       "      <td>11</td>\n",
       "      <td>CC1CCCCCCCCCCCCCCCCCCCCCCCCCCCCCCCCCCCCCCCCCCC...</td>\n",
       "      <td>generated</td>\n",
       "      <td>1394.466</td>\n",
       "      <td>35.8504</td>\n",
       "      <td>-15.5</td>\n",
       "      <td>-15.5</td>\n",
       "      <td>-13.537500</td>\n",
       "      <td>0.299400</td>\n",
       "      <td>0.338983</td>\n",
       "    </tr>\n",
       "    <tr>\n",
       "      <th>6</th>\n",
       "      <td>AANI</td>\n",
       "      <td>12</td>\n",
       "      <td>CC1CCCCCCCCCCCCCCCCCCCCCCCCCCCCCCCCCCCCCCCCCCC...</td>\n",
       "      <td>generated</td>\n",
       "      <td>1292.245</td>\n",
       "      <td>32.2693</td>\n",
       "      <td>-15.5</td>\n",
       "      <td>-15.5</td>\n",
       "      <td>-13.880000</td>\n",
       "      <td>0.086704</td>\n",
       "      <td>0.085629</td>\n",
       "    </tr>\n",
       "    <tr>\n",
       "      <th>7</th>\n",
       "      <td>AAXU</td>\n",
       "      <td>11</td>\n",
       "      <td>CC1CCCCCCCCCCCCCCCCCCCCCCCCCCCCCCCCCCCCCC2CCCC...</td>\n",
       "      <td>generated</td>\n",
       "      <td>1272.255</td>\n",
       "      <td>32.3851</td>\n",
       "      <td>-15.4</td>\n",
       "      <td>-15.4</td>\n",
       "      <td>-14.000000</td>\n",
       "      <td>0.086704</td>\n",
       "      <td>0.085629</td>\n",
       "    </tr>\n",
       "    <tr>\n",
       "      <th>8</th>\n",
       "      <td>ABDZ</td>\n",
       "      <td>9</td>\n",
       "      <td>CC1CCC(C(=O)Nc2nnnn2-c2nnnnn2)c2ccccc2-c2ccccc...</td>\n",
       "      <td>generated</td>\n",
       "      <td>871.021</td>\n",
       "      <td>11.9259</td>\n",
       "      <td>-15.3</td>\n",
       "      <td>-15.3</td>\n",
       "      <td>-14.044444</td>\n",
       "      <td>0.383752</td>\n",
       "      <td>0.469755</td>\n",
       "    </tr>\n",
       "    <tr>\n",
       "      <th>9</th>\n",
       "      <td>AAZJ</td>\n",
       "      <td>11</td>\n",
       "      <td>CC1CCCCCCCCCCCCCCCCCCCCCCCCCCCCCCCCCCCCCCCCCCC...</td>\n",
       "      <td>generated</td>\n",
       "      <td>1518.778</td>\n",
       "      <td>40.0928</td>\n",
       "      <td>-15.3</td>\n",
       "      <td>-15.3</td>\n",
       "      <td>-13.200000</td>\n",
       "      <td>0.266784</td>\n",
       "      <td>0.278286</td>\n",
       "    </tr>\n",
       "  </tbody>\n",
       "</table>\n",
       "</div>"
      ],
      "text/plain": [
       "     id gen                                              smile     source  \\\n",
       "0  ABZJ  11  CC1CCCCCCCCCCCCCCCCCCCCCCCCCCCCCCCCCCCCCCCCCCC...  generated   \n",
       "1  ABOH  12  CC1C=CCCCCCCCCCCCCCCCCCCCCCCCCCCCCCCCCCCCCCCCC...  generated   \n",
       "2  ABKL  10  CC1CCCCCCCCCCCCCCCCCCCCCCCCCCCCCCCCCCCCCCCCCCC...  generated   \n",
       "3  ABJD  11  CC1CCCCCCCCCCCCCCCCCCCCCCCCCCCCCCCCCCCCCCCCCCC...  generated   \n",
       "4  ACIQ  11  CC1CCCCCCCCCCCCCCCCCCCCCCCCCCCCCC2CCCCCCCCCCCC...  generated   \n",
       "5  ABIN  11  CC1CCCCCCCCCCCCCCCCCCCCCCCCCCCCCCCCCCCCCCCCCCC...  generated   \n",
       "6  AANI  12  CC1CCCCCCCCCCCCCCCCCCCCCCCCCCCCCCCCCCCCCCCCCCC...  generated   \n",
       "7  AAXU  11  CC1CCCCCCCCCCCCCCCCCCCCCCCCCCCCCCCCCCCCCC2CCCC...  generated   \n",
       "8  ABDZ   9  CC1CCC(C(=O)Nc2nnnn2-c2nnnnn2)c2ccccc2-c2ccccc...  generated   \n",
       "9  AAZJ  11  CC1CCCCCCCCCCCCCCCCCCCCCCCCCCCCCCCCCCCCCCCCCCC...  generated   \n",
       "\n",
       "     weight     logp  score  score_best  score_avg  \\\n",
       "0  1312.235  32.3335  -16.0       -16.0 -14.466667   \n",
       "1  1286.367  34.1331  -15.8       -15.8 -13.966667   \n",
       "2  1264.191  31.4891  -15.6       -15.6 -13.460000   \n",
       "3  1384.386  34.3280  -15.6       -15.6 -13.683333   \n",
       "4  1290.229  32.4477  -15.6       -15.6 -13.625000   \n",
       "5  1394.466  35.8504  -15.5       -15.5 -13.537500   \n",
       "6  1292.245  32.2693  -15.5       -15.5 -13.880000   \n",
       "7  1272.255  32.3851  -15.4       -15.4 -14.000000   \n",
       "8   871.021  11.9259  -15.3       -15.3 -14.044444   \n",
       "9  1518.778  40.0928  -15.3       -15.3 -13.200000   \n",
       "\n",
       "   similarity_to_hiv_inhibitors  similarity_to_remdesivir  \n",
       "0                      0.282192                  0.298017  \n",
       "1                      0.276748                  0.286769  \n",
       "2                      0.090760                  0.089062  \n",
       "3                      0.087761                  0.087373  \n",
       "4                      0.299400                  0.338983  \n",
       "5                      0.299400                  0.338983  \n",
       "6                      0.086704                  0.085629  \n",
       "7                      0.086704                  0.085629  \n",
       "8                      0.383752                  0.469755  \n",
       "9                      0.266784                  0.278286  "
      ]
     },
     "execution_count": 380,
     "metadata": {},
     "output_type": "execute_result"
    }
   ],
   "source": [
    "# Add HIV inhibitors manually into the table\n",
    "hiv_smiles = pd.read_csv('./datasets/hiv_inhibitors_cleaned.smi',sep=',', header=None)\n",
    "hiv_smiles_list = list(hiv_smiles[0])\n",
    "\n",
    "for smile in hiv_smiles_list:\n",
    "    hiv_fingerprints.append(Chem.RDKFingerprint(Chem.MolFromSmiles(smile)))\n",
    "\n",
    "def calc_hiv_similarity_score(row):\n",
    "    fingerprint = Chem.RDKFingerprint(Chem.MolFromSmiles(row['smile']))\n",
    "    similarity = np.mean(DataStructs.BulkTanimotoSimilarity(fingerprint,hiv_fingerprints))\n",
    "    return similarity\n",
    "\n",
    "remdesivir_fingerprint = Chem.RDKFingerprint(Chem.MolFromSmiles('CCC(CC)COC(=O)[C@H](C)NP(=O)(OC[C@H]1O[C@](C#N)([C@H](O)[C@@H]1O)C1=CC=C2N1N=CN=C2N)OC1=CC=CC=C1'))\n",
    "\n",
    "new_table['similarity_to_hiv_inhibitors'] = new_table.apply(calc_hiv_similarity_score, axis=1)\n",
    "new_table['similarity_to_remdesivir'] = new_table['smile'].apply(lambda x: DataStructs.TanimotoSimilarity(Chem.RDKFingerprint(Chem.MolFromSmiles(x)),remdesivir_fingerprint))\n",
    "new_table.sort_values(by=['similarity_to_hiv_inhibitors', 'similarity_to_remdesivir'])\n",
    "new_table.head(10)"
   ]
  },
  {
   "cell_type": "code",
   "execution_count": 390,
   "metadata": {},
   "outputs": [
    {
     "data": {
      "text/html": [
       "<div>\n",
       "<style scoped>\n",
       "    .dataframe tbody tr th:only-of-type {\n",
       "        vertical-align: middle;\n",
       "    }\n",
       "\n",
       "    .dataframe tbody tr th {\n",
       "        vertical-align: top;\n",
       "    }\n",
       "\n",
       "    .dataframe thead th {\n",
       "        text-align: right;\n",
       "    }\n",
       "</style>\n",
       "<table border=\"1\" class=\"dataframe\">\n",
       "  <thead>\n",
       "    <tr style=\"text-align: right;\">\n",
       "      <th></th>\n",
       "      <th>id</th>\n",
       "      <th>gen</th>\n",
       "      <th>smile</th>\n",
       "      <th>source</th>\n",
       "      <th>weight</th>\n",
       "      <th>logp</th>\n",
       "      <th>score</th>\n",
       "      <th>score_best</th>\n",
       "      <th>score_avg</th>\n",
       "      <th>similarity_to_hiv_inhibitors</th>\n",
       "      <th>similarity_to_remdesivir</th>\n",
       "    </tr>\n",
       "  </thead>\n",
       "  <tbody>\n",
       "    <tr>\n",
       "      <th>117</th>\n",
       "      <td>AAWE</td>\n",
       "      <td>12</td>\n",
       "      <td>CC1C=CC=C(C(=O)Nc2nnnn2N2CCN(C(=O)Nc3nnnnn3)C2...</td>\n",
       "      <td>generated</td>\n",
       "      <td>703.727</td>\n",
       "      <td>4.9502</td>\n",
       "      <td>-13.6</td>\n",
       "      <td>-13.6</td>\n",
       "      <td>-12.933333</td>\n",
       "      <td>0.451717</td>\n",
       "      <td>0.607641</td>\n",
       "    </tr>\n",
       "    <tr>\n",
       "      <th>184</th>\n",
       "      <td>ABQA</td>\n",
       "      <td>12</td>\n",
       "      <td>CC1C=CC=C(C(=O)Nc2nnnn2N2CCN(C(=O)Nc3nnnnn3)C2...</td>\n",
       "      <td>generated</td>\n",
       "      <td>815.779</td>\n",
       "      <td>2.3371</td>\n",
       "      <td>-13.3</td>\n",
       "      <td>-13.3</td>\n",
       "      <td>-12.377778</td>\n",
       "      <td>0.487943</td>\n",
       "      <td>0.680991</td>\n",
       "    </tr>\n",
       "    <tr>\n",
       "      <th>269</th>\n",
       "      <td>AANY</td>\n",
       "      <td>12</td>\n",
       "      <td>CC1CCC(C(=O)Nc2nnnn2N2CCN(C(=O)Nc3nnnnn3)C2=O)...</td>\n",
       "      <td>generated</td>\n",
       "      <td>693.732</td>\n",
       "      <td>4.8744</td>\n",
       "      <td>-13.1</td>\n",
       "      <td>-13.1</td>\n",
       "      <td>-11.988889</td>\n",
       "      <td>0.449364</td>\n",
       "      <td>0.585162</td>\n",
       "    </tr>\n",
       "    <tr>\n",
       "      <th>336</th>\n",
       "      <td>ABFU</td>\n",
       "      <td>12</td>\n",
       "      <td>CC1C=CCCC(C(=O)Nc2nnnn2N2CCN(C(=O)Nc3nnnnn3)C2...</td>\n",
       "      <td>generated</td>\n",
       "      <td>671.682</td>\n",
       "      <td>3.4789</td>\n",
       "      <td>-13.0</td>\n",
       "      <td>-13.0</td>\n",
       "      <td>-12.211111</td>\n",
       "      <td>0.456178</td>\n",
       "      <td>0.603842</td>\n",
       "    </tr>\n",
       "    <tr>\n",
       "      <th>424</th>\n",
       "      <td>ABDR</td>\n",
       "      <td>12</td>\n",
       "      <td>CC1C=CCCC(C(=O)Nc2nnnn2-c2ccccc2C2=CC=C(C(=O)N...</td>\n",
       "      <td>generated</td>\n",
       "      <td>561.566</td>\n",
       "      <td>2.3443</td>\n",
       "      <td>-12.8</td>\n",
       "      <td>-12.8</td>\n",
       "      <td>-11.500000</td>\n",
       "      <td>0.444924</td>\n",
       "      <td>0.597517</td>\n",
       "    </tr>\n",
       "  </tbody>\n",
       "</table>\n",
       "</div>"
      ],
      "text/plain": [
       "       id gen                                              smile     source  \\\n",
       "117  AAWE  12  CC1C=CC=C(C(=O)Nc2nnnn2N2CCN(C(=O)Nc3nnnnn3)C2...  generated   \n",
       "184  ABQA  12  CC1C=CC=C(C(=O)Nc2nnnn2N2CCN(C(=O)Nc3nnnnn3)C2...  generated   \n",
       "269  AANY  12  CC1CCC(C(=O)Nc2nnnn2N2CCN(C(=O)Nc3nnnnn3)C2=O)...  generated   \n",
       "336  ABFU  12  CC1C=CCCC(C(=O)Nc2nnnn2N2CCN(C(=O)Nc3nnnnn3)C2...  generated   \n",
       "424  ABDR  12  CC1C=CCCC(C(=O)Nc2nnnn2-c2ccccc2C2=CC=C(C(=O)N...  generated   \n",
       "\n",
       "      weight    logp  score  score_best  score_avg  \\\n",
       "117  703.727  4.9502  -13.6       -13.6 -12.933333   \n",
       "184  815.779  2.3371  -13.3       -13.3 -12.377778   \n",
       "269  693.732  4.8744  -13.1       -13.1 -11.988889   \n",
       "336  671.682  3.4789  -13.0       -13.0 -12.211111   \n",
       "424  561.566  2.3443  -12.8       -12.8 -11.500000   \n",
       "\n",
       "     similarity_to_hiv_inhibitors  similarity_to_remdesivir  \n",
       "117                      0.451717                  0.607641  \n",
       "184                      0.487943                  0.680991  \n",
       "269                      0.449364                  0.585162  \n",
       "336                      0.456178                  0.603842  \n",
       "424                      0.444924                  0.597517  "
      ]
     },
     "execution_count": 390,
     "metadata": {},
     "output_type": "execute_result"
    }
   ],
   "source": [
    "new_table = new_table[(new_table.score < -12) & (new_table.logp < 5)]\n",
    "new_table.head()"
   ]
  },
  {
   "cell_type": "code",
   "execution_count": 391,
   "metadata": {},
   "outputs": [
    {
     "data": {
      "text/plain": [
       "(23, 11)"
      ]
     },
     "execution_count": 391,
     "metadata": {},
     "output_type": "execute_result"
    }
   ],
   "source": [
    "new_table.shape"
   ]
  },
  {
   "cell_type": "code",
   "execution_count": 392,
   "metadata": {
    "scrolled": true
   },
   "outputs": [],
   "source": [
    "new_table.to_csv(r'./generations/master_results_table_final.csv', index=False)"
   ]
  },
  {
   "cell_type": "code",
   "execution_count": 393,
   "metadata": {},
   "outputs": [],
   "source": [
    "mols_for_export = final_table.apply(set_molecule, axis=1)"
   ]
  },
  {
   "cell_type": "code",
   "execution_count": 395,
   "metadata": {},
   "outputs": [],
   "source": [
    "w = Chem.SDWriter('./generations/genfinal.sdf')\n",
    "for m in mols_for_export:\n",
    "    w.write(m)"
   ]
  },
  {
   "cell_type": "markdown",
   "metadata": {},
   "source": [
    "# Data Visualization"
   ]
  },
  {
   "cell_type": "code",
   "execution_count": 13,
   "metadata": {
    "scrolled": true
   },
   "outputs": [],
   "source": [
    "import pandas as pd\n",
    "import numpy as np\n",
    "%matplotlib inline\n",
    "import matplotlib.pyplot as plt\n",
    "import seaborn as sns"
   ]
  },
  {
   "cell_type": "code",
   "execution_count": 14,
   "metadata": {
    "scrolled": true
   },
   "outputs": [
    {
     "data": {
      "text/html": [
       "<div>\n",
       "<style scoped>\n",
       "    .dataframe tbody tr th:only-of-type {\n",
       "        vertical-align: middle;\n",
       "    }\n",
       "\n",
       "    .dataframe tbody tr th {\n",
       "        vertical-align: top;\n",
       "    }\n",
       "\n",
       "    .dataframe thead th {\n",
       "        text-align: right;\n",
       "    }\n",
       "</style>\n",
       "<table border=\"1\" class=\"dataframe\">\n",
       "  <thead>\n",
       "    <tr style=\"text-align: right;\">\n",
       "      <th></th>\n",
       "      <th>gen</th>\n",
       "      <th>weight</th>\n",
       "      <th>logp</th>\n",
       "      <th>score</th>\n",
       "    </tr>\n",
       "  </thead>\n",
       "  <tbody>\n",
       "    <tr>\n",
       "      <th>count</th>\n",
       "      <td>1222.000000</td>\n",
       "      <td>1222.000000</td>\n",
       "      <td>1222.000000</td>\n",
       "      <td>1222.000000</td>\n",
       "    </tr>\n",
       "    <tr>\n",
       "      <th>mean</th>\n",
       "      <td>7.463993</td>\n",
       "      <td>431.778426</td>\n",
       "      <td>2.277375</td>\n",
       "      <td>-9.051473</td>\n",
       "    </tr>\n",
       "    <tr>\n",
       "      <th>std</th>\n",
       "      <td>3.603383</td>\n",
       "      <td>108.858531</td>\n",
       "      <td>1.792309</td>\n",
       "      <td>1.121348</td>\n",
       "    </tr>\n",
       "    <tr>\n",
       "      <th>min</th>\n",
       "      <td>0.000000</td>\n",
       "      <td>104.152000</td>\n",
       "      <td>-4.533300</td>\n",
       "      <td>-13.600000</td>\n",
       "    </tr>\n",
       "    <tr>\n",
       "      <th>25%</th>\n",
       "      <td>5.000000</td>\n",
       "      <td>351.678750</td>\n",
       "      <td>1.084300</td>\n",
       "      <td>-9.700000</td>\n",
       "    </tr>\n",
       "    <tr>\n",
       "      <th>50%</th>\n",
       "      <td>7.000000</td>\n",
       "      <td>418.479000</td>\n",
       "      <td>2.485600</td>\n",
       "      <td>-8.700000</td>\n",
       "    </tr>\n",
       "    <tr>\n",
       "      <th>75%</th>\n",
       "      <td>11.000000</td>\n",
       "      <td>491.571000</td>\n",
       "      <td>3.712500</td>\n",
       "      <td>-8.200000</td>\n",
       "    </tr>\n",
       "    <tr>\n",
       "      <th>max</th>\n",
       "      <td>12.000000</td>\n",
       "      <td>896.071000</td>\n",
       "      <td>4.999600</td>\n",
       "      <td>-7.800000</td>\n",
       "    </tr>\n",
       "  </tbody>\n",
       "</table>\n",
       "</div>"
      ],
      "text/plain": [
       "               gen       weight         logp        score\n",
       "count  1222.000000  1222.000000  1222.000000  1222.000000\n",
       "mean      7.463993   431.778426     2.277375    -9.051473\n",
       "std       3.603383   108.858531     1.792309     1.121348\n",
       "min       0.000000   104.152000    -4.533300   -13.600000\n",
       "25%       5.000000   351.678750     1.084300    -9.700000\n",
       "50%       7.000000   418.479000     2.485600    -8.700000\n",
       "75%      11.000000   491.571000     3.712500    -8.200000\n",
       "max      12.000000   896.071000     4.999600    -7.800000"
      ]
     },
     "execution_count": 14,
     "metadata": {},
     "output_type": "execute_result"
    }
   ],
   "source": [
    "final_joined.describe()"
   ]
  },
  {
   "cell_type": "code",
   "execution_count": 15,
   "metadata": {
    "scrolled": true
   },
   "outputs": [
    {
     "data": {
      "text/plain": [
       "Index(['smile', 'gen', 'id', 'source', 'weight', 'logp', 'score'], dtype='object')"
      ]
     },
     "execution_count": 15,
     "metadata": {},
     "output_type": "execute_result"
    }
   ],
   "source": [
    "final_joined.columns"
   ]
  },
  {
   "cell_type": "markdown",
   "metadata": {},
   "source": [
    "### Binding Score"
   ]
  },
  {
   "cell_type": "code",
   "execution_count": 19,
   "metadata": {
    "scrolled": true
   },
   "outputs": [
    {
     "data": {
      "text/plain": [
       "<Figure size 576x432 with 0 Axes>"
      ]
     },
     "metadata": {},
     "output_type": "display_data"
    },
    {
     "data": {
      "image/png": "[encoded data removed]",
      "text/plain": [
       "<Figure size 360x360 with 1 Axes>"
      ]
     },
     "metadata": {},
     "output_type": "display_data"
    }
   ],
   "source": [
    "plt.figure(figsize=(8,6))\n",
    "sns.set()\n",
    "score = sns.relplot(x=\"gen\", y=\"score\", kind=\"line\", data=final_joined)\n",
    "plt.savefig('img/line_plot_score.svg',dpi=300)"
   ]
  },
  {
   "cell_type": "markdown",
   "metadata": {},
   "source": [
    "### Binding Score and logP"
   ]
  },
  {
   "cell_type": "code",
   "execution_count": 20,
   "metadata": {
    "scrolled": true
   },
   "outputs": [
    {
     "data": {
      "image/png": "[encoded data removed]",
      "text/plain": [
       "<Figure size 1008x432 with 1 Axes>"
      ]
     },
     "metadata": {},
     "output_type": "display_data"
    }
   ],
   "source": [
    "# Set the width and height of the figure\n",
    "plt.figure(figsize=(14,6))\n",
    "\n",
    "sns.lineplot(y=final_joined['score'],x=final_joined['gen'], label=\"score\")\n",
    "sns.lineplot(y=final_joined['logp'],x=final_joined['gen'], label=\"logp\")\n",
    "\n",
    "# Add label for horizontal axis\n",
    "plt.xlabel(\"gen\")\n",
    "\n",
    "plt.savefig('img/line_plot_score_logp.svg',dpi=300)"
   ]
  },
  {
   "cell_type": "code",
   "execution_count": 21,
   "metadata": {},
   "outputs": [
    {
     "data": {
      "text/plain": [
       "<Figure size 1008x432 with 0 Axes>"
      ]
     },
     "metadata": {},
     "output_type": "display_data"
    },
    {
     "data": {
      "image/png": "[encoded data removed]",
      "text/plain": [
       "<Figure size 426.35x360 with 1 Axes>"
      ]
     },
     "metadata": {},
     "output_type": "display_data"
    }
   ],
   "source": [
    "plt.figure(figsize=(14,6))\n",
    "final[\"edible\"] = (final_joined[\"logp\"]<5) & (final_joined[\"logp\"]>0)\n",
    "sns.lmplot(x=\"gen\",y=\"score\", data=final, hue=\"edible\")\n",
    "\n",
    "plt.savefig('img/lm_plot_score_edible.svg',dpi=300)"
   ]
  },
  {
   "cell_type": "markdown",
   "metadata": {},
   "source": [
    "### Max, Mean, Min of score"
   ]
  },
  {
   "cell_type": "code",
   "execution_count": 24,
   "metadata": {},
   "outputs": [
    {
     "data": {
      "image/png": "[encoded data removed]",
      "text/plain": [
       "<Figure size 1008x432 with 1 Axes>"
      ]
     },
     "metadata": {},
     "output_type": "display_data"
    }
   ],
   "source": [
    "# Set the width and height of the figure\n",
    "plt.figure(figsize=(14,6))\n",
    "\n",
    "sns.boxplot(x=\"gen\", y=\"score\", data=final_joined)\n",
    "\n",
    "# Add label for horizontal axis\n",
    "plt.xlabel(\"gen\")\n",
    "\n",
    "sns.set()\n",
    "plt.savefig('img/box_plot_score.svg',dpi=300)"
   ]
  },
  {
   "cell_type": "markdown",
   "metadata": {},
   "source": [
    "### Max, Mean and Min of logP"
   ]
  },
  {
   "cell_type": "code",
   "execution_count": 28,
   "metadata": {},
   "outputs": [
    {
     "data": {
      "image/png": "[encoded data removed]",
      "text/plain": [
       "<Figure size 1008x432 with 1 Axes>"
      ]
     },
     "metadata": {},
     "output_type": "display_data"
    }
   ],
   "source": [
    "# Set the width and height of the figure\n",
    "plt.figure(figsize=(14,6))\n",
    "\n",
    "sns.boxplot(x=\"gen\", y=\"logp\", data=final_joined)\n",
    "\n",
    "# Add label for horizontal axis\n",
    "plt.xlabel(\"gen\")\n",
    "\n",
    "sns.set()\n",
    "plt.savefig('img/box_plot_logp.svg',dpi=300)"
   ]
  },
  {
   "cell_type": "markdown",
   "metadata": {},
   "source": [
    "### Gaussian of the logP"
   ]
  },
  {
   "cell_type": "code",
   "execution_count": 213,
   "metadata": {
    "scrolled": false
   },
   "outputs": [
    {
     "data": {
      "text/plain": [
       "<matplotlib.axes._subplots.AxesSubplot at 0x2170ba502b0>"
      ]
     },
     "execution_count": 213,
     "metadata": {},
     "output_type": "execute_result"
    },
    {
     "data": {
      "image/png": "[encoded data removed]",
      "text/plain": [
       "<Figure size 1008x432 with 1 Axes>"
      ]
     },
     "metadata": {
      "needs_background": "light"
     },
     "output_type": "display_data"
    }
   ],
   "source": [
    "# Sort the dataframe by target\n",
    "plt.figure(figsize=(14,6))\n",
    "\n",
    "gen0_dist = final_joined.loc[final_joined['gen'] == 0]\n",
    "gen1_dist = final_joined.loc[final_joined['gen'] == 1]\n",
    "gen2_dist = final_joined.loc[final_joined['gen'] == 2]\n",
    "gen3_dist = final_joined.loc[final_joined['gen'] == 3]\n",
    "gen4_dist = final_joined.loc[final_joined['gen'] == 4]\n",
    "gen5_dist = final_joined.loc[final_joined['gen'] == 5]\n",
    "gen6_dist = final_joined.loc[final_joined['gen'] == 6]\n",
    "gen7_dist = final_joined.loc[final_joined['gen'] == 7]\n",
    "gen8_dist = final_joined.loc[final_joined['gen'] == 8]\n",
    "gen9_dist = final_joined.loc[final_joined['gen'] == 9]\n",
    "gen10_dist = final_joined.loc[final_joined['gen'] == 10]\n",
    "gen11_dist = final_joined.loc[final_joined['gen'] == 11]\n",
    "gen12_dist = final_joined.loc[final_joined['gen'] == 12]\n",
    "\n",
    "\n",
    "sns.distplot(gen0_dist[['logp']], hist=False, rug=True, label=\"gen0\")\n",
    "sns.distplot(gen1_dist[['logp']], hist=False, rug=True, label=\"gen1\")\n",
    "sns.distplot(gen2_dist[['logp']], hist=False, rug=True, label=\"gen2\")\n",
    "sns.distplot(gen3_dist[['logp']], hist=False, rug=True, label=\"gen3\")\n",
    "sns.distplot(gen4_dist[['logp']], hist=False, rug=True, label=\"gen4\")\n",
    "sns.distplot(gen5_dist[['logp']], hist=False, rug=True, label=\"gen5\")\n",
    "sns.distplot(gen6_dist[['logp']], hist=False, rug=True, label=\"gen6\")\n",
    "sns.distplot(gen7_dist[['logp']], hist=False, rug=True, label=\"gen7\")\n",
    "sns.distplot(gen8_dist[['logp']], hist=False, rug=True, label=\"gen8\")\n",
    "sns.distplot(gen9_dist[['logp']], hist=False, rug=True, label=\"gen9\")\n",
    "sns.distplot(gen10_dist[['logp']], hist=False, rug=True, label=\"gen10\")\n",
    "sns.distplot(gen11_dist[['logp']], hist=False, rug=True, label=\"gen11\")\n",
    "sns.distplot(gen12_dist[['logp']], hist=False, rug=True, label=\"gen12\")\n",
    "\n",
    "\n",
    "\n"
   ]
  },
  {
   "cell_type": "markdown",
   "metadata": {},
   "source": [
    "### Correlations between attributes"
   ]
  },
  {
   "cell_type": "code",
   "execution_count": 215,
   "metadata": {
    "scrolled": false
   },
   "outputs": [
    {
     "data": {
      "text/plain": [
       "<matplotlib.axes._subplots.AxesSubplot at 0x217139357f0>"
      ]
     },
     "execution_count": 215,
     "metadata": {},
     "output_type": "execute_result"
    },
    {
     "data": {
      "image/png": "[encoded data removed]",
      "text/plain": [
       "<Figure size 1008x432 with 2 Axes>"
      ]
     },
     "metadata": {
      "needs_background": "light"
     },
     "output_type": "display_data"
    }
   ],
   "source": [
    "plt.figure(figsize=(14,6))\n",
    "corr = final_joined.loc[:,final_joined.dtypes == 'float64'].corr()\n",
    "sns.heatmap(corr, xticklabels=corr.columns, annot=True, yticklabels=corr.columns, cmap=sns.diverging_palette(220, 10, as_cmap=True))"
   ]
  },
  {
   "cell_type": "markdown",
   "metadata": {},
   "source": [
    "### Violin Plot"
   ]
  },
  {
   "cell_type": "code",
   "execution_count": 26,
   "metadata": {
    "scrolled": true
   },
   "outputs": [
    {
     "data": {
      "image/png": "[encoded data removed]",
      "text/plain": [
       "<Figure size 1440x360 with 1 Axes>"
      ]
     },
     "metadata": {},
     "output_type": "display_data"
    }
   ],
   "source": [
    "plt.figure(figsize=(20,5))\n",
    "sns.violinplot(x=\"gen\", y=\"score\", data=final_joined)\n",
    "\n",
    "sns.set()\n",
    "plt.savefig('img/violin_plot_score.svg',dpi=300)"
   ]
  },
  {
   "cell_type": "markdown",
   "metadata": {},
   "source": [
    "### KDE jointplot "
   ]
  },
  {
   "cell_type": "code",
   "execution_count": 27,
   "metadata": {
    "scrolled": false
   },
   "outputs": [
    {
     "data": {
      "text/plain": [
       "<Figure size 1440x360 with 0 Axes>"
      ]
     },
     "metadata": {},
     "output_type": "display_data"
    },
    {
     "data": {
      "image/png": "[encoded data removed]",
      "text/plain": [
       "<Figure size 432x432 with 3 Axes>"
      ]
     },
     "metadata": {},
     "output_type": "display_data"
    }
   ],
   "source": [
    "plt.figure(figsize=(20,5))\n",
    "\n",
    "sns.jointplot(x=\"gen\", y=\"score\", data=final_joined, kind=\"kde\")\n",
    "\n",
    "sns.set()\n",
    "plt.savefig('img/kde_joinplot_score.svg',dpi=300)"
   ]
  },
  {
   "cell_type": "code",
   "execution_count": null,
   "metadata": {},
   "outputs": [],
   "source": []
  }
 ],
 "metadata": {
  "kernelspec": {
   "display_name": "Python 3",
   "language": "python",
   "name": "python3"
  },
  "language_info": {
   "codemirror_mode": {
    "name": "ipython",
    "version": 3
   },
   "file_extension": ".py",
   "mimetype": "text/x-python",
   "name": "python",
   "nbconvert_exporter": "python",
   "pygments_lexer": "ipython3",
   "version": "3.6.10"
  }
 },
 "nbformat": 4,
 "nbformat_minor": 4
}
