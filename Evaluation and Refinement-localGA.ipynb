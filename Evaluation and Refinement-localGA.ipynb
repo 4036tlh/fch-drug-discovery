{
 "cells": [
  {
   "cell_type": "markdown",
   "metadata": {},
   "source": [
    "# Description\n",
    "\n",
    "This notebook is used to process and evalutate the initial universe of generated smiles, and then retain the network applying techniques and principles from both transfer learning and genetic algorithms to increasingly improve molecule generation for the specific task of binding with cornovirus protease."
   ]
  },
  {
   "cell_type": "markdown",
   "metadata": {},
   "source": [
    "## First process initial generated smiles for PyRx analysis "
   ]
  },
  {
   "cell_type": "code",
   "execution_count": 1,
   "metadata": {},
   "outputs": [],
   "source": [
    "import pandas as pd\n",
    "from rdkit import Chem, DataStructs\n",
    "from rdkit.Chem import Descriptors\n",
    "import random\n",
    "import numpy as np\n",
    "import rdkit.Chem.PropertyMol"
   ]
  },
  {
   "cell_type": "code",
   "execution_count": 2,
   "metadata": {
    "scrolled": true
   },
   "outputs": [
    {
     "data": {
      "text/plain": [
       "9703"
      ]
     },
     "execution_count": 2,
     "metadata": {},
     "output_type": "execute_result"
    }
   ],
   "source": [
    "# load gen0_smiles.smi as gen0_table\n",
    "# generation/gen0_smiles.smi\n",
    "gen0_table = pd.read_csv('./generations/gen0_smiles.smi',sep=',', header=None)\n",
    "gen0 = list(gen0_table[0])[0:10000]\n",
    "len(gen0)"
   ]
  },
  {
   "cell_type": "code",
   "execution_count": 3,
   "metadata": {},
   "outputs": [],
   "source": [
    "def validate_mols(list_of_smiles):\n",
    "    \"\"\"\n",
    "    :param list_of_smiles: python list of smiles\n",
    "    \"\"\"\n",
    "    valid_mols = []\n",
    "    for smi in list_of_smiles:\n",
    "        mol = Chem.MolFromSmiles(smi)\n",
    "        if mol is not None:\n",
    "            valid_mols.append(mol)\n",
    "    return valid_mols\n",
    "\n",
    "def convert_mols_to_smiles(list_of_mols):\n",
    "    valid_smiles = [Chem.MolToSmiles(mol) for mol in list_of_mols]\n",
    "    return valid_smiles"
   ]
  },
  {
   "cell_type": "code",
   "execution_count": 4,
   "metadata": {
    "scrolled": false
   },
   "outputs": [
    {
     "data": {
      "text/plain": [
       "9703"
      ]
     },
     "execution_count": 4,
     "metadata": {},
     "output_type": "execute_result"
    }
   ],
   "source": [
    "gen0_mols = validate_mols(gen0)\n",
    "len(gen0_mols)"
   ]
  },
  {
   "cell_type": "markdown",
   "metadata": {},
   "source": [
    "### Molecular Fingerprint\n",
    "Molecular fingerprints are a way of encoding the structure of a molecule. The most common type of fingerprint is a series of binary digits (bits) that represent the presence or absence of particular substructures in the molecule. Comparing fingerprints allows you to determine the similarity between two molecules, to find matches to a query substructure, etc.\n",
    "\n",
    "### Tanimoto Analysis\n",
    "One commonly used algorithm to calculate the similarity is the Tanimoto coefficient. In the Tanimoto Algorithm A and B are sets of fingerprint bits on in the fingerprints of molecule A and molecule B. AB is the set of common bits of fingerprints of both molecule A and B. The Tanimoto coefficient ranges from 0 when the fingerprints have no bits in common, to 1 when the fingerprints are identical."
   ]
  },
  {
   "cell_type": "code",
   "execution_count": 5,
   "metadata": {},
   "outputs": [],
   "source": [
    "def initialize_generation_from_mols(list_of_mols,desired_length): \n",
    "    '''\n",
    "    Intakes a list of smiles, randomly shuffles them, then adds first thirty,\n",
    "    then sets a max-similarity threshold between any new molecule and existing list\n",
    "    and iteratively increases the treshold until X components are picked to ensure diveristy\n",
    "    '''\n",
    "    assert desired_length >30\n",
    "    random.shuffle(list_of_mols)\n",
    "    random.shuffle(list_of_mols)\n",
    "    \n",
    "    # Prepare fingerprints for similarity calcs\n",
    "    mol_fingerprints = []\n",
    "    for mol in list_of_mols:\n",
    "        mol_fingerprints.append(Chem.RDKFingerprint(mol))\n",
    "    \n",
    "    selected_mols = list_of_mols[0:30]\n",
    "    selected_fingerprints = mol_fingerprints[0:30]\n",
    "    remaining_mols = list_of_mols[30:]\n",
    "    remaining_fingerprints = mol_fingerprints[30:]\n",
    "    \n",
    "    # Start with 0.05 as treshold\n",
    "    similarity_threshold = .05   \n",
    "    while len(selected_mols) < desired_length:\n",
    "        for fingerprint, mol in zip(remaining_fingerprints, remaining_mols):\n",
    "            max_similarity = np.max(DataStructs.BulkTanimotoSimilarity(fingerprint,selected_fingerprints))\n",
    "            if (max_similarity <= similarity_threshold) and (max_similarity < 1):\n",
    "                selected_fingerprints.append(fingerprint)\n",
    "                selected_mols.append(mol)\n",
    "        print(\"Completed loop with threshold at: \", similarity_threshold, \". Length is currently: \", len(selected_mols))\n",
    "        similarity_threshold += .05\n",
    "    return selected_mols"
   ]
  },
  {
   "cell_type": "code",
   "execution_count": 6,
   "metadata": {},
   "outputs": [
    {
     "name": "stdout",
     "output_type": "stream",
     "text": [
      "Completed loop with threshold at:  0.05 . Length is currently:  30\n",
      "Completed loop with threshold at:  0.1 . Length is currently:  30\n",
      "Completed loop with threshold at:  0.15000000000000002 . Length is currently:  32\n",
      "Completed loop with threshold at:  0.2 . Length is currently:  41\n",
      "Completed loop with threshold at:  0.25 . Length is currently:  74\n",
      "Completed loop with threshold at:  0.3 . Length is currently:  201\n",
      "Completed loop with threshold at:  0.35 . Length is currently:  516\n",
      "Completed loop with threshold at:  0.39999999999999997 . Length is currently:  1122\n"
     ]
    }
   ],
   "source": [
    "# Select 1000 molecule based on tanimota similarity\n",
    "gen0_mols = initialize_generation_from_mols(gen0_mols,1000)"
   ]
  },
  {
   "cell_type": "code",
   "execution_count": 7,
   "metadata": {},
   "outputs": [],
   "source": [
    "# Questions: Where is this master_results_table.csv comes from (maybe from nothing)\n",
    "# generations/master_results_table.csv\n",
    "master_table = pd.read_csv('./generations/master_results_table.csv',sep=',')"
   ]
  },
  {
   "cell_type": "code",
   "execution_count": 6,
   "metadata": {},
   "outputs": [
    {
     "data": {
      "text/plain": [
       "'AAAB'"
      ]
     },
     "execution_count": 6,
     "metadata": {},
     "output_type": "execute_result"
    }
   ],
   "source": [
    "def iterate_alpha(alpha_code):\n",
    "    '''\n",
    "    Certainly not opimized and not strictly necessary, but in the PyRx GUI\n",
    "    molecule names would sort oddly when in any numeric order, so ordering\n",
    "    molcules by a four letter code. This function iterates the four letter code.\n",
    "    '''\n",
    "    numbers = []\n",
    "    for letter in alpha_code:\n",
    "        number = ord(letter)\n",
    "        numbers.append(number)\n",
    "    \n",
    "    if numbers[3]+1 > 90:\n",
    "        if numbers[2]+1 > 90:\n",
    "            if numbers[1]+1 > 90:\n",
    "                if numbers[0]+1 > 90:\n",
    "                    raise ValueError('Too long for alpha code')\n",
    "                else:\n",
    "                    numbers[3] = 65\n",
    "                    numbers[2] = 65\n",
    "                    numbers[1] = 65\n",
    "                    numbers[0] = numbers[0] + 1\n",
    "            else:\n",
    "                numbers[3] = 65\n",
    "                numbers[2] = 65\n",
    "                numbers[1] = numbers[1] + 1\n",
    "        else:\n",
    "            numbers[3] = 65\n",
    "            numbers[2] = numbers[2] + 1\n",
    "    else:\n",
    "        numbers[3] = numbers[3] + 1\n",
    "    \n",
    "\n",
    "    new_code = \"\"\n",
    "    for number in numbers:\n",
    "        new_code += chr(number)\n",
    "    return new_code\n",
    "iterate_alpha('AAAA')"
   ]
  },
  {
   "cell_type": "code",
   "execution_count": 9,
   "metadata": {},
   "outputs": [
    {
     "data": {
      "text/html": [
       "<div>\n",
       "<style scoped>\n",
       "    .dataframe tbody tr th:only-of-type {\n",
       "        vertical-align: middle;\n",
       "    }\n",
       "\n",
       "    .dataframe tbody tr th {\n",
       "        vertical-align: top;\n",
       "    }\n",
       "\n",
       "    .dataframe thead th {\n",
       "        text-align: right;\n",
       "    }\n",
       "</style>\n",
       "<table border=\"1\" class=\"dataframe\">\n",
       "  <thead>\n",
       "    <tr style=\"text-align: right;\">\n",
       "      <th></th>\n",
       "      <th>id</th>\n",
       "      <th>gen</th>\n",
       "      <th>smile</th>\n",
       "      <th>source</th>\n",
       "      <th>score</th>\n",
       "    </tr>\n",
       "  </thead>\n",
       "  <tbody>\n",
       "    <tr>\n",
       "      <th>0</th>\n",
       "      <td>AAAB</td>\n",
       "      <td>0</td>\n",
       "      <td>C=CCNC(=O)CNc1cccc(C(=O)N(C)CCc2ccccc2)c1</td>\n",
       "      <td>generated</td>\n",
       "      <td>99.9</td>\n",
       "    </tr>\n",
       "    <tr>\n",
       "      <th>1</th>\n",
       "      <td>AAAC</td>\n",
       "      <td>0</td>\n",
       "      <td>CC(=O)Nc1ccc(S(=O)(=O)Nc2ccc(C)c(C)c2)cc1</td>\n",
       "      <td>training</td>\n",
       "      <td>99.9</td>\n",
       "    </tr>\n",
       "    <tr>\n",
       "      <th>2</th>\n",
       "      <td>AAAD</td>\n",
       "      <td>0</td>\n",
       "      <td>CCOC(=O)C1=C(C(=O)OCC)C(c2cccc(Cl)c2)NC(=O)N1</td>\n",
       "      <td>generated</td>\n",
       "      <td>99.9</td>\n",
       "    </tr>\n",
       "    <tr>\n",
       "      <th>3</th>\n",
       "      <td>AAAE</td>\n",
       "      <td>0</td>\n",
       "      <td>NC(=O)c1ccc(NC(=O)C(CC(=O)O)NC(=O)c2cc(-c3cccc...</td>\n",
       "      <td>generated</td>\n",
       "      <td>99.9</td>\n",
       "    </tr>\n",
       "    <tr>\n",
       "      <th>4</th>\n",
       "      <td>AAAF</td>\n",
       "      <td>0</td>\n",
       "      <td>COC(=O)c1ccc2c(c1)N(C(=O)c1ccc(C)cc1)CC(C)(C)O2</td>\n",
       "      <td>generated</td>\n",
       "      <td>99.9</td>\n",
       "    </tr>\n",
       "    <tr>\n",
       "      <th>...</th>\n",
       "      <td>...</td>\n",
       "      <td>...</td>\n",
       "      <td>...</td>\n",
       "      <td>...</td>\n",
       "      <td>...</td>\n",
       "    </tr>\n",
       "    <tr>\n",
       "      <th>2402</th>\n",
       "      <td>AZNP</td>\n",
       "      <td>0</td>\n",
       "      <td>CCCC1(CCc2ccccc2)CC(O)=C(C(CC)c2cccc(NS(=O)(=O...</td>\n",
       "      <td>manual</td>\n",
       "      <td>99.9</td>\n",
       "    </tr>\n",
       "    <tr>\n",
       "      <th>2403</th>\n",
       "      <td>AZNQ</td>\n",
       "      <td>0</td>\n",
       "      <td>O=C1Nc2ccc(Cl)cc2C(C#CC2CC2)(C(F)(F)F)O1</td>\n",
       "      <td>manual</td>\n",
       "      <td>99.9</td>\n",
       "    </tr>\n",
       "    <tr>\n",
       "      <th>2404</th>\n",
       "      <td>AZNR</td>\n",
       "      <td>0</td>\n",
       "      <td>CC(C)(C)NC(=O)C1CN(Cc2cccnc2)CCN1CC(O)CC(Cc1cc...</td>\n",
       "      <td>manual</td>\n",
       "      <td>99.9</td>\n",
       "    </tr>\n",
       "    <tr>\n",
       "      <th>2405</th>\n",
       "      <td>AZNS</td>\n",
       "      <td>0</td>\n",
       "      <td>CCOP(=O)(COc1ccc(CC(NC(=O)OC2COC3OCCC23)C(O)CN...</td>\n",
       "      <td>manual</td>\n",
       "      <td>99.9</td>\n",
       "    </tr>\n",
       "    <tr>\n",
       "      <th>2406</th>\n",
       "      <td>AZNT</td>\n",
       "      <td>0</td>\n",
       "      <td>COC(=O)NC(C(=O)NCCCCC(CO)N(CC(C)C)S(=O)(=O)c1c...</td>\n",
       "      <td>manual</td>\n",
       "      <td>99.9</td>\n",
       "    </tr>\n",
       "  </tbody>\n",
       "</table>\n",
       "<p>2407 rows × 5 columns</p>\n",
       "</div>"
      ],
      "text/plain": [
       "        id  gen                                              smile     source  \\\n",
       "0     AAAB    0          C=CCNC(=O)CNc1cccc(C(=O)N(C)CCc2ccccc2)c1  generated   \n",
       "1     AAAC    0          CC(=O)Nc1ccc(S(=O)(=O)Nc2ccc(C)c(C)c2)cc1   training   \n",
       "2     AAAD    0      CCOC(=O)C1=C(C(=O)OCC)C(c2cccc(Cl)c2)NC(=O)N1  generated   \n",
       "3     AAAE    0  NC(=O)c1ccc(NC(=O)C(CC(=O)O)NC(=O)c2cc(-c3cccc...  generated   \n",
       "4     AAAF    0    COC(=O)c1ccc2c(c1)N(C(=O)c1ccc(C)cc1)CC(C)(C)O2  generated   \n",
       "...    ...  ...                                                ...        ...   \n",
       "2402  AZNP    0  CCCC1(CCc2ccccc2)CC(O)=C(C(CC)c2cccc(NS(=O)(=O...     manual   \n",
       "2403  AZNQ    0           O=C1Nc2ccc(Cl)cc2C(C#CC2CC2)(C(F)(F)F)O1     manual   \n",
       "2404  AZNR    0  CC(C)(C)NC(=O)C1CN(Cc2cccnc2)CCN1CC(O)CC(Cc1cc...     manual   \n",
       "2405  AZNS    0  CCOP(=O)(COc1ccc(CC(NC(=O)OC2COC3OCCC23)C(O)CN...     manual   \n",
       "2406  AZNT    0  COC(=O)NC(C(=O)NCCCCC(CO)N(CC(C)C)S(=O)(=O)c1c...     manual   \n",
       "\n",
       "      score  \n",
       "0      99.9  \n",
       "1      99.9  \n",
       "2      99.9  \n",
       "3      99.9  \n",
       "4      99.9  \n",
       "...     ...  \n",
       "2402   99.9  \n",
       "2403   99.9  \n",
       "2404   99.9  \n",
       "2405   99.9  \n",
       "2406   99.9  \n",
       "\n",
       "[2407 rows x 5 columns]"
      ]
     },
     "execution_count": 9,
     "metadata": {},
     "output_type": "execute_result"
    }
   ],
   "source": [
    "master_table"
   ]
  },
  {
   "cell_type": "code",
   "execution_count": 7,
   "metadata": {},
   "outputs": [],
   "source": [
    "def append_to_tracking_table(master_table,mols_to_append, source, generation):\n",
    "    '''\n",
    "    This function is use to apend the mols to master table.\n",
    "    \n",
    "    :param master_table: pandas dataframe table\n",
    "    :param mols_to_append: molecule to append to the table\n",
    "    :param source: python string on how the molecule comes from ex.'generated', 'local_ga'\n",
    "    :generation: which generation of the genetic algorithm\n",
    "    \n",
    "    :return pandas.DataFrame of molecule, mols_to_export(type:sdkit)\n",
    "    '''\n",
    "    # Assign IDs for tracking to each mol, and assign a pandas table entry for each\n",
    "    mols_to_export = []\n",
    "    rows_list = []\n",
    "    \n",
    "    master_table_gen = master_table[master_table['gen'] == generation]\n",
    "    if master_table_gen.shape[0] == 0:\n",
    "        id_code = 'AAAA'\n",
    "    else:\n",
    "        master_table_gen_ids = master_table_gen.sort_values('id', ascending=True)\n",
    "        master_table_gen_max_id = master_table_gen_ids.tail(1)\n",
    "        key = master_table_gen_max_id['id'].keys()[0]\n",
    "        id_code = iterate_alpha(str(master_table_gen_max_id['id'][key])) # Call function iterate_alpha\n",
    "        \n",
    "    training_data = pd.read_csv('./datasets/all_smiles_clean.smi', header=None)\n",
    "    training_set = set(list(training_data[0]))\n",
    "    \n",
    "    for mol in mols_to_append:\n",
    "        pm = Chem.PropertyMol.PropertyMol(mol)\n",
    "        title = 'id' + str(id_code) + 'gen'+ str(generation)\n",
    "        # print(title)\n",
    "        \n",
    "        # Enables for tracking which molecule is which in PyRx GUI and PyRx results export\n",
    "        pm.SetProp('Title', title)\n",
    "        mols_to_export.append(pm)\n",
    "\n",
    "        #And track in pandas\n",
    "        mol_dict = {}\n",
    "        mol_dict['id'] = id_code\n",
    "        mol_dict['gen'] = generation\n",
    "        smile = Chem.MolToSmiles(mol)\n",
    "        assert type(smile) == type('string')\n",
    "        mol_dict['smile'] = smile\n",
    "\n",
    "        if (source!= 'hiv' and source != 'manual' and source != 'baseline') and (smile in training_set):\n",
    "            mol_dict['source'] = 'training'\n",
    "        else:\n",
    "            mol_dict['source'] = source\n",
    "        mol_dict['score'] = 99.9\n",
    "\n",
    "        rows_list.append(mol_dict)\n",
    "        id_code = iterate_alpha(id_code) # Call function iterate_alpha\n",
    "        \n",
    "    df = pd.DataFrame(rows_list)\n",
    "    return df, mols_to_export"
   ]
  },
  {
   "cell_type": "code",
   "execution_count": 11,
   "metadata": {},
   "outputs": [
    {
     "data": {
      "text/plain": [
       "1122"
      ]
     },
     "execution_count": 11,
     "metadata": {},
     "output_type": "execute_result"
    }
   ],
   "source": [
    "new_mols_to_test = append_to_tracking_table(master_table,gen0_mols, 'generated', 0)\n",
    "mols_for_pd = new_mols_to_test[0]\n",
    "mols_for_export = new_mols_to_test[1]\n",
    "master_table = master_table.append(mols_for_pd)\n",
    "len(mols_for_export)"
   ]
  },
  {
   "cell_type": "code",
   "execution_count": 12,
   "metadata": {},
   "outputs": [],
   "source": [
    "# dropping ALL duplicate values \n",
    "master_table.drop_duplicates(subset =\"smile\", keep = False, inplace = True) "
   ]
  },
  {
   "cell_type": "code",
   "execution_count": 13,
   "metadata": {},
   "outputs": [
    {
     "data": {
      "text/html": [
       "<div>\n",
       "<style scoped>\n",
       "    .dataframe tbody tr th:only-of-type {\n",
       "        vertical-align: middle;\n",
       "    }\n",
       "\n",
       "    .dataframe tbody tr th {\n",
       "        vertical-align: top;\n",
       "    }\n",
       "\n",
       "    .dataframe thead th {\n",
       "        text-align: right;\n",
       "    }\n",
       "</style>\n",
       "<table border=\"1\" class=\"dataframe\">\n",
       "  <thead>\n",
       "    <tr style=\"text-align: right;\">\n",
       "      <th></th>\n",
       "      <th>id</th>\n",
       "      <th>gen</th>\n",
       "      <th>smile</th>\n",
       "      <th>source</th>\n",
       "      <th>score</th>\n",
       "    </tr>\n",
       "  </thead>\n",
       "  <tbody>\n",
       "    <tr>\n",
       "      <th>1</th>\n",
       "      <td>AAAC</td>\n",
       "      <td>0</td>\n",
       "      <td>CC(=O)Nc1ccc(S(=O)(=O)Nc2ccc(C)c(C)c2)cc1</td>\n",
       "      <td>training</td>\n",
       "      <td>99.9</td>\n",
       "    </tr>\n",
       "    <tr>\n",
       "      <th>2</th>\n",
       "      <td>AAAD</td>\n",
       "      <td>0</td>\n",
       "      <td>CCOC(=O)C1=C(C(=O)OCC)C(c2cccc(Cl)c2)NC(=O)N1</td>\n",
       "      <td>generated</td>\n",
       "      <td>99.9</td>\n",
       "    </tr>\n",
       "    <tr>\n",
       "      <th>3</th>\n",
       "      <td>AAAE</td>\n",
       "      <td>0</td>\n",
       "      <td>NC(=O)c1ccc(NC(=O)C(CC(=O)O)NC(=O)c2cc(-c3cccc...</td>\n",
       "      <td>generated</td>\n",
       "      <td>99.9</td>\n",
       "    </tr>\n",
       "    <tr>\n",
       "      <th>4</th>\n",
       "      <td>AAAF</td>\n",
       "      <td>0</td>\n",
       "      <td>COC(=O)c1ccc2c(c1)N(C(=O)c1ccc(C)cc1)CC(C)(C)O2</td>\n",
       "      <td>generated</td>\n",
       "      <td>99.9</td>\n",
       "    </tr>\n",
       "    <tr>\n",
       "      <th>5</th>\n",
       "      <td>AAAG</td>\n",
       "      <td>0</td>\n",
       "      <td>Cc1ccc(C(=O)Nc2ccc(C(=O)N3CCOCC3)cc2)cc1</td>\n",
       "      <td>training</td>\n",
       "      <td>99.9</td>\n",
       "    </tr>\n",
       "    <tr>\n",
       "      <th>...</th>\n",
       "      <td>...</td>\n",
       "      <td>...</td>\n",
       "      <td>...</td>\n",
       "      <td>...</td>\n",
       "      <td>...</td>\n",
       "    </tr>\n",
       "    <tr>\n",
       "      <th>1113</th>\n",
       "      <td>BBEP</td>\n",
       "      <td>0</td>\n",
       "      <td>Cc1noc(C)c1CN1CCC(C(=O)N2CCN(C(C)C)CC2)CC1</td>\n",
       "      <td>generated</td>\n",
       "      <td>99.9</td>\n",
       "    </tr>\n",
       "    <tr>\n",
       "      <th>1114</th>\n",
       "      <td>BBEQ</td>\n",
       "      <td>0</td>\n",
       "      <td>N#Cc1ccc(OC(=O)Cc2ccc(F)c(F)c2)cc1</td>\n",
       "      <td>generated</td>\n",
       "      <td>99.9</td>\n",
       "    </tr>\n",
       "    <tr>\n",
       "      <th>1117</th>\n",
       "      <td>BBET</td>\n",
       "      <td>0</td>\n",
       "      <td>CC(NC(=O)NCc1ccccc1C(F)(F)F)C(N)=O</td>\n",
       "      <td>generated</td>\n",
       "      <td>99.9</td>\n",
       "    </tr>\n",
       "    <tr>\n",
       "      <th>1118</th>\n",
       "      <td>BBEU</td>\n",
       "      <td>0</td>\n",
       "      <td>CC(Nc1cc(-c2ccc(C#N)cc2)ccc1O)C(=O)NC1CCCCC1</td>\n",
       "      <td>generated</td>\n",
       "      <td>99.9</td>\n",
       "    </tr>\n",
       "    <tr>\n",
       "      <th>1121</th>\n",
       "      <td>BBEX</td>\n",
       "      <td>0</td>\n",
       "      <td>Cc1cc(C)cc(NC(=O)NC(C)c2cc(C)on2)c1</td>\n",
       "      <td>generated</td>\n",
       "      <td>99.9</td>\n",
       "    </tr>\n",
       "  </tbody>\n",
       "</table>\n",
       "<p>2259 rows × 5 columns</p>\n",
       "</div>"
      ],
      "text/plain": [
       "        id  gen                                              smile     source  \\\n",
       "1     AAAC    0          CC(=O)Nc1ccc(S(=O)(=O)Nc2ccc(C)c(C)c2)cc1   training   \n",
       "2     AAAD    0      CCOC(=O)C1=C(C(=O)OCC)C(c2cccc(Cl)c2)NC(=O)N1  generated   \n",
       "3     AAAE    0  NC(=O)c1ccc(NC(=O)C(CC(=O)O)NC(=O)c2cc(-c3cccc...  generated   \n",
       "4     AAAF    0    COC(=O)c1ccc2c(c1)N(C(=O)c1ccc(C)cc1)CC(C)(C)O2  generated   \n",
       "5     AAAG    0           Cc1ccc(C(=O)Nc2ccc(C(=O)N3CCOCC3)cc2)cc1   training   \n",
       "...    ...  ...                                                ...        ...   \n",
       "1113  BBEP    0         Cc1noc(C)c1CN1CCC(C(=O)N2CCN(C(C)C)CC2)CC1  generated   \n",
       "1114  BBEQ    0                 N#Cc1ccc(OC(=O)Cc2ccc(F)c(F)c2)cc1  generated   \n",
       "1117  BBET    0                 CC(NC(=O)NCc1ccccc1C(F)(F)F)C(N)=O  generated   \n",
       "1118  BBEU    0       CC(Nc1cc(-c2ccc(C#N)cc2)ccc1O)C(=O)NC1CCCCC1  generated   \n",
       "1121  BBEX    0                Cc1cc(C)cc(NC(=O)NC(C)c2cc(C)on2)c1  generated   \n",
       "\n",
       "      score  \n",
       "1      99.9  \n",
       "2      99.9  \n",
       "3      99.9  \n",
       "4      99.9  \n",
       "5      99.9  \n",
       "...     ...  \n",
       "1113   99.9  \n",
       "1114   99.9  \n",
       "1117   99.9  \n",
       "1118   99.9  \n",
       "1121   99.9  \n",
       "\n",
       "[2259 rows x 5 columns]"
      ]
     },
     "execution_count": 13,
     "metadata": {},
     "output_type": "execute_result"
    }
   ],
   "source": [
    "master_table"
   ]
  },
  {
   "cell_type": "markdown",
   "metadata": {},
   "source": [
    "#### Append the results to master table.csv"
   ]
  },
  {
   "cell_type": "code",
   "execution_count": 14,
   "metadata": {},
   "outputs": [],
   "source": [
    "# Save the result to 'generations/master_results_table.csv'\n",
    "\n",
    "master_table = master_table.reset_index(drop=True)\n",
    "master_table.to_csv(r'./generations/master_results_table.csv', index=False)"
   ]
  },
  {
   "cell_type": "markdown",
   "metadata": {},
   "source": [
    "#### Manually Append HIV drug and few others drug to the master table"
   ]
  },
  {
   "cell_type": "code",
   "execution_count": 15,
   "metadata": {},
   "outputs": [],
   "source": [
    "# Add HIV inhibitors manually into the table\n",
    "hiv_smiles = pd.read_csv('./datasets/hiv_inhibitors_cleaned.smi',sep=',', header=None)\n",
    "hiv_smiles = list(hiv_smiles[0])\n",
    "hiv_mols = validate_mols(hiv_smiles)\n",
    "\n",
    "master_table = pd.read_csv('./generations/master_results_table.csv',sep=',')\n",
    "new_mols_to_test = append_to_tracking_table(master_table,hiv_mols, 'hiv', 0)\n",
    "mols_for_pd = new_mols_to_test[0]\n",
    "mols_for_export = mols_for_export + new_mols_to_test[1]\n",
    "\n",
    "master_table = master_table.append(mols_for_pd)\n",
    "master_table = master_table.reset_index(drop=True)\n",
    "master_table.to_csv(r'./generations/master_results_table.csv', index=False)"
   ]
  },
  {
   "cell_type": "code",
   "execution_count": 16,
   "metadata": {},
   "outputs": [],
   "source": [
    "# Add a few other smiles manually into the table (\"control group\" of training smiles)\n",
    "manual_smiles = pd.read_csv('./datasets/manual_testing_cleaned.smi',sep=',', header=None)\n",
    "manual_smiles = list(manual_smiles[0])\n",
    "manual_mols = validate_mols(hiv_smiles)\n",
    "\n",
    "master_table = pd.read_csv('./generations/master_results_table.csv',sep=',')\n",
    "new_mols_to_test = append_to_tracking_table(master_table,manual_mols, 'manual', 0)\n",
    "mols_for_pd = new_mols_to_test[0]\n",
    "mols_for_export = mols_for_export + new_mols_to_test[1]\n",
    "\n",
    "master_table = master_table.append(mols_for_pd)\n",
    "master_table = master_table.reset_index(drop=True)\n",
    "master_table.to_csv(r'./generations/master_results_table.csv', index=False)"
   ]
  },
  {
   "cell_type": "code",
   "execution_count": 8,
   "metadata": {},
   "outputs": [],
   "source": [
    "def write_gen_to_sdf(mols_for_export, generation, batch_size):\n",
    "    '''\n",
    "    Function to convert current generation of molecule to structure data files(SDF). To load in the PyRX to evaluate.\n",
    "    \n",
    "    :param mols_for_export: molecule to export (mol)\n",
    "    :param generation: generation of the Global GA\n",
    "    :param batch_size: maximum size of a single sdf files\n",
    "    \n",
    "    :return: ligands in sdf file format\n",
    "    \n",
    "    :output files: \n",
    "    If the incoming mol is more than batch size:\n",
    "        generations/gen(i)_batch_(i+1).sdf\n",
    "    Else:\n",
    "        generations/gen(i).sdf\n",
    "    '''\n",
    "    if len(mols_for_export) > batch_size:\n",
    "        batches = (len(mols_for_export) // 1000)+1\n",
    "        for i in range(0,batches):\n",
    "            batch_to_export = mols_for_export[i*batch_size:(i+1)*batch_size]\n",
    "            w = Chem.SDWriter('./generations/gen' +str(generation) + '_batch_' + str(i+1) + '.sdf')\n",
    "            for m in batch_to_export: w.write(m)\n",
    "    else:\n",
    "        w = Chem.SDWriter('./generations/gen' +str(generation) + '.sdf')\n",
    "        for m in mols_for_export:\n",
    "            w.write(m)\n",
    "    \n",
    "    # Noticed an issue where the very last line item of an sdf write is not written correctly until another arbitary write is made\n",
    "    w = Chem.SDWriter('./generations/junk/test.sdf')\n",
    "    w.write(m)\n",
    "    \n",
    "    return mols_for_export"
   ]
  },
  {
   "cell_type": "code",
   "execution_count": 18,
   "metadata": {
    "scrolled": true
   },
   "outputs": [
    {
     "name": "stdout",
     "output_type": "stream",
     "text": [
      "ok\n"
     ]
    }
   ],
   "source": [
    "write_gen_to_sdf(mols_for_export, 0, 2000)\n",
    "print('ok')"
   ]
  },
  {
   "cell_type": "markdown",
   "metadata": {},
   "source": [
    "## NOW GO TO PyRx: Analyze the SDF file and create a csv of binding score results (End of Generation 0)\n",
    "\n",
    "Saved the results in csv:\n",
    "\n",
    "generations/results/master_results_table_gen(i).csv"
   ]
  },
  {
   "cell_type": "markdown",
   "metadata": {},
   "source": [
    "\n",
    "## Afterwards, process binding simulation results to 'evolve' the molecules"
   ]
  },
  {
   "cell_type": "code",
   "execution_count": 9,
   "metadata": {},
   "outputs": [],
   "source": [
    "'''This number must be MANUALLY iterated each generation. I did not write the entire process into a smooth function or loop but that would be the next steps.''' \n",
    "GLOBAL_GENERATION = 5"
   ]
  },
  {
   "cell_type": "code",
   "execution_count": 10,
   "metadata": {
    "scrolled": false
   },
   "outputs": [
    {
     "data": {
      "text/html": [
       "<div>\n",
       "<style scoped>\n",
       "    .dataframe tbody tr th:only-of-type {\n",
       "        vertical-align: middle;\n",
       "    }\n",
       "\n",
       "    .dataframe tbody tr th {\n",
       "        vertical-align: top;\n",
       "    }\n",
       "\n",
       "    .dataframe thead th {\n",
       "        text-align: right;\n",
       "    }\n",
       "</style>\n",
       "<table border=\"1\" class=\"dataframe\">\n",
       "  <thead>\n",
       "    <tr style=\"text-align: right;\">\n",
       "      <th></th>\n",
       "      <th>id</th>\n",
       "      <th>gen</th>\n",
       "      <th>smile</th>\n",
       "      <th>source</th>\n",
       "      <th>weight</th>\n",
       "      <th>logp</th>\n",
       "      <th>score</th>\n",
       "    </tr>\n",
       "  </thead>\n",
       "  <tbody>\n",
       "    <tr>\n",
       "      <th>6316</th>\n",
       "      <td>ABSO</td>\n",
       "      <td>4</td>\n",
       "      <td>CC(N)CC(CC(=O)CN(C)C)Cc1ccccc1</td>\n",
       "      <td>generated</td>\n",
       "      <td>NaN</td>\n",
       "      <td>NaN</td>\n",
       "      <td>99.9</td>\n",
       "    </tr>\n",
       "    <tr>\n",
       "      <th>6317</th>\n",
       "      <td>ABSP</td>\n",
       "      <td>4</td>\n",
       "      <td>CC1=CC(C(=O)O)C=C1</td>\n",
       "      <td>generated</td>\n",
       "      <td>NaN</td>\n",
       "      <td>NaN</td>\n",
       "      <td>99.9</td>\n",
       "    </tr>\n",
       "    <tr>\n",
       "      <th>6318</th>\n",
       "      <td>ABSQ</td>\n",
       "      <td>4</td>\n",
       "      <td>CC(C)CC(=O)CC(CC(=O)O)C(C)(C)C</td>\n",
       "      <td>generated</td>\n",
       "      <td>NaN</td>\n",
       "      <td>NaN</td>\n",
       "      <td>99.9</td>\n",
       "    </tr>\n",
       "    <tr>\n",
       "      <th>6319</th>\n",
       "      <td>ABSR</td>\n",
       "      <td>4</td>\n",
       "      <td>CCC(O)C#CC#CC#CC#N</td>\n",
       "      <td>generated</td>\n",
       "      <td>NaN</td>\n",
       "      <td>NaN</td>\n",
       "      <td>99.9</td>\n",
       "    </tr>\n",
       "    <tr>\n",
       "      <th>6320</th>\n",
       "      <td>ABSS</td>\n",
       "      <td>4</td>\n",
       "      <td>CN(C)Cc1ccccc1Cc1ccccc1</td>\n",
       "      <td>generated</td>\n",
       "      <td>NaN</td>\n",
       "      <td>NaN</td>\n",
       "      <td>99.9</td>\n",
       "    </tr>\n",
       "  </tbody>\n",
       "</table>\n",
       "</div>"
      ],
      "text/plain": [
       "        id  gen                           smile     source  weight  logp  \\\n",
       "6316  ABSO    4  CC(N)CC(CC(=O)CN(C)C)Cc1ccccc1  generated     NaN   NaN   \n",
       "6317  ABSP    4              CC1=CC(C(=O)O)C=C1  generated     NaN   NaN   \n",
       "6318  ABSQ    4  CC(C)CC(=O)CC(CC(=O)O)C(C)(C)C  generated     NaN   NaN   \n",
       "6319  ABSR    4              CCC(O)C#CC#CC#CC#N  generated     NaN   NaN   \n",
       "6320  ABSS    4         CN(C)Cc1ccccc1Cc1ccccc1  generated     NaN   NaN   \n",
       "\n",
       "      score  \n",
       "6316   99.9  \n",
       "6317   99.9  \n",
       "6318   99.9  \n",
       "6319   99.9  \n",
       "6320   99.9  "
      ]
     },
     "execution_count": 10,
     "metadata": {},
     "output_type": "execute_result"
    }
   ],
   "source": [
    "# Read the csv result analyzed in previous generation\n",
    "# './generations/master_results_table_gen(i-1).csv'\n",
    "master_table = pd.read_csv('./generations/master_results_table_gen' + str(GLOBAL_GENERATION-1) + '.csv',sep=',')\n",
    "master_table.tail()"
   ]
  },
  {
   "cell_type": "code",
   "execution_count": 11,
   "metadata": {},
   "outputs": [
    {
     "data": {
      "text/plain": [
       "(6321, 7)"
      ]
     },
     "execution_count": 11,
     "metadata": {},
     "output_type": "execute_result"
    }
   ],
   "source": [
    "master_table.shape"
   ]
  },
  {
   "cell_type": "code",
   "execution_count": 12,
   "metadata": {},
   "outputs": [],
   "source": [
    "master_table.drop_duplicates(subset =\"smile\", keep = False, inplace = True) "
   ]
  },
  {
   "cell_type": "code",
   "execution_count": 13,
   "metadata": {},
   "outputs": [
    {
     "data": {
      "text/plain": [
       "(6097, 7)"
      ]
     },
     "execution_count": 13,
     "metadata": {},
     "output_type": "execute_result"
    }
   ],
   "source": [
    "master_table.shape"
   ]
  },
  {
   "cell_type": "markdown",
   "metadata": {},
   "source": [
    "RMSD values are calculated relative to the best mode and use only movable heavy atoms. Two variants of RMSD metrics are provided, rmsd/lb (RMSD lower bound) and rmsd/ub (RMSD upper bound), differing in how the atoms are matched in the distance calculation:\n",
    "\n",
    "* rmsd/ub matches each atom in one conformation with itself in the other conformation, ignoring any symmetry\n",
    "* rmsd' matches each atom in one conformation with the closest atom of the same element type in the other conformation (rmsd' can not be used directly, because it is not symmetric)\n",
    "* rmsd/lb is defined as follows: rmsd/lb(c1, c2) = max(rmsd'(c1, c2), rmsd'(c2, c1))\n",
    "\n",
    "So: if your ligand has no internal symmetry, rmsd/ub is the value to use. However, if you are docking e.g. benzene, this would give you different values depending on your ligand is rotates and which of the six equivalent CH point into your binding pocket, therefore rmsd/lb gives you a better ranking of docking solutions"
   ]
  },
  {
   "cell_type": "code",
   "execution_count": 14,
   "metadata": {},
   "outputs": [
    {
     "data": {
      "text/html": [
       "<div>\n",
       "<style scoped>\n",
       "    .dataframe tbody tr th:only-of-type {\n",
       "        vertical-align: middle;\n",
       "    }\n",
       "\n",
       "    .dataframe tbody tr th {\n",
       "        vertical-align: top;\n",
       "    }\n",
       "\n",
       "    .dataframe thead th {\n",
       "        text-align: right;\n",
       "    }\n",
       "</style>\n",
       "<table border=\"1\" class=\"dataframe\">\n",
       "  <thead>\n",
       "    <tr style=\"text-align: right;\">\n",
       "      <th></th>\n",
       "      <th>Ligand</th>\n",
       "      <th>Binding Affinity</th>\n",
       "      <th>rmsd/ub</th>\n",
       "      <th>rmsd/lb</th>\n",
       "    </tr>\n",
       "  </thead>\n",
       "  <tbody>\n",
       "    <tr>\n",
       "      <th>0</th>\n",
       "      <td>6LU7_idAAAAgen4_uff_E=213.92</td>\n",
       "      <td>-5.2</td>\n",
       "      <td>0.000</td>\n",
       "      <td>0.000</td>\n",
       "    </tr>\n",
       "    <tr>\n",
       "      <th>1</th>\n",
       "      <td>6LU7_idAAAAgen4_uff_E=213.92</td>\n",
       "      <td>-5.2</td>\n",
       "      <td>27.531</td>\n",
       "      <td>27.014</td>\n",
       "    </tr>\n",
       "    <tr>\n",
       "      <th>2</th>\n",
       "      <td>6LU7_idAAAAgen4_uff_E=213.92</td>\n",
       "      <td>-5.2</td>\n",
       "      <td>44.922</td>\n",
       "      <td>41.089</td>\n",
       "    </tr>\n",
       "    <tr>\n",
       "      <th>3</th>\n",
       "      <td>6LU7_idAAAAgen4_uff_E=213.92</td>\n",
       "      <td>-5.1</td>\n",
       "      <td>28.829</td>\n",
       "      <td>27.528</td>\n",
       "    </tr>\n",
       "    <tr>\n",
       "      <th>4</th>\n",
       "      <td>6LU7_idAAAAgen4_uff_E=213.92</td>\n",
       "      <td>-5.1</td>\n",
       "      <td>33.130</td>\n",
       "      <td>30.240</td>\n",
       "    </tr>\n",
       "  </tbody>\n",
       "</table>\n",
       "</div>"
      ],
      "text/plain": [
       "                         Ligand  Binding Affinity  rmsd/ub   rmsd/lb\n",
       "0  6LU7_idAAAAgen4_uff_E=213.92              -5.2    0.000     0.000\n",
       "1  6LU7_idAAAAgen4_uff_E=213.92              -5.2   27.531    27.014\n",
       "2  6LU7_idAAAAgen4_uff_E=213.92              -5.2   44.922    41.089\n",
       "3  6LU7_idAAAAgen4_uff_E=213.92              -5.1   28.829    27.528\n",
       "4  6LU7_idAAAAgen4_uff_E=213.92              -5.1   33.130    30.240"
      ]
     },
     "execution_count": 14,
     "metadata": {},
     "output_type": "execute_result"
    }
   ],
   "source": [
    "# This is the result from PyRX\n",
    "# './generations/results/results_gen(i-1).csv'\n",
    "new_scores = pd.read_csv('./generations/results/results_gen' + str(GLOBAL_GENERATION-1) + '.csv',sep=',')\n",
    "new_scores.head()"
   ]
  },
  {
   "cell_type": "code",
   "execution_count": 15,
   "metadata": {},
   "outputs": [
    {
     "data": {
      "text/html": [
       "<div>\n",
       "<style scoped>\n",
       "    .dataframe tbody tr th:only-of-type {\n",
       "        vertical-align: middle;\n",
       "    }\n",
       "\n",
       "    .dataframe tbody tr th {\n",
       "        vertical-align: top;\n",
       "    }\n",
       "\n",
       "    .dataframe thead th {\n",
       "        text-align: right;\n",
       "    }\n",
       "</style>\n",
       "<table border=\"1\" class=\"dataframe\">\n",
       "  <thead>\n",
       "    <tr style=\"text-align: right;\">\n",
       "      <th></th>\n",
       "      <th>id</th>\n",
       "      <th>gen</th>\n",
       "      <th>score</th>\n",
       "    </tr>\n",
       "  </thead>\n",
       "  <tbody>\n",
       "    <tr>\n",
       "      <th>0</th>\n",
       "      <td>AAAA</td>\n",
       "      <td>4</td>\n",
       "      <td>-5.2</td>\n",
       "    </tr>\n",
       "    <tr>\n",
       "      <th>1</th>\n",
       "      <td>AAAA</td>\n",
       "      <td>4</td>\n",
       "      <td>-4.2</td>\n",
       "    </tr>\n",
       "    <tr>\n",
       "      <th>2</th>\n",
       "      <td>AAAB</td>\n",
       "      <td>4</td>\n",
       "      <td>-4.2</td>\n",
       "    </tr>\n",
       "    <tr>\n",
       "      <th>3</th>\n",
       "      <td>AAAB</td>\n",
       "      <td>4</td>\n",
       "      <td>-4.5</td>\n",
       "    </tr>\n",
       "    <tr>\n",
       "      <th>4</th>\n",
       "      <td>AAAC</td>\n",
       "      <td>4</td>\n",
       "      <td>-5.0</td>\n",
       "    </tr>\n",
       "  </tbody>\n",
       "</table>\n",
       "</div>"
      ],
      "text/plain": [
       "     id gen  score\n",
       "0  AAAA   4   -5.2\n",
       "1  AAAA   4   -4.2\n",
       "2  AAAB   4   -4.2\n",
       "3  AAAB   4   -4.5\n",
       "4  AAAC   4   -5.0"
      ]
     },
     "execution_count": 15,
     "metadata": {},
     "output_type": "execute_result"
    }
   ],
   "source": [
    "new_scores = new_scores.groupby(\"Ligand\").min()[\"Binding Affinity\"].reset_index()\n",
    "new_scores['id'] = new_scores['Ligand'].str.split(\"_\").str[1].str.split(\"gen\").str[0].str.split(\"id\").str[1]\n",
    "new_scores['gen'] = new_scores['Ligand'].str.split(\"_\").str[1].str.split(\"gen\").str[1]\n",
    "new_scores['score'] = new_scores[\"Binding Affinity\"]\n",
    "new_scores = new_scores[['id','gen','score']]\n",
    "new_scores.head()"
   ]
  },
  {
   "cell_type": "code",
   "execution_count": 16,
   "metadata": {},
   "outputs": [
    {
     "data": {
      "text/html": [
       "<div>\n",
       "<style scoped>\n",
       "    .dataframe tbody tr th:only-of-type {\n",
       "        vertical-align: middle;\n",
       "    }\n",
       "\n",
       "    .dataframe tbody tr th {\n",
       "        vertical-align: top;\n",
       "    }\n",
       "\n",
       "    .dataframe thead th {\n",
       "        text-align: right;\n",
       "    }\n",
       "</style>\n",
       "<table border=\"1\" class=\"dataframe\">\n",
       "  <thead>\n",
       "    <tr style=\"text-align: right;\">\n",
       "      <th></th>\n",
       "      <th>id</th>\n",
       "      <th>gen</th>\n",
       "      <th>smile</th>\n",
       "      <th>source</th>\n",
       "      <th>weight</th>\n",
       "      <th>logp</th>\n",
       "      <th>score</th>\n",
       "    </tr>\n",
       "  </thead>\n",
       "  <tbody>\n",
       "    <tr>\n",
       "      <th>0</th>\n",
       "      <td>AAXI</td>\n",
       "      <td>2</td>\n",
       "      <td>CC1=CC=C2C(=O)OC(=O)C(Cc3ccccc3)NC(=O)C(C)=CCC...</td>\n",
       "      <td>generated</td>\n",
       "      <td>753.856</td>\n",
       "      <td>4.87358</td>\n",
       "      <td>-11.2</td>\n",
       "    </tr>\n",
       "    <tr>\n",
       "      <th>5271</th>\n",
       "      <td>AAHF</td>\n",
       "      <td>4</td>\n",
       "      <td>CC1=CC=C(C)C(=O)NN2CCN3CC(=O)NC(C)C=CC=CC=C(C(...</td>\n",
       "      <td>generated</td>\n",
       "      <td>717.823</td>\n",
       "      <td>4.08010</td>\n",
       "      <td>-11.2</td>\n",
       "    </tr>\n",
       "    <tr>\n",
       "      <th>5587</th>\n",
       "      <td>AAUE</td>\n",
       "      <td>4</td>\n",
       "      <td>CC1CCC(NN=C2CCCC=CC=C(NC(=O)c3ccccc3)OCCCCC=CC...</td>\n",
       "      <td>generated</td>\n",
       "      <td>900.221</td>\n",
       "      <td>12.92120</td>\n",
       "      <td>-11.0</td>\n",
       "    </tr>\n",
       "    <tr>\n",
       "      <th>1</th>\n",
       "      <td>ABIM</td>\n",
       "      <td>3</td>\n",
       "      <td>CCCC1(C)C=CC=CC=C2C(C#N)=CC=C2CCc2ccccc2N(C=CC...</td>\n",
       "      <td>generated</td>\n",
       "      <td>658.862</td>\n",
       "      <td>8.33798</td>\n",
       "      <td>-10.7</td>\n",
       "    </tr>\n",
       "    <tr>\n",
       "      <th>2</th>\n",
       "      <td>AANR</td>\n",
       "      <td>3</td>\n",
       "      <td>CC1CCCCC(NC(=O)N2CCC(c3ccccc3)CC2)C2=CC=C(Nc3c...</td>\n",
       "      <td>generated</td>\n",
       "      <td>671.842</td>\n",
       "      <td>7.44508</td>\n",
       "      <td>-10.6</td>\n",
       "    </tr>\n",
       "    <tr>\n",
       "      <th>5988</th>\n",
       "      <td>ABLK</td>\n",
       "      <td>4</td>\n",
       "      <td>O=C(NC1=CC=CC(OC2C=CC(c3ccccc3)CC2)C1)N1CCC(N(...</td>\n",
       "      <td>generated</td>\n",
       "      <td>732.933</td>\n",
       "      <td>7.42820</td>\n",
       "      <td>-10.3</td>\n",
       "    </tr>\n",
       "    <tr>\n",
       "      <th>3</th>\n",
       "      <td>ABIG</td>\n",
       "      <td>3</td>\n",
       "      <td>CC1C=CC(C(=O)Nc2nnnn2-c2ccccc2-c2ccccc2)CC1</td>\n",
       "      <td>generated</td>\n",
       "      <td>359.433</td>\n",
       "      <td>3.87010</td>\n",
       "      <td>-10.2</td>\n",
       "    </tr>\n",
       "    <tr>\n",
       "      <th>4</th>\n",
       "      <td>AAVX</td>\n",
       "      <td>0</td>\n",
       "      <td>CC(C)CC(NC(=O)C(Cc1c[nH]c2ccccc12)NC(=O)C(Cc1c...</td>\n",
       "      <td>generated</td>\n",
       "      <td>746.909</td>\n",
       "      <td>4.93720</td>\n",
       "      <td>-10.1</td>\n",
       "    </tr>\n",
       "    <tr>\n",
       "      <th>5</th>\n",
       "      <td>ABBW</td>\n",
       "      <td>3</td>\n",
       "      <td>Cc1ccc(C=CC=CC=CC(=O)N2CCC(c3ccc(NC(=O)C4CCC(C...</td>\n",
       "      <td>generated</td>\n",
       "      <td>546.671</td>\n",
       "      <td>6.07292</td>\n",
       "      <td>-10.0</td>\n",
       "    </tr>\n",
       "    <tr>\n",
       "      <th>6</th>\n",
       "      <td>ABJU</td>\n",
       "      <td>2</td>\n",
       "      <td>Cc1cc(C(C)NC(=O)Cn2c(=O)oc3ccccc32)ccc(CC2=CC(...</td>\n",
       "      <td>generated</td>\n",
       "      <td>794.871</td>\n",
       "      <td>7.87862</td>\n",
       "      <td>-9.9</td>\n",
       "    </tr>\n",
       "    <tr>\n",
       "      <th>7</th>\n",
       "      <td>AAVJ</td>\n",
       "      <td>0</td>\n",
       "      <td>O=C(Nc1ccc2c(c1)OCO2)C1CC2CCC(C1)N2CCCCn1ccc2c...</td>\n",
       "      <td>generated</td>\n",
       "      <td>461.562</td>\n",
       "      <td>4.73750</td>\n",
       "      <td>-9.9</td>\n",
       "    </tr>\n",
       "    <tr>\n",
       "      <th>8</th>\n",
       "      <td>ACWS</td>\n",
       "      <td>1</td>\n",
       "      <td>CC(C)(C)c1ccc(OCC2=CC(N(CC3=CC(OC4=CC=C(Cl)CC4...</td>\n",
       "      <td>generated</td>\n",
       "      <td>778.522</td>\n",
       "      <td>11.35260</td>\n",
       "      <td>-9.8</td>\n",
       "    </tr>\n",
       "    <tr>\n",
       "      <th>9</th>\n",
       "      <td>AANQ</td>\n",
       "      <td>3</td>\n",
       "      <td>CC1=CC=C(N(NC(=O)CN2C=CC3=CC=CC=CC=C(OC(=O)O)C...</td>\n",
       "      <td>generated</td>\n",
       "      <td>689.721</td>\n",
       "      <td>6.64440</td>\n",
       "      <td>-9.8</td>\n",
       "    </tr>\n",
       "    <tr>\n",
       "      <th>10</th>\n",
       "      <td>AALT</td>\n",
       "      <td>3</td>\n",
       "      <td>O=C(Nc1ccccc1)N1C=NC(C(=O)N2C=CC(c3ccccc3)c3cc...</td>\n",
       "      <td>generated</td>\n",
       "      <td>436.515</td>\n",
       "      <td>5.01350</td>\n",
       "      <td>-9.8</td>\n",
       "    </tr>\n",
       "    <tr>\n",
       "      <th>11</th>\n",
       "      <td>AAUE</td>\n",
       "      <td>3</td>\n",
       "      <td>CC1CCC(Nc2ccccc2)C(C(=O)Nc2ccncc2C=Cc2ccccc2CC...</td>\n",
       "      <td>generated</td>\n",
       "      <td>814.090</td>\n",
       "      <td>12.28668</td>\n",
       "      <td>-9.7</td>\n",
       "    </tr>\n",
       "    <tr>\n",
       "      <th>12</th>\n",
       "      <td>AARG</td>\n",
       "      <td>3</td>\n",
       "      <td>CC1=CCC(C(=O)N2C=C(C(=O)Nc3ccccc3)C2=O)C2=CC=C...</td>\n",
       "      <td>generated</td>\n",
       "      <td>754.862</td>\n",
       "      <td>8.37898</td>\n",
       "      <td>-9.7</td>\n",
       "    </tr>\n",
       "    <tr>\n",
       "      <th>13</th>\n",
       "      <td>ABYV</td>\n",
       "      <td>2</td>\n",
       "      <td>CC1=CCCC2C(=O)OCCC3=CC=c4c(ccccc(Cl)ccc4=CC(C(...</td>\n",
       "      <td>generated</td>\n",
       "      <td>689.645</td>\n",
       "      <td>10.26430</td>\n",
       "      <td>-9.7</td>\n",
       "    </tr>\n",
       "    <tr>\n",
       "      <th>14</th>\n",
       "      <td>ABRY</td>\n",
       "      <td>1</td>\n",
       "      <td>O=C1NC(=CC=C2C=CC(c3ccccc3)O2)C(Oc2ccccc2C2=NN...</td>\n",
       "      <td>generated</td>\n",
       "      <td>719.198</td>\n",
       "      <td>5.38730</td>\n",
       "      <td>-9.7</td>\n",
       "    </tr>\n",
       "    <tr>\n",
       "      <th>15</th>\n",
       "      <td>ABHL</td>\n",
       "      <td>3</td>\n",
       "      <td>CCC(NC1=CC=CC1)C1=CC=c2cc(c(=CC=C(C)C(=O)c3ccc...</td>\n",
       "      <td>generated</td>\n",
       "      <td>606.810</td>\n",
       "      <td>7.41380</td>\n",
       "      <td>-9.6</td>\n",
       "    </tr>\n",
       "    <tr>\n",
       "      <th>16</th>\n",
       "      <td>ABFC</td>\n",
       "      <td>2</td>\n",
       "      <td>CC1=CCCC(C(=O)NC2CCN(C(=O)c3ccccc3)C(=O)NC(Cc3...</td>\n",
       "      <td>generated</td>\n",
       "      <td>649.700</td>\n",
       "      <td>4.60240</td>\n",
       "      <td>-9.6</td>\n",
       "    </tr>\n",
       "    <tr>\n",
       "      <th>17</th>\n",
       "      <td>ABDQ</td>\n",
       "      <td>1</td>\n",
       "      <td>CC1(O)C(CC(=O)O)C=C(C2C=C(C3=CC=C(CN(NC(=O)Cn4...</td>\n",
       "      <td>generated</td>\n",
       "      <td>625.766</td>\n",
       "      <td>5.60350</td>\n",
       "      <td>-9.6</td>\n",
       "    </tr>\n",
       "    <tr>\n",
       "      <th>5652</th>\n",
       "      <td>AAXB</td>\n",
       "      <td>4</td>\n",
       "      <td>CC(C)(C)NC(=O)C(CC1=CC=C(CN2CCN(C(=O)Nc3ccccc3...</td>\n",
       "      <td>generated</td>\n",
       "      <td>705.816</td>\n",
       "      <td>3.94470</td>\n",
       "      <td>-9.5</td>\n",
       "    </tr>\n",
       "    <tr>\n",
       "      <th>20</th>\n",
       "      <td>ABVF</td>\n",
       "      <td>1</td>\n",
       "      <td>O=C1C=CC=CC=C(c2ccccc2)C(CN(c2ccc(-c3ccccc3)cc...</td>\n",
       "      <td>generated</td>\n",
       "      <td>495.622</td>\n",
       "      <td>8.29250</td>\n",
       "      <td>-9.5</td>\n",
       "    </tr>\n",
       "    <tr>\n",
       "      <th>18</th>\n",
       "      <td>ACTP</td>\n",
       "      <td>1</td>\n",
       "      <td>COC(C)C(=O)N1CCC2C3=CC=C(c4ccccc4)C(=CC=C3)C=C...</td>\n",
       "      <td>generated</td>\n",
       "      <td>610.802</td>\n",
       "      <td>6.49128</td>\n",
       "      <td>-9.5</td>\n",
       "    </tr>\n",
       "    <tr>\n",
       "      <th>19</th>\n",
       "      <td>ACIX</td>\n",
       "      <td>1</td>\n",
       "      <td>CCC1=CC=C(C2CCC(NC(N)=O)=NC2=CC=C2C=CC=C3C(CCC...</td>\n",
       "      <td>generated</td>\n",
       "      <td>783.326</td>\n",
       "      <td>7.67820</td>\n",
       "      <td>-9.5</td>\n",
       "    </tr>\n",
       "    <tr>\n",
       "      <th>21</th>\n",
       "      <td>ABVJ</td>\n",
       "      <td>1</td>\n",
       "      <td>CN(C)CC1=CC=C2OC(=CC=Cc3ccccc3)C2C2CCC(NC1)N1C...</td>\n",
       "      <td>generated</td>\n",
       "      <td>616.772</td>\n",
       "      <td>7.00890</td>\n",
       "      <td>-9.4</td>\n",
       "    </tr>\n",
       "    <tr>\n",
       "      <th>5972</th>\n",
       "      <td>ABKS</td>\n",
       "      <td>4</td>\n",
       "      <td>CC(=O)CC1=CC=C(C(=O)NC2=NN=CN(C(=O)Nc3nnnnn3)C...</td>\n",
       "      <td>generated</td>\n",
       "      <td>499.412</td>\n",
       "      <td>-1.35530</td>\n",
       "      <td>-9.4</td>\n",
       "    </tr>\n",
       "    <tr>\n",
       "      <th>22</th>\n",
       "      <td>AARC</td>\n",
       "      <td>0</td>\n",
       "      <td>NC(=O)C(Cc1ccc(OCc2ccccc2)cc1)CP(=O)(O)CC(Cc1c...</td>\n",
       "      <td>generated</td>\n",
       "      <td>495.512</td>\n",
       "      <td>4.12350</td>\n",
       "      <td>-9.4</td>\n",
       "    </tr>\n",
       "    <tr>\n",
       "      <th>23</th>\n",
       "      <td>AACJ</td>\n",
       "      <td>3</td>\n",
       "      <td>CC(C)(C)CC1CCNNC(=O)C2=CC=C(CC1=O)C(=O)NC(Cc1c...</td>\n",
       "      <td>generated</td>\n",
       "      <td>730.866</td>\n",
       "      <td>3.63908</td>\n",
       "      <td>-9.4</td>\n",
       "    </tr>\n",
       "    <tr>\n",
       "      <th>26</th>\n",
       "      <td>AAYR</td>\n",
       "      <td>1</td>\n",
       "      <td>O=C1NC2=CC=C(F)C(O)C(CO)NC(CC2)C2=CC(c3ccc(Cl)...</td>\n",
       "      <td>generated</td>\n",
       "      <td>655.170</td>\n",
       "      <td>5.78620</td>\n",
       "      <td>-9.4</td>\n",
       "    </tr>\n",
       "    <tr>\n",
       "      <th>25</th>\n",
       "      <td>ACPM</td>\n",
       "      <td>1</td>\n",
       "      <td>CC(NC(=O)C(Cc1ccccc1)NC(=O)C1(CC(=O)O)c2ccccc2...</td>\n",
       "      <td>generated</td>\n",
       "      <td>442.515</td>\n",
       "      <td>3.36570</td>\n",
       "      <td>-9.4</td>\n",
       "    </tr>\n",
       "    <tr>\n",
       "      <th>24</th>\n",
       "      <td>AAWY</td>\n",
       "      <td>3</td>\n",
       "      <td>O=C(c1ccc(NC(=O)N2CCc3ccccc32)c2ccccc12)N1CCCN...</td>\n",
       "      <td>generated</td>\n",
       "      <td>490.607</td>\n",
       "      <td>5.78690</td>\n",
       "      <td>-9.4</td>\n",
       "    </tr>\n",
       "    <tr>\n",
       "      <th>27</th>\n",
       "      <td>ABAY</td>\n",
       "      <td>3</td>\n",
       "      <td>CCCC(C)NC(=O)C(NC(=O)CNC(=O)CN1C=CC=CC=C2OC(=O...</td>\n",
       "      <td>generated</td>\n",
       "      <td>856.861</td>\n",
       "      <td>1.90610</td>\n",
       "      <td>-9.3</td>\n",
       "    </tr>\n",
       "    <tr>\n",
       "      <th>5404</th>\n",
       "      <td>AAMO</td>\n",
       "      <td>4</td>\n",
       "      <td>CC(C)NC(=O)C1C=CC=CC=CC=CC=CCC(CC2=NN=NC=CC=CC...</td>\n",
       "      <td>generated</td>\n",
       "      <td>689.045</td>\n",
       "      <td>13.01130</td>\n",
       "      <td>-9.3</td>\n",
       "    </tr>\n",
       "    <tr>\n",
       "      <th>28</th>\n",
       "      <td>ACTT</td>\n",
       "      <td>1</td>\n",
       "      <td>CC(C)(C)C1=CC(NC(=O)Cn2c(=O)oc3ccccc32)CC(OC2C...</td>\n",
       "      <td>generated</td>\n",
       "      <td>601.143</td>\n",
       "      <td>7.24410</td>\n",
       "      <td>-9.3</td>\n",
       "    </tr>\n",
       "    <tr>\n",
       "      <th>29</th>\n",
       "      <td>AAWW</td>\n",
       "      <td>3</td>\n",
       "      <td>CCC1=CC=C2C=CC=C(C=CC=C3OCC(CO)N3Cc3ccccc31)N2...</td>\n",
       "      <td>generated</td>\n",
       "      <td>571.685</td>\n",
       "      <td>5.15070</td>\n",
       "      <td>-9.2</td>\n",
       "    </tr>\n",
       "    <tr>\n",
       "      <th>30</th>\n",
       "      <td>ACAE</td>\n",
       "      <td>2</td>\n",
       "      <td>CN1CCC(C(=O)NC(CCc2ccccc2)C2=CCCC(c3ccccc3)C=C...</td>\n",
       "      <td>generated</td>\n",
       "      <td>476.664</td>\n",
       "      <td>6.78790</td>\n",
       "      <td>-9.2</td>\n",
       "    </tr>\n",
       "    <tr>\n",
       "      <th>31</th>\n",
       "      <td>AAYC</td>\n",
       "      <td>1</td>\n",
       "      <td>CCC(OC)C(=O)N1CCC2CC(CC1)N1C=C3COC3=CC=CC=C2CC...</td>\n",
       "      <td>generated</td>\n",
       "      <td>467.654</td>\n",
       "      <td>3.87300</td>\n",
       "      <td>-9.2</td>\n",
       "    </tr>\n",
       "    <tr>\n",
       "      <th>33</th>\n",
       "      <td>ABEF</td>\n",
       "      <td>3</td>\n",
       "      <td>CC1CCC(C(=O)Nc2nnnn2-c2nnnn2C2=CC=C(c3ccccn3)C...</td>\n",
       "      <td>generated</td>\n",
       "      <td>508.502</td>\n",
       "      <td>1.88590</td>\n",
       "      <td>-9.2</td>\n",
       "    </tr>\n",
       "    <tr>\n",
       "      <th>32</th>\n",
       "      <td>ACMQ</td>\n",
       "      <td>1</td>\n",
       "      <td>CC(C)(C)NC(=O)C(CC1=CC=CC(OC2=CC(c3ccccc3)CC(c...</td>\n",
       "      <td>generated</td>\n",
       "      <td>607.194</td>\n",
       "      <td>8.09490</td>\n",
       "      <td>-9.2</td>\n",
       "    </tr>\n",
       "    <tr>\n",
       "      <th>5265</th>\n",
       "      <td>AAGY</td>\n",
       "      <td>4</td>\n",
       "      <td>O=C(NC(=O)c1ccc(NC(=O)C2=CC=C(O)C(CO)C2)c2cccc...</td>\n",
       "      <td>generated</td>\n",
       "      <td>462.458</td>\n",
       "      <td>2.81710</td>\n",
       "      <td>-9.1</td>\n",
       "    </tr>\n",
       "    <tr>\n",
       "      <th>5780</th>\n",
       "      <td>ABCN</td>\n",
       "      <td>4</td>\n",
       "      <td>O=C(CN1CCN(C(=O)OC2=CC=C(c3ccccc3)CCC2)Cc2cccc...</td>\n",
       "      <td>generated</td>\n",
       "      <td>536.632</td>\n",
       "      <td>5.94490</td>\n",
       "      <td>-9.1</td>\n",
       "    </tr>\n",
       "    <tr>\n",
       "      <th>5198</th>\n",
       "      <td>AADW</td>\n",
       "      <td>4</td>\n",
       "      <td>O=C(NC(Cc1ccccc1)C(=O)NC(Cc1ccccc1)C(=O)Nc1ccc...</td>\n",
       "      <td>generated</td>\n",
       "      <td>492.579</td>\n",
       "      <td>3.78890</td>\n",
       "      <td>-9.1</td>\n",
       "    </tr>\n",
       "    <tr>\n",
       "      <th>34</th>\n",
       "      <td>AAUG</td>\n",
       "      <td>3</td>\n",
       "      <td>CCCC1CCC(NC(=O)C2CCCCN(C(=O)CC3CCN(C(=O)Nc4ccc...</td>\n",
       "      <td>generated</td>\n",
       "      <td>752.013</td>\n",
       "      <td>8.42540</td>\n",
       "      <td>-9.1</td>\n",
       "    </tr>\n",
       "    <tr>\n",
       "      <th>35</th>\n",
       "      <td>ABEF</td>\n",
       "      <td>1</td>\n",
       "      <td>CC(C)(C)C1(C)CC(C(=O)OC2CC3=CC=C(F)CCC(=CC=C(c...</td>\n",
       "      <td>generated</td>\n",
       "      <td>618.189</td>\n",
       "      <td>9.06000</td>\n",
       "      <td>-9.1</td>\n",
       "    </tr>\n",
       "    <tr>\n",
       "      <th>36</th>\n",
       "      <td>AARD</td>\n",
       "      <td>2</td>\n",
       "      <td>CC(C)(C)C1NC(=O)OC2=CC(NC(=O)c3ccccc3)CC3CCCC(...</td>\n",
       "      <td>generated</td>\n",
       "      <td>764.836</td>\n",
       "      <td>7.47000</td>\n",
       "      <td>-9.1</td>\n",
       "    </tr>\n",
       "    <tr>\n",
       "      <th>37</th>\n",
       "      <td>AAYY</td>\n",
       "      <td>3</td>\n",
       "      <td>CC1CCC(C(=O)NC2=NC=CCC2=CC=C2CC(=O)NC(=O)C=CC=...</td>\n",
       "      <td>generated</td>\n",
       "      <td>501.627</td>\n",
       "      <td>4.89920</td>\n",
       "      <td>-9.1</td>\n",
       "    </tr>\n",
       "    <tr>\n",
       "      <th>38</th>\n",
       "      <td>AASA</td>\n",
       "      <td>3</td>\n",
       "      <td>O=C(Cc1cccc2ccc(CNC(=O)c3ccccc3)cc12)Nc1ccccc1</td>\n",
       "      <td>generated</td>\n",
       "      <td>394.474</td>\n",
       "      <td>4.95100</td>\n",
       "      <td>-9.1</td>\n",
       "    </tr>\n",
       "    <tr>\n",
       "      <th>39</th>\n",
       "      <td>ABID</td>\n",
       "      <td>1</td>\n",
       "      <td>CN(C)C(=O)N1CCC(C(=O)N2CCCC2=CC=C2C=CC(C3=CC=C...</td>\n",
       "      <td>generated</td>\n",
       "      <td>527.684</td>\n",
       "      <td>6.80000</td>\n",
       "      <td>-9.1</td>\n",
       "    </tr>\n",
       "    <tr>\n",
       "      <th>43</th>\n",
       "      <td>AAUY</td>\n",
       "      <td>3</td>\n",
       "      <td>Oc1ccc(CN2CCC(Nc3ccccn3)CC2)n2c(ccccc(Cl)c3ccc...</td>\n",
       "      <td>generated</td>\n",
       "      <td>592.187</td>\n",
       "      <td>8.27750</td>\n",
       "      <td>-9.0</td>\n",
       "    </tr>\n",
       "  </tbody>\n",
       "</table>\n",
       "</div>"
      ],
      "text/plain": [
       "        id  gen                                              smile     source  \\\n",
       "0     AAXI    2  CC1=CC=C2C(=O)OC(=O)C(Cc3ccccc3)NC(=O)C(C)=CCC...  generated   \n",
       "5271  AAHF    4  CC1=CC=C(C)C(=O)NN2CCN3CC(=O)NC(C)C=CC=CC=C(C(...  generated   \n",
       "5587  AAUE    4  CC1CCC(NN=C2CCCC=CC=C(NC(=O)c3ccccc3)OCCCCC=CC...  generated   \n",
       "1     ABIM    3  CCCC1(C)C=CC=CC=C2C(C#N)=CC=C2CCc2ccccc2N(C=CC...  generated   \n",
       "2     AANR    3  CC1CCCCC(NC(=O)N2CCC(c3ccccc3)CC2)C2=CC=C(Nc3c...  generated   \n",
       "5988  ABLK    4  O=C(NC1=CC=CC(OC2C=CC(c3ccccc3)CC2)C1)N1CCC(N(...  generated   \n",
       "3     ABIG    3        CC1C=CC(C(=O)Nc2nnnn2-c2ccccc2-c2ccccc2)CC1  generated   \n",
       "4     AAVX    0  CC(C)CC(NC(=O)C(Cc1c[nH]c2ccccc12)NC(=O)C(Cc1c...  generated   \n",
       "5     ABBW    3  Cc1ccc(C=CC=CC=CC(=O)N2CCC(c3ccc(NC(=O)C4CCC(C...  generated   \n",
       "6     ABJU    2  Cc1cc(C(C)NC(=O)Cn2c(=O)oc3ccccc32)ccc(CC2=CC(...  generated   \n",
       "7     AAVJ    0  O=C(Nc1ccc2c(c1)OCO2)C1CC2CCC(C1)N2CCCCn1ccc2c...  generated   \n",
       "8     ACWS    1  CC(C)(C)c1ccc(OCC2=CC(N(CC3=CC(OC4=CC=C(Cl)CC4...  generated   \n",
       "9     AANQ    3  CC1=CC=C(N(NC(=O)CN2C=CC3=CC=CC=CC=C(OC(=O)O)C...  generated   \n",
       "10    AALT    3  O=C(Nc1ccccc1)N1C=NC(C(=O)N2C=CC(c3ccccc3)c3cc...  generated   \n",
       "11    AAUE    3  CC1CCC(Nc2ccccc2)C(C(=O)Nc2ccncc2C=Cc2ccccc2CC...  generated   \n",
       "12    AARG    3  CC1=CCC(C(=O)N2C=C(C(=O)Nc3ccccc3)C2=O)C2=CC=C...  generated   \n",
       "13    ABYV    2  CC1=CCCC2C(=O)OCCC3=CC=c4c(ccccc(Cl)ccc4=CC(C(...  generated   \n",
       "14    ABRY    1  O=C1NC(=CC=C2C=CC(c3ccccc3)O2)C(Oc2ccccc2C2=NN...  generated   \n",
       "15    ABHL    3  CCC(NC1=CC=CC1)C1=CC=c2cc(c(=CC=C(C)C(=O)c3ccc...  generated   \n",
       "16    ABFC    2  CC1=CCCC(C(=O)NC2CCN(C(=O)c3ccccc3)C(=O)NC(Cc3...  generated   \n",
       "17    ABDQ    1  CC1(O)C(CC(=O)O)C=C(C2C=C(C3=CC=C(CN(NC(=O)Cn4...  generated   \n",
       "5652  AAXB    4  CC(C)(C)NC(=O)C(CC1=CC=C(CN2CCN(C(=O)Nc3ccccc3...  generated   \n",
       "20    ABVF    1  O=C1C=CC=CC=C(c2ccccc2)C(CN(c2ccc(-c3ccccc3)cc...  generated   \n",
       "18    ACTP    1  COC(C)C(=O)N1CCC2C3=CC=C(c4ccccc4)C(=CC=C3)C=C...  generated   \n",
       "19    ACIX    1  CCC1=CC=C(C2CCC(NC(N)=O)=NC2=CC=C2C=CC=C3C(CCC...  generated   \n",
       "21    ABVJ    1  CN(C)CC1=CC=C2OC(=CC=Cc3ccccc3)C2C2CCC(NC1)N1C...  generated   \n",
       "5972  ABKS    4  CC(=O)CC1=CC=C(C(=O)NC2=NN=CN(C(=O)Nc3nnnnn3)C...  generated   \n",
       "22    AARC    0  NC(=O)C(Cc1ccc(OCc2ccccc2)cc1)CP(=O)(O)CC(Cc1c...  generated   \n",
       "23    AACJ    3  CC(C)(C)CC1CCNNC(=O)C2=CC=C(CC1=O)C(=O)NC(Cc1c...  generated   \n",
       "26    AAYR    1  O=C1NC2=CC=C(F)C(O)C(CO)NC(CC2)C2=CC(c3ccc(Cl)...  generated   \n",
       "25    ACPM    1  CC(NC(=O)C(Cc1ccccc1)NC(=O)C1(CC(=O)O)c2ccccc2...  generated   \n",
       "24    AAWY    3  O=C(c1ccc(NC(=O)N2CCc3ccccc32)c2ccccc12)N1CCCN...  generated   \n",
       "27    ABAY    3  CCCC(C)NC(=O)C(NC(=O)CNC(=O)CN1C=CC=CC=C2OC(=O...  generated   \n",
       "5404  AAMO    4  CC(C)NC(=O)C1C=CC=CC=CC=CC=CCC(CC2=NN=NC=CC=CC...  generated   \n",
       "28    ACTT    1  CC(C)(C)C1=CC(NC(=O)Cn2c(=O)oc3ccccc32)CC(OC2C...  generated   \n",
       "29    AAWW    3  CCC1=CC=C2C=CC=C(C=CC=C3OCC(CO)N3Cc3ccccc31)N2...  generated   \n",
       "30    ACAE    2  CN1CCC(C(=O)NC(CCc2ccccc2)C2=CCCC(c3ccccc3)C=C...  generated   \n",
       "31    AAYC    1  CCC(OC)C(=O)N1CCC2CC(CC1)N1C=C3COC3=CC=CC=C2CC...  generated   \n",
       "33    ABEF    3  CC1CCC(C(=O)Nc2nnnn2-c2nnnn2C2=CC=C(c3ccccn3)C...  generated   \n",
       "32    ACMQ    1  CC(C)(C)NC(=O)C(CC1=CC=CC(OC2=CC(c3ccccc3)CC(c...  generated   \n",
       "5265  AAGY    4  O=C(NC(=O)c1ccc(NC(=O)C2=CC=C(O)C(CO)C2)c2cccc...  generated   \n",
       "5780  ABCN    4  O=C(CN1CCN(C(=O)OC2=CC=C(c3ccccc3)CCC2)Cc2cccc...  generated   \n",
       "5198  AADW    4  O=C(NC(Cc1ccccc1)C(=O)NC(Cc1ccccc1)C(=O)Nc1ccc...  generated   \n",
       "34    AAUG    3  CCCC1CCC(NC(=O)C2CCCCN(C(=O)CC3CCN(C(=O)Nc4ccc...  generated   \n",
       "35    ABEF    1  CC(C)(C)C1(C)CC(C(=O)OC2CC3=CC=C(F)CCC(=CC=C(c...  generated   \n",
       "36    AARD    2  CC(C)(C)C1NC(=O)OC2=CC(NC(=O)c3ccccc3)CC3CCCC(...  generated   \n",
       "37    AAYY    3  CC1CCC(C(=O)NC2=NC=CCC2=CC=C2CC(=O)NC(=O)C=CC=...  generated   \n",
       "38    AASA    3     O=C(Cc1cccc2ccc(CNC(=O)c3ccccc3)cc12)Nc1ccccc1  generated   \n",
       "39    ABID    1  CN(C)C(=O)N1CCC(C(=O)N2CCCC2=CC=C2C=CC(C3=CC=C...  generated   \n",
       "43    AAUY    3  Oc1ccc(CN2CCC(Nc3ccccn3)CC2)n2c(ccccc(Cl)c3ccc...  generated   \n",
       "\n",
       "       weight      logp  score  \n",
       "0     753.856   4.87358  -11.2  \n",
       "5271  717.823   4.08010  -11.2  \n",
       "5587  900.221  12.92120  -11.0  \n",
       "1     658.862   8.33798  -10.7  \n",
       "2     671.842   7.44508  -10.6  \n",
       "5988  732.933   7.42820  -10.3  \n",
       "3     359.433   3.87010  -10.2  \n",
       "4     746.909   4.93720  -10.1  \n",
       "5     546.671   6.07292  -10.0  \n",
       "6     794.871   7.87862   -9.9  \n",
       "7     461.562   4.73750   -9.9  \n",
       "8     778.522  11.35260   -9.8  \n",
       "9     689.721   6.64440   -9.8  \n",
       "10    436.515   5.01350   -9.8  \n",
       "11    814.090  12.28668   -9.7  \n",
       "12    754.862   8.37898   -9.7  \n",
       "13    689.645  10.26430   -9.7  \n",
       "14    719.198   5.38730   -9.7  \n",
       "15    606.810   7.41380   -9.6  \n",
       "16    649.700   4.60240   -9.6  \n",
       "17    625.766   5.60350   -9.6  \n",
       "5652  705.816   3.94470   -9.5  \n",
       "20    495.622   8.29250   -9.5  \n",
       "18    610.802   6.49128   -9.5  \n",
       "19    783.326   7.67820   -9.5  \n",
       "21    616.772   7.00890   -9.4  \n",
       "5972  499.412  -1.35530   -9.4  \n",
       "22    495.512   4.12350   -9.4  \n",
       "23    730.866   3.63908   -9.4  \n",
       "26    655.170   5.78620   -9.4  \n",
       "25    442.515   3.36570   -9.4  \n",
       "24    490.607   5.78690   -9.4  \n",
       "27    856.861   1.90610   -9.3  \n",
       "5404  689.045  13.01130   -9.3  \n",
       "28    601.143   7.24410   -9.3  \n",
       "29    571.685   5.15070   -9.2  \n",
       "30    476.664   6.78790   -9.2  \n",
       "31    467.654   3.87300   -9.2  \n",
       "33    508.502   1.88590   -9.2  \n",
       "32    607.194   8.09490   -9.2  \n",
       "5265  462.458   2.81710   -9.1  \n",
       "5780  536.632   5.94490   -9.1  \n",
       "5198  492.579   3.78890   -9.1  \n",
       "34    752.013   8.42540   -9.1  \n",
       "35    618.189   9.06000   -9.1  \n",
       "36    764.836   7.47000   -9.1  \n",
       "37    501.627   4.89920   -9.1  \n",
       "38    394.474   4.95100   -9.1  \n",
       "39    527.684   6.80000   -9.1  \n",
       "43    592.187   8.27750   -9.0  "
      ]
     },
     "execution_count": 16,
     "metadata": {},
     "output_type": "execute_result"
    }
   ],
   "source": [
    "# Append Score and Weight columns\n",
    "\n",
    "new_scores.id = new_scores.id.astype(str)\n",
    "new_scores.gen = new_scores.gen.astype(int)\n",
    "master_table.id = master_table.id.astype(str)\n",
    "master_table.gen = master_table.gen.astype(int)\n",
    "\n",
    "# Merge result csv and mastertable iwth ['id' , 'gen']\n",
    "new_table = pd.merge(master_table, new_scores, on=['id','gen'], suffixes=('_old','_new'), how='left')\n",
    "\n",
    "# Column ['score'] is replace with new value\n",
    "new_table['score'] = np.where(new_table['score_new'].isnull(), new_table['score_old'], new_table['score_new'])\n",
    "\n",
    "# Remove column ['score_old', 'score_new']\n",
    "new_table = new_table.drop(['score_old','score_new'], axis=1)\n",
    "\n",
    "# Compute the weight of smile\n",
    "new_table['weight'] = new_table['smile'].apply(lambda x: Descriptors.MolWt(Chem.MolFromSmiles(x)))\n",
    "\n",
    "# Compute LogP of smile\n",
    "new_table['logp'] = new_table['smile'].apply(lambda x: Descriptors.MolLogP(Chem.MolFromSmiles(x)))\n",
    "\n",
    "# Sort the table\n",
    "new_table = new_table.sort_values('score', ascending=True)\n",
    "new_table.head(50)"
   ]
  },
  {
   "cell_type": "code",
   "execution_count": 17,
   "metadata": {},
   "outputs": [],
   "source": [
    "# Saved the merge result to the master_table csv\n",
    "# './generations/master_results_table_gen(i-1).csv'\n",
    "\n",
    "new_table.to_csv(r'./generations/master_results_table_gen' + str(GLOBAL_GENERATION-1) + '.csv', index=False)"
   ]
  },
  {
   "cell_type": "markdown",
   "metadata": {},
   "source": [
    "###  a) Select best 35 from score (sorted)  - 35"
   ]
  },
  {
   "cell_type": "code",
   "execution_count": 18,
   "metadata": {
    "scrolled": true
   },
   "outputs": [
    {
     "data": {
      "text/plain": [
       "35"
      ]
     },
     "execution_count": 18,
     "metadata": {},
     "output_type": "execute_result"
    }
   ],
   "source": [
    "# Select top 35 ranked by score for training data to refine the molecule generator RNN\n",
    "# Set function is used to save the list in ascending order and also remove duplicate (Almost similar to java hashmap)\n",
    "\n",
    "training_smiles = list(set(list(new_table.head(35)['smile'])))\n",
    "len(training_smiles)"
   ]
  },
  {
   "cell_type": "markdown",
   "metadata": {},
   "source": [
    "### b) Select 10 based on the nearest tanimoto distance (Similarity) - 45"
   ]
  },
  {
   "cell_type": "code",
   "execution_count": 19,
   "metadata": {
    "scrolled": true
   },
   "outputs": [
    {
     "data": {
      "text/html": [
       "<div>\n",
       "<style scoped>\n",
       "    .dataframe tbody tr th:only-of-type {\n",
       "        vertical-align: middle;\n",
       "    }\n",
       "\n",
       "    .dataframe tbody tr th {\n",
       "        vertical-align: top;\n",
       "    }\n",
       "\n",
       "    .dataframe thead th {\n",
       "        text-align: right;\n",
       "    }\n",
       "</style>\n",
       "<table border=\"1\" class=\"dataframe\">\n",
       "  <thead>\n",
       "    <tr style=\"text-align: right;\">\n",
       "      <th></th>\n",
       "      <th>id</th>\n",
       "      <th>gen</th>\n",
       "      <th>smile</th>\n",
       "      <th>source</th>\n",
       "      <th>weight</th>\n",
       "      <th>logp</th>\n",
       "      <th>score</th>\n",
       "      <th>similarity_adj_score</th>\n",
       "    </tr>\n",
       "  </thead>\n",
       "  <tbody>\n",
       "    <tr>\n",
       "      <th>5107</th>\n",
       "      <td>AAAZ</td>\n",
       "      <td>4</td>\n",
       "      <td>CNC</td>\n",
       "      <td>generated</td>\n",
       "      <td>45.085</td>\n",
       "      <td>-0.16440</td>\n",
       "      <td>-5.2</td>\n",
       "      <td>-27.765506</td>\n",
       "    </tr>\n",
       "    <tr>\n",
       "      <th>5070</th>\n",
       "      <td>AAAF</td>\n",
       "      <td>4</td>\n",
       "      <td>CCCCC#CC#CC#N</td>\n",
       "      <td>generated</td>\n",
       "      <td>131.178</td>\n",
       "      <td>1.70698</td>\n",
       "      <td>-7.4</td>\n",
       "      <td>-22.271736</td>\n",
       "    </tr>\n",
       "    <tr>\n",
       "      <th>5095</th>\n",
       "      <td>AAAT</td>\n",
       "      <td>4</td>\n",
       "      <td>C=CC</td>\n",
       "      <td>generated</td>\n",
       "      <td>42.081</td>\n",
       "      <td>1.19230</td>\n",
       "      <td>-4.7</td>\n",
       "      <td>-21.926116</td>\n",
       "    </tr>\n",
       "    <tr>\n",
       "      <th>5034</th>\n",
       "      <td>AAAS</td>\n",
       "      <td>4</td>\n",
       "      <td>CN(C)CC=CCCC#N</td>\n",
       "      <td>genetic_algorithm</td>\n",
       "      <td>138.214</td>\n",
       "      <td>1.40798</td>\n",
       "      <td>-8.2</td>\n",
       "      <td>-20.268568</td>\n",
       "    </tr>\n",
       "    <tr>\n",
       "      <th>5125</th>\n",
       "      <td>AABJ</td>\n",
       "      <td>4</td>\n",
       "      <td>CC#CCCCCC</td>\n",
       "      <td>generated</td>\n",
       "      <td>110.200</td>\n",
       "      <td>2.59000</td>\n",
       "      <td>-5.6</td>\n",
       "      <td>-19.431230</td>\n",
       "    </tr>\n",
       "  </tbody>\n",
       "</table>\n",
       "</div>"
      ],
      "text/plain": [
       "        id  gen           smile             source   weight     logp  score  \\\n",
       "5107  AAAZ    4             CNC          generated   45.085 -0.16440   -5.2   \n",
       "5070  AAAF    4   CCCCC#CC#CC#N          generated  131.178  1.70698   -7.4   \n",
       "5095  AAAT    4            C=CC          generated   42.081  1.19230   -4.7   \n",
       "5034  AAAS    4  CN(C)CC=CCCC#N  genetic_algorithm  138.214  1.40798   -8.2   \n",
       "5125  AABJ    4       CC#CCCCCC          generated  110.200  2.59000   -5.6   \n",
       "\n",
       "      similarity_adj_score  \n",
       "5107            -27.765506  \n",
       "5070            -22.271736  \n",
       "5095            -21.926116  \n",
       "5034            -20.268568  \n",
       "5125            -19.431230  "
      ]
     },
     "execution_count": 19,
     "metadata": {},
     "output_type": "execute_result"
    }
   ],
   "source": [
    "training_fingerprints = []\n",
    "\n",
    "# Computer fingerprint\n",
    "for smile in training_smiles:\n",
    "    training_fingerprints.append(Chem.RDKFingerprint(Chem.MolFromSmiles(smile)))\n",
    "\n",
    "# Calculate the similarity score based on weight and score\n",
    "def calc_similarity_score(row):\n",
    "    fingerprint = Chem.RDKFingerprint(Chem.MolFromSmiles(row['smile']))\n",
    "    \n",
    "    # Compute the tanimoto fingerprint\n",
    "    similarity = np.max(DataStructs.BulkTanimotoSimilarity(fingerprint,training_fingerprints))\n",
    "    \n",
    "    adj_factor = (1 / similarity) **.333\n",
    "    adj_score = row['score'] * adj_factor\n",
    "    return adj_score\n",
    "\n",
    "# Copy from master table\n",
    "similarity_adjusted = new_table.copy(deep=True)\n",
    "\n",
    "# All the weight which smaller than 900\n",
    "similarity_adjusted = similarity_adjusted[similarity_adjusted['weight'] < 900]\n",
    "\n",
    "# Create a new column named similarity_adj_score, and apply the fucntion\n",
    "similarity_adjusted['similarity_adj_score'] = similarity_adjusted.apply(calc_similarity_score, axis=1)\n",
    "\n",
    "# Sort the value based on similarity_adj_score Ascending\n",
    "similarity_adjusted = similarity_adjusted.sort_values('similarity_adj_score', ascending=True)\n",
    "similarity_adjusted.head()"
   ]
  },
  {
   "cell_type": "code",
   "execution_count": 20,
   "metadata": {},
   "outputs": [
    {
     "data": {
      "text/plain": [
       "45"
      ]
     },
     "execution_count": 20,
     "metadata": {},
     "output_type": "execute_result"
    }
   ],
   "source": [
    "# Select top 5 ranked by similarity adjusted score for training data \n",
    "# to refine the molecule generator RNN (ensures diverity)\n",
    "\n",
    "training_smiles += list(similarity_adjusted.head(10)['smile'])\n",
    "len(training_smiles)"
   ]
  },
  {
   "cell_type": "markdown",
   "metadata": {},
   "source": [
    "### c) Select 10 based on the logP - 55"
   ]
  },
  {
   "cell_type": "code",
   "execution_count": 21,
   "metadata": {
    "scrolled": false
   },
   "outputs": [
    {
     "data": {
      "text/html": [
       "<div>\n",
       "<style scoped>\n",
       "    .dataframe tbody tr th:only-of-type {\n",
       "        vertical-align: middle;\n",
       "    }\n",
       "\n",
       "    .dataframe tbody tr th {\n",
       "        vertical-align: top;\n",
       "    }\n",
       "\n",
       "    .dataframe thead th {\n",
       "        text-align: right;\n",
       "    }\n",
       "</style>\n",
       "<table border=\"1\" class=\"dataframe\">\n",
       "  <thead>\n",
       "    <tr style=\"text-align: right;\">\n",
       "      <th></th>\n",
       "      <th>id</th>\n",
       "      <th>gen</th>\n",
       "      <th>smile</th>\n",
       "      <th>source</th>\n",
       "      <th>weight</th>\n",
       "      <th>logp</th>\n",
       "      <th>score</th>\n",
       "      <th>logp_adj_score</th>\n",
       "    </tr>\n",
       "  </thead>\n",
       "  <tbody>\n",
       "    <tr>\n",
       "      <th>1918</th>\n",
       "      <td>ABOA</td>\n",
       "      <td>1</td>\n",
       "      <td>CN(C)C(=O)C1=CC=C(O)C1=CC=C1OCC(O)C1O</td>\n",
       "      <td>generated</td>\n",
       "      <td>279.292</td>\n",
       "      <td>0.0188</td>\n",
       "      <td>-6.4</td>\n",
       "      <td>-30.278085</td>\n",
       "    </tr>\n",
       "    <tr>\n",
       "      <th>5180</th>\n",
       "      <td>AADC</td>\n",
       "      <td>4</td>\n",
       "      <td>CC#CC(=O)NC1=CC=C(C)C(=O)C1=CC=CC=C1OCC(O)C(O)C1O</td>\n",
       "      <td>generated</td>\n",
       "      <td>371.389</td>\n",
       "      <td>0.0182</td>\n",
       "      <td>-6.3</td>\n",
       "      <td>-30.128656</td>\n",
       "    </tr>\n",
       "    <tr>\n",
       "      <th>787</th>\n",
       "      <td>AAWF</td>\n",
       "      <td>3</td>\n",
       "      <td>CC1CCC(C(=O)Nc2nnnnn2)C1</td>\n",
       "      <td>generated</td>\n",
       "      <td>208.225</td>\n",
       "      <td>0.0363</td>\n",
       "      <td>-7.2</td>\n",
       "      <td>-27.360661</td>\n",
       "    </tr>\n",
       "    <tr>\n",
       "      <th>2254</th>\n",
       "      <td>ABAV</td>\n",
       "      <td>0</td>\n",
       "      <td>CC1CCC(O)CC1(O)CCN(C)C(=O)C1CCC(=O)N1</td>\n",
       "      <td>generated</td>\n",
       "      <td>298.383</td>\n",
       "      <td>0.0255</td>\n",
       "      <td>-6.2</td>\n",
       "      <td>-26.500667</td>\n",
       "    </tr>\n",
       "    <tr>\n",
       "      <th>2576</th>\n",
       "      <td>ACOQ</td>\n",
       "      <td>1</td>\n",
       "      <td>C=CCC(=O)N1CCC(C(=O)O)C1=O</td>\n",
       "      <td>generated</td>\n",
       "      <td>197.190</td>\n",
       "      <td>0.0222</td>\n",
       "      <td>-5.9</td>\n",
       "      <td>-26.409456</td>\n",
       "    </tr>\n",
       "  </tbody>\n",
       "</table>\n",
       "</div>"
      ],
      "text/plain": [
       "        id  gen                                              smile     source  \\\n",
       "1918  ABOA    1              CN(C)C(=O)C1=CC=C(O)C1=CC=C1OCC(O)C1O  generated   \n",
       "5180  AADC    4  CC#CC(=O)NC1=CC=C(C)C(=O)C1=CC=CC=C1OCC(O)C(O)C1O  generated   \n",
       "787   AAWF    3                           CC1CCC(C(=O)Nc2nnnnn2)C1  generated   \n",
       "2254  ABAV    0              CC1CCC(O)CC1(O)CCN(C)C(=O)C1CCC(=O)N1  generated   \n",
       "2576  ACOQ    1                         C=CCC(=O)N1CCC(C(=O)O)C1=O  generated   \n",
       "\n",
       "       weight    logp  score  logp_adj_score  \n",
       "1918  279.292  0.0188   -6.4      -30.278085  \n",
       "5180  371.389  0.0182   -6.3      -30.128656  \n",
       "787   208.225  0.0363   -7.2      -27.360661  \n",
       "2254  298.383  0.0255   -6.2      -26.500667  \n",
       "2576  197.190  0.0222   -5.9      -26.409456  "
      ]
     },
     "execution_count": 21,
     "metadata": {},
     "output_type": "execute_result"
    }
   ],
   "source": [
    "def calc_logp_score(row):\n",
    "    \"\"\"\n",
    "    Calculate the logP score.\n",
    "    \n",
    "    :params row: pandas row\n",
    "    \"\"\"\n",
    "    adj_factor = (2 / row['logp']) ** .333\n",
    "    \n",
    "    if adj_factor < 1:\n",
    "        adj_score = 0\n",
    "    else:\n",
    "        adj_score = row['score'] * adj_factor\n",
    "    return adj_score\n",
    "\n",
    "# Copy from master table\n",
    "logp_adjusted = new_table.copy(deep=True)\n",
    "logp_adjusted.dropna()\n",
    "\n",
    "# Select all results that have logp <= 2\n",
    "logp_adjusted = logp_adjusted[(logp_adjusted[\"logp\"] <= 2) & (logp_adjusted[\"logp\"] > 0)]\n",
    "\n",
    "# Apply function\n",
    "logp_adjusted['logp_adj_score'] = logp_adjusted.apply(calc_logp_score, axis=1)\n",
    "\n",
    "# Sort the logp_adj_score\n",
    "logp_adjusted = logp_adjusted.sort_values('logp_adj_score', ascending=True)\n",
    "logp_adjusted.head()"
   ]
  },
  {
   "cell_type": "code",
   "execution_count": 22,
   "metadata": {},
   "outputs": [
    {
     "data": {
      "text/plain": [
       "55"
      ]
     },
     "execution_count": 22,
     "metadata": {},
     "output_type": "execute_result"
    }
   ],
   "source": [
    "# Select top 10 ranked by logp adjusted score for training data \n",
    "# to refine the molecule generator RNN (ensures diverity)\n",
    "\n",
    "training_smiles += list(logp_adjusted.head(10)['smile'])\n",
    "len(training_smiles)"
   ]
  },
  {
   "cell_type": "markdown",
   "metadata": {},
   "source": [
    "### d) Select 10 based on the weight of the score - 65"
   ]
  },
  {
   "cell_type": "code",
   "execution_count": 23,
   "metadata": {
    "scrolled": true
   },
   "outputs": [
    {
     "data": {
      "text/html": [
       "<div>\n",
       "<style scoped>\n",
       "    .dataframe tbody tr th:only-of-type {\n",
       "        vertical-align: middle;\n",
       "    }\n",
       "\n",
       "    .dataframe tbody tr th {\n",
       "        vertical-align: top;\n",
       "    }\n",
       "\n",
       "    .dataframe thead th {\n",
       "        text-align: right;\n",
       "    }\n",
       "</style>\n",
       "<table border=\"1\" class=\"dataframe\">\n",
       "  <thead>\n",
       "    <tr style=\"text-align: right;\">\n",
       "      <th></th>\n",
       "      <th>id</th>\n",
       "      <th>gen</th>\n",
       "      <th>smile</th>\n",
       "      <th>source</th>\n",
       "      <th>weight</th>\n",
       "      <th>logp</th>\n",
       "      <th>score</th>\n",
       "      <th>weight_adj_score</th>\n",
       "    </tr>\n",
       "  </thead>\n",
       "  <tbody>\n",
       "    <tr>\n",
       "      <th>5034</th>\n",
       "      <td>AAAS</td>\n",
       "      <td>4</td>\n",
       "      <td>CN(C)CC=CCCC#N</td>\n",
       "      <td>genetic_algorithm</td>\n",
       "      <td>138.214</td>\n",
       "      <td>1.40798</td>\n",
       "      <td>-8.2</td>\n",
       "      <td>-15.302866</td>\n",
       "    </tr>\n",
       "    <tr>\n",
       "      <th>5107</th>\n",
       "      <td>AAAZ</td>\n",
       "      <td>4</td>\n",
       "      <td>CNC</td>\n",
       "      <td>generated</td>\n",
       "      <td>45.085</td>\n",
       "      <td>-0.16440</td>\n",
       "      <td>-5.2</td>\n",
       "      <td>-14.092025</td>\n",
       "    </tr>\n",
       "    <tr>\n",
       "      <th>5070</th>\n",
       "      <td>AAAF</td>\n",
       "      <td>4</td>\n",
       "      <td>CCCCC#CC#CC#N</td>\n",
       "      <td>generated</td>\n",
       "      <td>131.178</td>\n",
       "      <td>1.70698</td>\n",
       "      <td>-7.4</td>\n",
       "      <td>-14.052279</td>\n",
       "    </tr>\n",
       "    <tr>\n",
       "      <th>5051</th>\n",
       "      <td>AABM</td>\n",
       "      <td>4</td>\n",
       "      <td>CC(C)CCN(C)O</td>\n",
       "      <td>genetic_algorithm</td>\n",
       "      <td>117.192</td>\n",
       "      <td>1.35350</td>\n",
       "      <td>-7.1</td>\n",
       "      <td>-13.998390</td>\n",
       "    </tr>\n",
       "    <tr>\n",
       "      <th>3</th>\n",
       "      <td>ABIG</td>\n",
       "      <td>3</td>\n",
       "      <td>CC1C=CC(C(=O)Nc2nnnn2-c2ccccc2-c2ccccc2)CC1</td>\n",
       "      <td>generated</td>\n",
       "      <td>359.433</td>\n",
       "      <td>3.87010</td>\n",
       "      <td>-10.2</td>\n",
       "      <td>-13.846568</td>\n",
       "    </tr>\n",
       "  </tbody>\n",
       "</table>\n",
       "</div>"
      ],
      "text/plain": [
       "        id  gen                                        smile  \\\n",
       "5034  AAAS    4                               CN(C)CC=CCCC#N   \n",
       "5107  AAAZ    4                                          CNC   \n",
       "5070  AAAF    4                                CCCCC#CC#CC#N   \n",
       "5051  AABM    4                                 CC(C)CCN(C)O   \n",
       "3     ABIG    3  CC1C=CC(C(=O)Nc2nnnn2-c2ccccc2-c2ccccc2)CC1   \n",
       "\n",
       "                 source   weight     logp  score  weight_adj_score  \n",
       "5034  genetic_algorithm  138.214  1.40798   -8.2        -15.302866  \n",
       "5107          generated   45.085 -0.16440   -5.2        -14.092025  \n",
       "5070          generated  131.178  1.70698   -7.4        -14.052279  \n",
       "5051  genetic_algorithm  117.192  1.35350   -7.1        -13.998390  \n",
       "3             generated  359.433  3.87010  -10.2        -13.846568  "
      ]
     },
     "execution_count": 23,
     "metadata": {},
     "output_type": "execute_result"
    }
   ],
   "source": [
    "def calc_weight_score(row):\n",
    "    \"\"\"\n",
    "    Calculate the weight.\n",
    "    \n",
    "    :params row: pandas row\n",
    "    \"\"\"\n",
    "    adj_factor = (900 / row['weight']) ** .333\n",
    "    if adj_factor < 1:\n",
    "        adj_score = 0\n",
    "    else:\n",
    "        adj_score = row['score'] * adj_factor\n",
    "    return adj_score\n",
    "\n",
    "weight_adjusted = new_table.copy(deep=True)\n",
    "weight_adjusted['weight_adj_score'] = weight_adjusted.apply(calc_weight_score, axis=1)\n",
    "weight_adjusted = weight_adjusted.sort_values('weight_adj_score', ascending=True)\n",
    "weight_adjusted.head()"
   ]
  },
  {
   "cell_type": "code",
   "execution_count": 24,
   "metadata": {
    "scrolled": true
   },
   "outputs": [
    {
     "data": {
      "text/plain": [
       "65"
      ]
     },
     "execution_count": 24,
     "metadata": {},
     "output_type": "execute_result"
    }
   ],
   "source": [
    "# Select top X ranked by similarity adjusted score for training data \n",
    "# to refine the molecule generator RNN (ensures diverity)\n",
    "\n",
    "training_smiles += list(weight_adjusted.head(10)['smile'])\n",
    "len(training_smiles)"
   ]
  },
  {
   "cell_type": "markdown",
   "metadata": {},
   "source": [
    "### e) Select 5 randomly"
   ]
  },
  {
   "cell_type": "code",
   "execution_count": 25,
   "metadata": {},
   "outputs": [
    {
     "name": "stdout",
     "output_type": "stream",
     "text": [
      "WARNING:tensorflow:From <ipython-input-25-cff5e14f5db6>:2: is_gpu_available (from tensorflow.python.framework.test_util) is deprecated and will be removed in a future version.\n",
      "Instructions for updating:\n",
      "Use `tf.config.list_physical_devices('GPU')` instead.\n"
     ]
    },
    {
     "data": {
      "text/plain": [
       "True"
      ]
     },
     "execution_count": 25,
     "metadata": {},
     "output_type": "execute_result"
    }
   ],
   "source": [
    "import tensorflow\n",
    "tensorflow.test.is_gpu_available()"
   ]
  },
  {
   "cell_type": "code",
   "execution_count": 26,
   "metadata": {},
   "outputs": [
    {
     "name": "stderr",
     "output_type": "stream",
     "text": [
      "Using TensorFlow backend.\n"
     ]
    }
   ],
   "source": [
    "import numpy as np\n",
    "from copy import copy\n",
    "\n",
    "import keras\n",
    "\n",
    "from lstm_chem.utils.config import process_config\n",
    "from lstm_chem.model import LSTMChem\n",
    "from lstm_chem.generator import LSTMChemGenerator\n",
    "from lstm_chem.trainer import LSTMChemTrainer\n",
    "from lstm_chem.data_loader import DataLoader"
   ]
  },
  {
   "cell_type": "code",
   "execution_count": 27,
   "metadata": {},
   "outputs": [
    {
     "name": "stdout",
     "output_type": "stream",
     "text": [
      "Loading model architecture from experiments/2019-12-23/LSTM_Chem/model_arch.json ...\n",
      "Loading model checkpoint from experiments/2019-12-23/LSTM_Chem/checkpoints/LSTM_Chem-baseline-model-full.hdf5 ...\n",
      "Loaded the Model.\n"
     ]
    }
   ],
   "source": [
    "# Generate some with the base original model\n",
    "\n",
    "CONFIG_FILE = 'experiments/2019-12-23/LSTM_Chem/config.json'\n",
    "config = process_config(CONFIG_FILE)\n",
    "modeler = LSTMChem(config, session='generate')\n",
    "generator = LSTMChemGenerator(modeler)"
   ]
  },
  {
   "cell_type": "code",
   "execution_count": 28,
   "metadata": {},
   "outputs": [],
   "source": [
    "sample_number = 20"
   ]
  },
  {
   "cell_type": "code",
   "execution_count": 29,
   "metadata": {},
   "outputs": [
    {
     "name": "stderr",
     "output_type": "stream",
     "text": [
      "100%|██████████| 20/20 [00:08<00:00,  2.50it/s]\n"
     ]
    }
   ],
   "source": [
    "base_generated = generator.sample(num=sample_number)"
   ]
  },
  {
   "cell_type": "code",
   "execution_count": 30,
   "metadata": {},
   "outputs": [
    {
     "data": {
      "text/plain": [
       "70"
      ]
     },
     "execution_count": 30,
     "metadata": {},
     "output_type": "execute_result"
    }
   ],
   "source": [
    "base_generated_mols = validate_mols(base_generated)\n",
    "base_generated_smiles = convert_mols_to_smiles(base_generated_mols)\n",
    "random.shuffle(base_generated_smiles)\n",
    "random.shuffle(base_generated_smiles)\n",
    "# Select X for training data to refine the molecule generator RNN (ensures diverity)\n",
    "training_smiles += base_generated_smiles[0:5]\n",
    "len(training_smiles)"
   ]
  },
  {
   "cell_type": "code",
   "execution_count": 31,
   "metadata": {},
   "outputs": [
    {
     "data": {
      "text/html": [
       "<div>\n",
       "<style scoped>\n",
       "    .dataframe tbody tr th:only-of-type {\n",
       "        vertical-align: middle;\n",
       "    }\n",
       "\n",
       "    .dataframe tbody tr th {\n",
       "        vertical-align: top;\n",
       "    }\n",
       "\n",
       "    .dataframe thead th {\n",
       "        text-align: right;\n",
       "    }\n",
       "</style>\n",
       "<table border=\"1\" class=\"dataframe\">\n",
       "  <thead>\n",
       "    <tr style=\"text-align: right;\">\n",
       "      <th></th>\n",
       "      <th>id</th>\n",
       "      <th>gen</th>\n",
       "      <th>smile</th>\n",
       "      <th>source</th>\n",
       "      <th>weight</th>\n",
       "      <th>logp</th>\n",
       "      <th>score</th>\n",
       "    </tr>\n",
       "  </thead>\n",
       "  <tbody>\n",
       "    <tr>\n",
       "      <th>0</th>\n",
       "      <td>AAXI</td>\n",
       "      <td>2</td>\n",
       "      <td>CC1=CC=C2C(=O)OC(=O)C(Cc3ccccc3)NC(=O)C(C)=CCC...</td>\n",
       "      <td>generated</td>\n",
       "      <td>753.856</td>\n",
       "      <td>4.87358</td>\n",
       "      <td>-11.2</td>\n",
       "    </tr>\n",
       "    <tr>\n",
       "      <th>1</th>\n",
       "      <td>AAHF</td>\n",
       "      <td>4</td>\n",
       "      <td>CC1=CC=C(C)C(=O)NN2CCN3CC(=O)NC(C)C=CC=CC=C(C(...</td>\n",
       "      <td>generated</td>\n",
       "      <td>717.823</td>\n",
       "      <td>4.08010</td>\n",
       "      <td>-11.2</td>\n",
       "    </tr>\n",
       "    <tr>\n",
       "      <th>2</th>\n",
       "      <td>AAUE</td>\n",
       "      <td>4</td>\n",
       "      <td>CC1CCC(NN=C2CCCC=CC=C(NC(=O)c3ccccc3)OCCCCC=CC...</td>\n",
       "      <td>generated</td>\n",
       "      <td>900.221</td>\n",
       "      <td>12.92120</td>\n",
       "      <td>-11.0</td>\n",
       "    </tr>\n",
       "    <tr>\n",
       "      <th>3</th>\n",
       "      <td>ABIM</td>\n",
       "      <td>3</td>\n",
       "      <td>CCCC1(C)C=CC=CC=C2C(C#N)=CC=C2CCc2ccccc2N(C=CC...</td>\n",
       "      <td>generated</td>\n",
       "      <td>658.862</td>\n",
       "      <td>8.33798</td>\n",
       "      <td>-10.7</td>\n",
       "    </tr>\n",
       "    <tr>\n",
       "      <th>4</th>\n",
       "      <td>AANR</td>\n",
       "      <td>3</td>\n",
       "      <td>CC1CCCCC(NC(=O)N2CCC(c3ccccc3)CC2)C2=CC=C(Nc3c...</td>\n",
       "      <td>generated</td>\n",
       "      <td>671.842</td>\n",
       "      <td>7.44508</td>\n",
       "      <td>-10.6</td>\n",
       "    </tr>\n",
       "  </tbody>\n",
       "</table>\n",
       "</div>"
      ],
      "text/plain": [
       "     id  gen                                              smile     source  \\\n",
       "0  AAXI    2  CC1=CC=C2C(=O)OC(=O)C(Cc3ccccc3)NC(=O)C(C)=CCC...  generated   \n",
       "1  AAHF    4  CC1=CC=C(C)C(=O)NN2CCN3CC(=O)NC(C)C=CC=CC=C(C(...  generated   \n",
       "2  AAUE    4  CC1CCC(NN=C2CCCC=CC=C(NC(=O)c3ccccc3)OCCCCC=CC...  generated   \n",
       "3  ABIM    3  CCCC1(C)C=CC=CC=C2C(C#N)=CC=C2CCc2ccccc2N(C=CC...  generated   \n",
       "4  AANR    3  CC1CCCCC(NC(=O)N2CCC(c3ccccc3)CC2)C2=CC=C(Nc3c...  generated   \n",
       "\n",
       "    weight      logp  score  \n",
       "0  753.856   4.87358  -11.2  \n",
       "1  717.823   4.08010  -11.2  \n",
       "2  900.221  12.92120  -11.0  \n",
       "3  658.862   8.33798  -10.7  \n",
       "4  671.842   7.44508  -10.6  "
      ]
     },
     "execution_count": 31,
     "metadata": {},
     "output_type": "execute_result"
    }
   ],
   "source": [
    "# Read the previous generation of csv again\n",
    "# './generations/master_results_table_gen' + str(GLOBAL_GENERATION-1) + '.csv'\n",
    "\n",
    "master_table = pd.read_csv('./generations/master_results_table_gen' + str(GLOBAL_GENERATION-1) + '.csv',sep=',')\n",
    "master_table.head()"
   ]
  },
  {
   "cell_type": "code",
   "execution_count": 32,
   "metadata": {},
   "outputs": [],
   "source": [
    "# Save the list of smiles to train on based on current generation\n",
    "with open('./generations/training/gen' + str(GLOBAL_GENERATION) + '_training.smi', 'w') as f:\n",
    "    for item in training_smiles:\n",
    "        f.write(\"%s\\n\" % item)"
   ]
  },
  {
   "cell_type": "markdown",
   "metadata": {},
   "source": [
    "# GA Cross Over and Mutation (Local)\n",
    "### f) Select 10 from the cross-over and mutation"
   ]
  },
  {
   "cell_type": "code",
   "execution_count": 33,
   "metadata": {},
   "outputs": [],
   "source": [
    "import sys\n",
    "import os\n",
    "import pathlib\n",
    "pathlib.Path().absolute()\n",
    "\n",
    "from genetic_algorithm import crossover as co\n",
    "from genetic_algorithm import mutate as mt"
   ]
  },
  {
   "cell_type": "code",
   "execution_count": 34,
   "metadata": {},
   "outputs": [],
   "source": [
    "def read_file(file_name):\n",
    "    mol_list = []\n",
    "    with open(file_name, 'r') as file:\n",
    "        for smiles in file:\n",
    "            mol_list.append(Chem.MolFromSmiles(smiles))\n",
    "\n",
    "    return mol_list"
   ]
  },
  {
   "cell_type": "code",
   "execution_count": 35,
   "metadata": {},
   "outputs": [],
   "source": [
    "def make_initial_population(population_size, file_name):\n",
    "    \"\"\"\n",
    "    :param population_size: Size of the population\n",
    "    :param file_name: filename in smi\n",
    "    :return: population(list)\n",
    "    \"\"\"\n",
    "    mol_list = read_file(file_name)\n",
    "    population = []\n",
    "    for i in range(population_size):\n",
    "        # Select n random from the population\n",
    "        population.append(random.choice(mol_list))\n",
    "\n",
    "    return population"
   ]
  },
  {
   "cell_type": "code",
   "execution_count": 36,
   "metadata": {
    "scrolled": true
   },
   "outputs": [],
   "source": [
    "def compute_logP_population(mol_list, mating_pool_size):\n",
    "    \"\"\"\n",
    "    Fitness Function. Select survivor of the population to the n number of mating pool based on the logP value. \n",
    "    \n",
    "    :param mol_list: python list of molecule in smiles\n",
    "    :param mating_pool_size: size of the mating pool\n",
    "    :return: population(python list)\n",
    "    \"\"\"\n",
    "    population = []\n",
    "    for mol in mol_list:\n",
    "        logP_val = Descriptors.MolLogP(mol)\n",
    "        mol_logP = [mol, logP_val]\n",
    "        \n",
    "        population.append(mol_logP)\n",
    "    \n",
    "    # Sort population by LogP\n",
    "    population.sort(key=lambda x:x[1])\n",
    "    \n",
    "    # find n number of mating pool size which around 1.35 - 1.8\n",
    "    best_population = [] # Ideal population\n",
    "    upper_population = []\n",
    "    lower_population = []\n",
    "    mean_logP = (1.35 + 1.8)/2\n",
    "    \n",
    "    for mol in population:\n",
    "        if 1.35 <= mol[1] <= 1.8:\n",
    "            best_population.append(mol)\n",
    "        elif mean_logP >= mol[1]:\n",
    "            upper_population.append(mol)\n",
    "        elif mean_logP <= mol[1]:\n",
    "            lower_population.append(mol)\n",
    "        \n",
    "    # Assign mating population to the best population if length is not 0\n",
    "    mating_population = []\n",
    "    if len(best_population) is not 0:\n",
    "        for mol in best_population:\n",
    "            mating_population.append(mol)\n",
    "        \n",
    "    if len(mating_population) < mating_pool_size:\n",
    "        # Remaining needed\n",
    "        remaining = mating_pool_size - len(mating_population)\n",
    "        \n",
    "        # While the list of the mating is less than remaining\n",
    "        i = 0 \n",
    "        while len(mating_population) < remaining:\n",
    "            # print(\"Total mating_population: \",len(mating_population))\n",
    "            # print(\"Total upper_population: \",len(upper_population))\n",
    "            # print(\"Total lower_population: \",len(lower_population))\n",
    "            \n",
    "            #if len(mating_population) is not 0:\n",
    "            try:\n",
    "                # print(\"upper_population\", upper_population[i])\n",
    "                mating_population.append(upper_population[i])\n",
    "            except:\n",
    "                pass\n",
    "                # print(\"Error When append upper population. Append lower population...\")\n",
    "            \n",
    "            #if len(mating_population) is not 0:\n",
    "            try:\n",
    "                # print(\"lower_population\", lower_population[i])\n",
    "                mating_population.append(lower_population[i])\n",
    "            except:\n",
    "                pass\n",
    "                # print(\"Error When append lower population. Append upper population...\")\n",
    "            \n",
    "            i+=1\n",
    "                \n",
    "    # Make Sure its is same with mating_pool_size\n",
    "    mating_population = mating_population[:mating_pool_size]\n",
    "    \n",
    "    # Sort mating_population by LogP\n",
    "    mating_population.sort(key=lambda x:x[1])\n",
    "            \n",
    "    return mating_population\n"
   ]
  },
  {
   "cell_type": "code",
   "execution_count": 37,
   "metadata": {},
   "outputs": [],
   "source": [
    "def reproduce(mating_pool, population_size, mutation_rate):\n",
    "    '''\n",
    "    Function to crossover and mutate. \n",
    "    '''\n",
    "    new_population = []\n",
    "\n",
    "    while len(new_population) < population_size:\n",
    "        parent_A = random.choice(mating_pool)\n",
    "        parent_B = random.choice(mating_pool)\n",
    "        new_child = co.crossover(parent_A, parent_B)\n",
    "\n",
    "        if new_child is not None:            \n",
    "            mutated_child = mt.mutate(new_child, mutation_rate)\n",
    "            if mutated_child is not None:\n",
    "                # print(','.join([Chem.MolToSmiles(mutated_child),Chem.MolToSmiles(new_child),Chem.MolToSmiles(parent_A),Chem.MolToSmiles(parent_B)]))\n",
    "                new_population.append(mutated_child)\n",
    "\n",
    "    return new_population"
   ]
  },
  {
   "cell_type": "code",
   "execution_count": 38,
   "metadata": {},
   "outputs": [],
   "source": [
    "# Create initial population generation 0\n",
    "population_size = 300\n",
    "population = make_initial_population(population_size, './generations/training/gen' + str(GLOBAL_GENERATION) + '_training.smi')\n"
   ]
  },
  {
   "cell_type": "code",
   "execution_count": 39,
   "metadata": {
    "scrolled": false
   },
   "outputs": [
    {
     "name": "stdout",
     "output_type": "stream",
     "text": [
      "Generation 0: Minimum, Maximum: 1.3736999999999997, 1.7979999999999998 \n",
      "\n",
      "Generation 1: Minimum, Maximum: 1.3524799999999997, 1.6866 \n",
      "\n"
     ]
    }
   ],
   "source": [
    "# Cross-Over and Mutation\n",
    "mutation_rate = 0.05\n",
    "total_generation = 5000\n",
    "mating_pool = 50 # make sure this is smaller or equal to the population \n",
    "\n",
    "# generation 0\n",
    "gen_population = reproduce(population, population_size, mutation_rate)\n",
    "new_population_list = compute_logP_population(gen_population, mating_pool)\n",
    "new_population = [mol[0] for mol in new_population_list]\n",
    "Logp = [logP[1] for logP in new_population_list]\n",
    "minimum_LogP = min(Logp)\n",
    "maximum_LogP = max(Logp)\n",
    "\n",
    "# print(\"Generation 0: \\n{}\".format(Logp))\n",
    "print(\"Generation 0: Minimum, Maximum: {}, {} \\n\".format(minimum_LogP, maximum_LogP))\n",
    "\n",
    "# generation 1 and above\n",
    "for gen in range(1, total_generation):\n",
    "    gen_population = reproduce(new_population, population_size, mutation_rate)\n",
    "    new_population_list = compute_logP_population(gen_population, mating_pool)\n",
    "    \n",
    "    new_population = [mol[0] for mol in new_population_list]\n",
    "    Logp = [logP[1] for logP in new_population_list]\n",
    "    minimum_LogP = min(Logp)\n",
    "    maximum_LogP = max(Logp)\n",
    "    \n",
    "    # print(\"Generation {}: \\n{}\".format(gen, Logp))\n",
    "    print(\"Generation {}: Minimum, Maximum: {}, {} \\n\".format(gen, minimum_LogP, maximum_LogP))\n",
    "    \n",
    "    \n",
    "    if (min(Logp) >= 1.35 and max(Logp) <= 1.8):\n",
    "        break"
   ]
  },
  {
   "cell_type": "code",
   "execution_count": 40,
   "metadata": {},
   "outputs": [
    {
     "data": {
      "text/plain": [
       "50"
      ]
     },
     "execution_count": 40,
     "metadata": {},
     "output_type": "execute_result"
    }
   ],
   "source": [
    "len(new_population)"
   ]
  },
  {
   "cell_type": "code",
   "execution_count": 41,
   "metadata": {
    "scrolled": true
   },
   "outputs": [],
   "source": [
    "# new_population_smile = validate_mols(Chem.MolToSmiles(new_population))\n",
    "new_population_smile = []\n",
    "new_population_smile = [Chem.MolToSmiles(mol) for mol in new_population]"
   ]
  },
  {
   "cell_type": "code",
   "execution_count": 42,
   "metadata": {},
   "outputs": [
    {
     "data": {
      "text/plain": [
       "['N#CC#CC(=O)Nc1nnnn1C1=C(O)CC=C1c1ccccc1',\n",
       " 'CC(C)F',\n",
       " 'CC(C)F',\n",
       " 'CC(C)F',\n",
       " 'CC(=O)OCC1=C(CC(C)C(=O)N(C)C)COCC1',\n",
       " 'O=C(O)c1ccccc1',\n",
       " 'O=C(O)c1ccccc1',\n",
       " 'O=C(O)c1ccccc1',\n",
       " 'OC1=CC=CC1',\n",
       " 'OC1=CC=CC1']"
      ]
     },
     "execution_count": 42,
     "metadata": {},
     "output_type": "execute_result"
    }
   ],
   "source": [
    "new_population_smile[0:10]"
   ]
  },
  {
   "cell_type": "code",
   "execution_count": 43,
   "metadata": {},
   "outputs": [],
   "source": [
    "new_population_smile = validate_mols(new_population_smile) # Validate\n",
    "new_population_smile = [Chem.MolToSmiles(mol) for mol in new_population] # Convert back to smile"
   ]
  },
  {
   "cell_type": "code",
   "execution_count": 44,
   "metadata": {},
   "outputs": [],
   "source": [
    "original_population_smile = [Chem.MolToSmiles(mol) for mol in population]"
   ]
  },
  {
   "cell_type": "code",
   "execution_count": 45,
   "metadata": {
    "scrolled": false
   },
   "outputs": [],
   "source": [
    "# Final Population (Cross-Over + Heuristic Population)\n",
    "population_for_tl = original_population_smile + new_population_smile\n",
    "population_for_tl = list(dict.fromkeys(population_for_tl)) # Remove Duplicate in the list\n",
    "# population_for_tl"
   ]
  },
  {
   "cell_type": "code",
   "execution_count": 46,
   "metadata": {},
   "outputs": [
    {
     "data": {
      "text/plain": [
       "86"
      ]
     },
     "execution_count": 46,
     "metadata": {},
     "output_type": "execute_result"
    }
   ],
   "source": [
    "len(population_for_tl)"
   ]
  },
  {
   "cell_type": "code",
   "execution_count": 47,
   "metadata": {},
   "outputs": [],
   "source": [
    "# Save the list of smiles to train later in Transfer learning\n",
    "with open('./generations/training/gen' + str(GLOBAL_GENERATION) + '_training.smi', 'w') as f:\n",
    "    for item in population_for_tl:\n",
    "        f.write(\"%s\\n\" % item)"
   ]
  },
  {
   "cell_type": "markdown",
   "metadata": {},
   "source": [
    "\n",
    "## Retrain the network to create molecules more like those selected above"
   ]
  },
  {
   "cell_type": "code",
   "execution_count": 48,
   "metadata": {},
   "outputs": [],
   "source": [
    "from lstm_chem.finetuner import LSTMChemFinetuner"
   ]
  },
  {
   "cell_type": "code",
   "execution_count": 49,
   "metadata": {},
   "outputs": [
    {
     "name": "stdout",
     "output_type": "stream",
     "text": [
      "batch_size: 512\n",
      "checkpoint_dir: experiments\\2019-12-23\\LSTM_Chem\\checkpoints/\n",
      "checkpoint_mode: min\n",
      "checkpoint_monitor: val_loss\n",
      "checkpoint_save_best_only: false\n",
      "checkpoint_save_weights_only: true\n",
      "checkpoint_verbose: 1\n",
      "config_file: experiments/2019-12-23/LSTM_Chem/config.json\n",
      "data_filename: ./datasets/all_smiles_clean.smi\n",
      "data_length: 0\n",
      "exp_dir: experiments\\2019-12-23\\LSTM_Chem\n",
      "exp_name: LSTM_Chem\n",
      "finetune_batch_size: 1\n",
      "finetune_data_filename: ./generations/training/gen5_training.smi\n",
      "finetune_epochs: 5\n",
      "model_arch_filename: experiments/2019-12-23/LSTM_Chem/model_arch.json\n",
      "model_weight_filename: experiments/2019-12-23/LSTM_Chem/checkpoints/finetuned_gen4.hdf5\n",
      "num_epochs: 42\n",
      "optimizer: adam\n",
      "sampling_temp: 0.75\n",
      "seed: 71\n",
      "smiles_max_length: 128\n",
      "tensorboard_log_dir: experiments\\2019-12-23\\LSTM_Chem\\logs/\n",
      "tensorboard_write_graph: true\n",
      "train_smi_max_len: 128\n",
      "units: 256\n",
      "validation_split: 0.1\n",
      "verbose_training: true\n",
      "\n"
     ]
    }
   ],
   "source": [
    "config = process_config('experiments/2019-12-23/LSTM_Chem/config.json')\n",
    "config['model_weight_filename'] = 'experiments/2019-12-23/LSTM_Chem/checkpoints/finetuned_gen' + str(GLOBAL_GENERATION-1) + '.hdf5'\n",
    "config['finetune_data_filename'] = './generations/training/gen' + str(GLOBAL_GENERATION) + '_training.smi'\n",
    "print(config)"
   ]
  },
  {
   "cell_type": "code",
   "execution_count": 50,
   "metadata": {
    "scrolled": true
   },
   "outputs": [
    {
     "name": "stdout",
     "output_type": "stream",
     "text": [
      "Loading model architecture from experiments/2019-12-23/LSTM_Chem/model_arch.json ...\n"
     ]
    },
    {
     "name": "stderr",
     "output_type": "stream",
     "text": [
      "100%|██████████| 86/86 [00:00<00:00, 2872.44it/s]"
     ]
    },
    {
     "name": "stdout",
     "output_type": "stream",
     "text": [
      "Loading model checkpoint from experiments/2019-12-23/LSTM_Chem/checkpoints/finetuned_gen4.hdf5 ...\n",
      "Loaded the Model.\n",
      "loading SMILES...\n",
      "done.\n",
      "tokenizing SMILES...\n",
      "done.\n",
      "WARNING:tensorflow:From C:\\Users\\user\\Documents\\UTeM Year 2 Sem 2\\BITI2513 - Introduction to Data Science\\Forkwel  Corona Virus Hackathon\\deep_learning_coronavirus_cure\\lstm_chem\\finetuner.py:24: Model.fit_generator (from tensorflow.python.keras.engine.training) is deprecated and will be removed in a future version.\n",
      "Instructions for updating:\n",
      "Please use Model.fit, which supports generators.\n",
      "WARNING:tensorflow:sample_weight modes were coerced from\n",
      "  ...\n",
      "    to  \n",
      "  ['...']\n",
      "Train for 86 steps\n",
      "Epoch 1/5\n"
     ]
    },
    {
     "name": "stderr",
     "output_type": "stream",
     "text": [
      "\n"
     ]
    },
    {
     "name": "stdout",
     "output_type": "stream",
     "text": [
      "WARNING:tensorflow:multiprocessing can interact badly with TensorFlow, causing nondeterministic deadlocks. For high performance data pipelines tf.data is recommended.\n",
      "77/86 [=========================>....] - ETA: 0s - loss: 1.1650 - acc: 0.6284 - mae: 0.0182WARNING:tensorflow:multiprocessing can interact badly with TensorFlow, causing nondeterministic deadlocks. For high performance data pipelines tf.data is recommended.\n",
      "86/86 [==============================] - 9s 105ms/step - loss: 1.1949 - acc: 0.6323 - mae: 0.0180\n",
      "Epoch 2/5\n",
      "WARNING:tensorflow:multiprocessing can interact badly with TensorFlow, causing nondeterministic deadlocks. For high performance data pipelines tf.data is recommended.\n",
      "77/86 [=========================>....] - ETA: 1s - loss: 1.0217 - acc: 0.6505 - mae: 0.0172WARNING:tensorflow:multiprocessing can interact badly with TensorFlow, causing nondeterministic deadlocks. For high performance data pipelines tf.data is recommended.\n",
      "86/86 [==============================] - 9s 104ms/step - loss: 1.0361 - acc: 0.6485 - mae: 0.0173\n",
      "Epoch 3/5\n",
      "WARNING:tensorflow:multiprocessing can interact badly with TensorFlow, causing nondeterministic deadlocks. For high performance data pipelines tf.data is recommended.\n",
      "77/86 [=========================>....] - ETA: 0s - loss: 1.0284 - acc: 0.6423 - mae: 0.0175WARNING:tensorflow:multiprocessing can interact badly with TensorFlow, causing nondeterministic deadlocks. For high performance data pipelines tf.data is recommended.\n",
      "86/86 [==============================] - 9s 107ms/step - loss: 1.0209 - acc: 0.6496 - mae: 0.0174\n",
      "Epoch 4/5\n",
      "WARNING:tensorflow:multiprocessing can interact badly with TensorFlow, causing nondeterministic deadlocks. For high performance data pipelines tf.data is recommended.\n",
      "78/86 [==========================>...] - ETA: 0s - loss: 0.9919 - acc: 0.6532 - mae: 0.0172WARNING:tensorflow:multiprocessing can interact badly with TensorFlow, causing nondeterministic deadlocks. For high performance data pipelines tf.data is recommended.\n",
      "86/86 [==============================] - 9s 102ms/step - loss: 1.0053 - acc: 0.6529 - mae: 0.0172\n",
      "Epoch 5/5\n",
      "WARNING:tensorflow:multiprocessing can interact badly with TensorFlow, causing nondeterministic deadlocks. For high performance data pipelines tf.data is recommended.\n",
      "77/86 [=========================>....] - ETA: 0s - loss: 1.0445 - acc: 0.6306 - mae: 0.0182WARNING:tensorflow:multiprocessing can interact badly with TensorFlow, causing nondeterministic deadlocks. For high performance data pipelines tf.data is recommended.\n",
      "86/86 [==============================] - 9s 104ms/step - loss: 1.0513 - acc: 0.6268 - mae: 0.0184\n"
     ]
    }
   ],
   "source": [
    "modeler = LSTMChem(config, session='finetune')\n",
    "finetune_dl = DataLoader(config, data_type='finetune')\n",
    "\n",
    "finetuner = LSTMChemFinetuner(modeler, finetune_dl)\n",
    "history = finetuner.finetune()"
   ]
  },
  {
   "cell_type": "code",
   "execution_count": 51,
   "metadata": {},
   "outputs": [
    {
     "data": {
      "image/png": "[encoded data removed]",
      "text/plain": [
       "<Figure size 432x288 with 1 Axes>"
      ]
     },
     "metadata": {
      "needs_background": "light"
     },
     "output_type": "display_data"
    }
   ],
   "source": [
    "from matplotlib import pyplot\n",
    "\n",
    "pyplot.plot(history.history['loss'])\n",
    "pyplot.ylabel('loss')\n",
    "pyplot.xlabel('epoch')\n",
    "pyplot.legend(['train', 'validation'], loc='upper right')\n",
    "pyplot.show()"
   ]
  },
  {
   "cell_type": "code",
   "execution_count": 52,
   "metadata": {},
   "outputs": [],
   "source": [
    "finetuner.model.save_weights('experiments/2019-12-23/LSTM_Chem/checkpoints/finetuned_gen' + str(GLOBAL_GENERATION) + '.hdf5')"
   ]
  },
  {
   "cell_type": "code",
   "execution_count": 53,
   "metadata": {},
   "outputs": [
    {
     "name": "stdout",
     "output_type": "stream",
     "text": [
      "Loading model architecture from experiments/2019-12-23/LSTM_Chem/model_arch.json ...\n",
      "Loading model checkpoint from experiments/2019-12-23/LSTM_Chem/checkpoints/finetuned_gen5.hdf5 ...\n",
      "Loaded the Model.\n",
      "batch_size: 512\n",
      "checkpoint_dir: experiments\\2019-12-23\\LSTM_Chem\\checkpoints/\n",
      "checkpoint_mode: min\n",
      "checkpoint_monitor: val_loss\n",
      "checkpoint_save_best_only: false\n",
      "checkpoint_save_weights_only: true\n",
      "checkpoint_verbose: 1\n",
      "config_file: experiments/2019-12-23/LSTM_Chem/config.json\n",
      "data_filename: ./datasets/all_smiles_clean.smi\n",
      "data_length: 0\n",
      "exp_dir: experiments\\2019-12-23\\LSTM_Chem\n",
      "exp_name: LSTM_Chem\n",
      "finetune_batch_size: 1\n",
      "finetune_data_filename: ./generations/training/gen5_training.smi\n",
      "finetune_epochs: 5\n",
      "model_arch_filename: experiments/2019-12-23/LSTM_Chem/model_arch.json\n",
      "model_weight_filename: experiments/2019-12-23/LSTM_Chem/checkpoints/finetuned_gen5.hdf5\n",
      "num_epochs: 42\n",
      "optimizer: adam\n",
      "sampling_temp: 0.75\n",
      "seed: 71\n",
      "smiles_max_length: 128\n",
      "tensorboard_log_dir: experiments\\2019-12-23\\LSTM_Chem\\logs/\n",
      "tensorboard_write_graph: true\n",
      "train_smi_max_len: 128\n",
      "units: 256\n",
      "validation_split: 0.1\n",
      "verbose_training: true\n",
      "\n"
     ]
    }
   ],
   "source": [
    "# used the fine tuned weight to generate 5k of data\n",
    "config['model_weight_filename'] = 'experiments/2019-12-23/LSTM_Chem/checkpoints/finetuned_gen' + str(GLOBAL_GENERATION) + '.hdf5'\n",
    "modeler = LSTMChem(config, session='generate')\n",
    "generator = LSTMChemGenerator(modeler)\n",
    "print(config)"
   ]
  },
  {
   "cell_type": "code",
   "execution_count": 54,
   "metadata": {
    "scrolled": true
   },
   "outputs": [
    {
     "name": "stderr",
     "output_type": "stream",
     "text": [
      "100%|██████████| 5000/5000 [10:06<00:00,  8.24it/s]\n"
     ]
    }
   ],
   "source": [
    "sample_number = 5000\n",
    "sampled_smiles = generator.sample(num=sample_number)"
   ]
  },
  {
   "cell_type": "code",
   "execution_count": 55,
   "metadata": {},
   "outputs": [
    {
     "name": "stdout",
     "output_type": "stream",
     "text": [
      "Validity:  89.00%\n",
      "Uniqueness:  22.61%\n",
      "Originality:  100.00%\n"
     ]
    }
   ],
   "source": [
    "valid_mols = []\n",
    "for smi in sampled_smiles:\n",
    "    mol = Chem.MolFromSmiles(smi)\n",
    "    if mol is not None:\n",
    "        valid_mols.append(mol)\n",
    "# low validity\n",
    "print('Validity: ', f'{len(valid_mols) / sample_number:.2%}')\n",
    "valid_smiles = [Chem.MolToSmiles(mol) for mol in valid_mols]\n",
    "\n",
    "# high uniqueness\n",
    "print('Uniqueness: ', f'{len(set(valid_smiles)) / len(valid_smiles):.2%}')\n",
    "\n",
    "# Of valid smiles generated, how many are truly original vs ocurring in the training data\n",
    "import pandas as pd\n",
    "training_data = pd.read_csv('./datasets/all_smiles_clean.smi', header=None)\n",
    "training_set = set(list(training_data[0]))\n",
    "original = []\n",
    "for smile in list(set(valid_smiles)):\n",
    "    if not smile in training_set:\n",
    "        original.append(smile)\n",
    "print('Originality: ', f'{len(set(original)) / len(set(valid_smiles)):.2%}')"
   ]
  },
  {
   "cell_type": "code",
   "execution_count": 56,
   "metadata": {},
   "outputs": [
    {
     "data": {
      "text/plain": [
       "1006"
      ]
     },
     "execution_count": 56,
     "metadata": {},
     "output_type": "execute_result"
    }
   ],
   "source": [
    "valid_smiles = list(set(valid_smiles))\n",
    "len(valid_smiles)"
   ]
  },
  {
   "cell_type": "code",
   "execution_count": 57,
   "metadata": {},
   "outputs": [],
   "source": [
    "mols_for_next_generation = validate_mols(valid_smiles)"
   ]
  },
  {
   "cell_type": "raw",
   "metadata": {},
   "source": [
    "# take the valid smiles from above and run them through process \n",
    "# to add to tracking table and to generate next PyRx testing data\n",
    "mols_for_next_generation = validate_mols(valid_smiles)\n",
    "\n",
    "# Get the master table from previous generations and append it \n",
    "master_table = pd.read_csv('./generations/master_results_table_gen' + str(GLOBAL_GENERATION-1) +'.csv',sep=',')\n",
    "new_mols_to_test = append_to_tracking_table(master_table,mols_for_next_generation, 'generated', GLOBAL_GENERATION)\n",
    "mols_for_pd = new_mols_to_test[0]\n",
    "mols_for_export = new_mols_to_test[1]\n",
    "\n",
    "# Save the whole details in new table with current generations\n",
    "master_table = master_table.append(mols_for_pd)\n",
    "master_table = master_table.reset_index(drop=True)\n",
    "master_table.to_csv(r'./generations/master_results_table_gen' + str(GLOBAL_GENERATION) + '.csv', index=False)"
   ]
  },
  {
   "cell_type": "markdown",
   "metadata": {},
   "source": [
    "# Cross-Over and Mutation Part 2 (Local)"
   ]
  },
  {
   "cell_type": "code",
   "execution_count": 58,
   "metadata": {},
   "outputs": [
    {
     "name": "stdout",
     "output_type": "stream",
     "text": [
      "Generation 0: Minimum, Maximum: 1.3647, 1.7656 \n",
      "\n",
      "Generation 1: Minimum, Maximum: 1.3848, 1.7193 \n",
      "\n"
     ]
    }
   ],
   "source": [
    "# Cross-Over and Mutation\n",
    "mutation_rate = 0.05\n",
    "total_generation = 5000\n",
    "mating_pool = 50 # make sure this is smaller or equal to the population \n",
    "\n",
    "# generation 0\n",
    "gen_population = reproduce(mols_for_next_generation, population_size, mutation_rate)\n",
    "new_population_list = compute_logP_population(gen_population, mating_pool)\n",
    "new_population = [mol[0] for mol in new_population_list]\n",
    "Logp = [logP[1] for logP in new_population_list]\n",
    "minimum_LogP = min(Logp)\n",
    "maximum_LogP = max(Logp)\n",
    "\n",
    "# print(\"Generation 0: \\n{}\".format(Logp))\n",
    "print(\"Generation 0: Minimum, Maximum: {}, {} \\n\".format(minimum_LogP, maximum_LogP))\n",
    "\n",
    "# generation 1 and above\n",
    "for gen in range(1, total_generation):\n",
    "    gen_population = reproduce(new_population, population_size, mutation_rate)\n",
    "    new_population_list = compute_logP_population(gen_population, mating_pool)\n",
    "    \n",
    "    new_population = [mol[0] for mol in new_population_list]\n",
    "    Logp = [logP[1] for logP in new_population_list]\n",
    "    minimum_LogP = min(Logp)\n",
    "    maximum_LogP = max(Logp)\n",
    "    \n",
    "    print(\"Generation {}: Minimum, Maximum: {}, {} \\n\".format(gen, minimum_LogP, maximum_LogP))\n",
    "    \n",
    "    if (min(Logp) >= 1.35 and max(Logp) <= 1.8):\n",
    "        break"
   ]
  },
  {
   "cell_type": "code",
   "execution_count": 59,
   "metadata": {},
   "outputs": [],
   "source": [
    "population_co_after_train = [Chem.MolToSmiles(mol) for mol in new_population] # Convert to smile\n",
    "population_co_after_train = validate_mols(population_co_after_train) # Validate molecule\n",
    "population_co_after_train = list(dict.fromkeys(population_co_after_train)) # Remove Duplicate in the list"
   ]
  },
  {
   "cell_type": "code",
   "execution_count": 60,
   "metadata": {},
   "outputs": [
    {
     "data": {
      "text/plain": [
       "[<rdkit.Chem.rdchem.Mol at 0x18113758a28>,\n",
       " <rdkit.Chem.rdchem.Mol at 0x18061383ef8>,\n",
       " <rdkit.Chem.rdchem.Mol at 0x18061347a80>,\n",
       " <rdkit.Chem.rdchem.Mol at 0x181137571e8>,\n",
       " <rdkit.Chem.rdchem.Mol at 0x18113758088>]"
      ]
     },
     "execution_count": 60,
     "metadata": {},
     "output_type": "execute_result"
    }
   ],
   "source": [
    "new_population[:5]"
   ]
  },
  {
   "cell_type": "code",
   "execution_count": 61,
   "metadata": {},
   "outputs": [],
   "source": [
    "# Append the cross-over result to the mols for export\n",
    "# population_co_after_train: This is from the local cross-over\n",
    "# mols_for_next_generation: This is from the generated 5k data\n",
    "# mols_for_export: Combine mols_for_next_generation + population_co_after_train\n",
    "\n",
    "mols_for_export = mols_for_next_generation + population_co_after_train\n",
    "mols_crossover = population_co_after_train\n",
    "mols_transfer_learning = mols_for_next_generation"
   ]
  },
  {
   "cell_type": "code",
   "execution_count": 62,
   "metadata": {},
   "outputs": [],
   "source": [
    "# Change the variables from mols_for_export -> valid_smiles\n",
    "\n",
    "# valid_smiles = list(set(mols_for_export))\n",
    "# len(valid_smiles)\n",
    "\n",
    "valid_smiles_crossover = list(set(mols_crossover))\n",
    "valid_smiles_transfer_learning = list(set(mols_transfer_learning))\n"
   ]
  },
  {
   "cell_type": "code",
   "execution_count": 63,
   "metadata": {},
   "outputs": [],
   "source": [
    "# take the valid smiles from above and run them through process \n",
    "# to add to tracking table and to generate next PyRx testing data\n",
    "\n",
    "# valid_smiles -> mols_for_next_generation\n",
    "# mols_for_next_generation = validate_mols([Chem.MolToSmiles(mol) for mol in valid_smiles])\n",
    "\n",
    "mols_crossover = validate_mols([Chem.MolToSmiles(mol) for mol in valid_smiles_crossover])\n",
    "mols_transfer_learning = validate_mols([Chem.MolToSmiles(mol) for mol in valid_smiles_transfer_learning])\n",
    "\n",
    "# Get the master table from previous generations and append it \n",
    "master_table = pd.read_csv('./generations/master_results_table_gen' + str(GLOBAL_GENERATION-1) +'.csv',sep=',')\n",
    "\n",
    "# dropping ALL duplicate values \n",
    "master_table.drop_duplicates(subset =\"smile\", keep = False, inplace = True) \n",
    "\n",
    "# Add to the tracking table\n",
    "# new_mols_to_test = append_to_tracking_table(master_table,mols_for_next_generation, 'generated', GLOBAL_GENERATION)\n",
    "# mols_for_pd = new_mols_to_test[0]\n",
    "# mols_for_export = new_mols_to_test[1]\n",
    "\n",
    "\n",
    "# Add cross-over molecule to the master table\n",
    "new_mols_to_test_crossover = append_to_tracking_table(master_table,mols_crossover, 'genetic_algorithm', GLOBAL_GENERATION)\n",
    "mols_for_pd_crossover = new_mols_to_test_crossover[0]\n",
    "mols_for_export_crossover = new_mols_to_test_crossover[1]\n",
    "\n",
    "# Add transfer learning molecule to the master table\n",
    "new_mols_to_test_transfer_learning = append_to_tracking_table(master_table,mols_transfer_learning, 'generated', GLOBAL_GENERATION)\n",
    "mols_for_pd_transfer_learning = new_mols_to_test_transfer_learning[0]\n",
    "mols_for_export_transfer_learning = new_mols_to_test_transfer_learning[1]\n",
    "\n",
    "# Join cross-over molecule with transfer learning\n",
    "mols_for_pd = mols_for_pd_crossover.append(mols_for_pd_transfer_learning)\n",
    "mols_for_export = mols_for_export_crossover + mols_for_export_transfer_learning\n",
    "\n",
    "# Save the whole details in new table with current generations\n",
    "master_table = master_table.append(mols_for_pd)\n",
    "master_table = master_table.reset_index(drop=True)\n",
    "master_table.to_csv(r'./generations/master_results_table_gen' + str(GLOBAL_GENERATION) + '.csv', index=False)"
   ]
  },
  {
   "cell_type": "code",
   "execution_count": 64,
   "metadata": {
    "scrolled": true
   },
   "outputs": [
    {
     "data": {
      "text/plain": [
       "(7082, 7)"
      ]
     },
     "execution_count": 64,
     "metadata": {},
     "output_type": "execute_result"
    }
   ],
   "source": [
    "master_table.shape"
   ]
  },
  {
   "cell_type": "code",
   "execution_count": 65,
   "metadata": {},
   "outputs": [
    {
     "data": {
      "text/plain": [
       "1056"
      ]
     },
     "execution_count": 65,
     "metadata": {},
     "output_type": "execute_result"
    }
   ],
   "source": [
    "len(mols_for_export)"
   ]
  },
  {
   "cell_type": "code",
   "execution_count": 66,
   "metadata": {},
   "outputs": [],
   "source": [
    "# dropping ALL duplicate values \n",
    "master_table.drop_duplicates(subset =\"smile\", keep = False, inplace = True) "
   ]
  },
  {
   "cell_type": "code",
   "execution_count": 67,
   "metadata": {},
   "outputs": [
    {
     "name": "stdout",
     "output_type": "stream",
     "text": [
      "ok\n"
     ]
    }
   ],
   "source": [
    "write_gen_to_sdf(mols_for_export, GLOBAL_GENERATION, 2000)\n",
    "print('ok')"
   ]
  },
  {
   "cell_type": "code",
   "execution_count": null,
   "metadata": {},
   "outputs": [],
   "source": []
  },
  {
   "cell_type": "code",
   "execution_count": null,
   "metadata": {},
   "outputs": [],
   "source": []
  }
 ],
 "metadata": {
  "kernelspec": {
   "display_name": "Python 3",
   "language": "python",
   "name": "python3"
  },
  "language_info": {
   "codemirror_mode": {
    "name": "ipython",
    "version": 3
   },
   "file_extension": ".py",
   "mimetype": "text/x-python",
   "name": "python",
   "nbconvert_exporter": "python",
   "pygments_lexer": "ipython3",
   "version": "3.6.10"
  }
 },
 "nbformat": 4,
 "nbformat_minor": 4
}
